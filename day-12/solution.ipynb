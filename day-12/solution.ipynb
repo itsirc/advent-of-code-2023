{
 "cells": [
  {
   "cell_type": "code",
   "execution_count": 1,
   "id": "6da6318b-8fcc-45bc-b61d-cdbe053ba24f",
   "metadata": {},
   "outputs": [],
   "source": [
    "def get_input(fname='test.txt'):\n",
    "    input = []\n",
    "    with open(fname) as f:\n",
    "        for l in f.readlines():\n",
    "            line = l.rstrip()\n",
    "            parts = line.split(' ')\n",
    "            input.append(dict(springs=list(parts[0]), sizes=[int(i) for i in parts[-1].split(',')]))\n",
    "    return input"
   ]
  },
  {
   "cell_type": "code",
   "execution_count": 2,
   "id": "5f423515-a072-4ced-bde7-152448231c41",
   "metadata": {},
   "outputs": [],
   "source": [
    "test_input = get_input('test.txt')\n",
    "my_input = get_input('input.txt')"
   ]
  },
  {
   "cell_type": "code",
   "execution_count": 3,
   "id": "83c6027d-0c39-450a-a48f-a59be0f6c9bd",
   "metadata": {},
   "outputs": [
    {
     "data": {
      "text/plain": [
       "[{'springs': ['?', '?', '?', '.', '#', '#', '#'], 'sizes': [1, 1, 3]},\n",
       " {'springs': ['.',\n",
       "   '?',\n",
       "   '?',\n",
       "   '.',\n",
       "   '.',\n",
       "   '?',\n",
       "   '?',\n",
       "   '.',\n",
       "   '.',\n",
       "   '.',\n",
       "   '?',\n",
       "   '#',\n",
       "   '#',\n",
       "   '.'],\n",
       "  'sizes': [1, 1, 3]},\n",
       " {'springs': ['?',\n",
       "   '#',\n",
       "   '?',\n",
       "   '#',\n",
       "   '?',\n",
       "   '#',\n",
       "   '?',\n",
       "   '#',\n",
       "   '?',\n",
       "   '#',\n",
       "   '?',\n",
       "   '#',\n",
       "   '?',\n",
       "   '#',\n",
       "   '?'],\n",
       "  'sizes': [1, 3, 1, 6]},\n",
       " {'springs': ['?', '?', '?', '?', '.', '#', '.', '.', '.', '#', '.', '.', '.'],\n",
       "  'sizes': [4, 1, 1]},\n",
       " {'springs': ['?',\n",
       "   '?',\n",
       "   '?',\n",
       "   '?',\n",
       "   '.',\n",
       "   '#',\n",
       "   '#',\n",
       "   '#',\n",
       "   '#',\n",
       "   '#',\n",
       "   '#',\n",
       "   '.',\n",
       "   '.',\n",
       "   '#',\n",
       "   '#',\n",
       "   '#',\n",
       "   '#',\n",
       "   '#',\n",
       "   '.'],\n",
       "  'sizes': [1, 6, 5]},\n",
       " {'springs': ['?', '#', '#', '#', '?', '?', '?', '?', '?', '?', '?', '?'],\n",
       "  'sizes': [3, 2, 1]}]"
      ]
     },
     "execution_count": 3,
     "metadata": {},
     "output_type": "execute_result"
    }
   ],
   "source": [
    "test_input"
   ]
  },
  {
   "cell_type": "code",
   "execution_count": 4,
   "id": "b1b86cb8-7bea-442d-8e98-92b81e320569",
   "metadata": {},
   "outputs": [],
   "source": [
    "from collections import deque\n",
    "\n",
    "def arrangements(springs=[], sizes=[]):\n",
    "    springs = deque(springs)\n",
    "    sizes = deque(sizes)\n",
    "    if len(sizes) == 0:\n",
    "        return int('#' not in springs)\n",
    "    if not springs:\n",
    "        return set(sizes) == { 0 }\n",
    "    if springs[0] == '#':\n",
    "        while sizes[0] > 0 and springs:\n",
    "            if springs.popleft() == '.':\n",
    "                return 0\n",
    "            sizes[0] -= 1\n",
    "        if sizes[0] > 0:\n",
    "            return 0\n",
    "        if sizes[0] == 0:\n",
    "            if springs and springs[0] == '#':\n",
    "                return 0\n",
    "            sizes.popleft()\n",
    "            if len(sizes) == 0:\n",
    "                return int('#' not in springs)\n",
    "            if not springs:\n",
    "                return 0\n",
    "            springs.popleft()\n",
    "            return arrangements(springs, sizes)\n",
    "    # non-#, sizes > 0\n",
    "    while springs and springs[0] == '.':\n",
    "        springs.popleft()\n",
    "    if springs and springs[0] == '?':\n",
    "        springs[0] = '#'\n",
    "        v1 = arrangements(springs, sizes)\n",
    "        springs.popleft()\n",
    "        v2 = arrangements(springs, sizes)\n",
    "        return v1 + v2\n",
    "    else:\n",
    "        return arrangements(springs, sizes)\n",
    "    return None"
   ]
  },
  {
   "cell_type": "code",
   "execution_count": 5,
   "id": "9143ab14-5d6e-4e61-8305-2442eb48f8d6",
   "metadata": {},
   "outputs": [
    {
     "data": {
      "text/plain": [
       "1"
      ]
     },
     "execution_count": 5,
     "metadata": {},
     "output_type": "execute_result"
    }
   ],
   "source": [
    "arrangements(**test_input[0])"
   ]
  },
  {
   "cell_type": "code",
   "execution_count": 6,
   "id": "b7e198cc-41cc-4e75-b7e5-93e04a50585b",
   "metadata": {},
   "outputs": [
    {
     "data": {
      "text/plain": [
       "2"
      ]
     },
     "execution_count": 6,
     "metadata": {},
     "output_type": "execute_result"
    }
   ],
   "source": [
    "arrangements(['#', '.', '?', '?'], [1, 1])"
   ]
  },
  {
   "cell_type": "code",
   "execution_count": 7,
   "id": "d3175776-0f4f-48db-a5b4-1b5587a3527b",
   "metadata": {},
   "outputs": [
    {
     "data": {
      "text/plain": [
       "[1, 4, 1, 1, 4, 10]"
      ]
     },
     "execution_count": 7,
     "metadata": {},
     "output_type": "execute_result"
    }
   ],
   "source": [
    "[arrangements(**i) for i in test_input]"
   ]
  },
  {
   "cell_type": "code",
   "execution_count": 8,
   "id": "d2c380e0-f673-4cd7-85b4-b4581b8c352f",
   "metadata": {},
   "outputs": [
    {
     "data": {
      "text/plain": [
       "6827"
      ]
     },
     "execution_count": 8,
     "metadata": {},
     "output_type": "execute_result"
    }
   ],
   "source": [
    "sum(arrangements(**i) for i in my_input)"
   ]
  },
  {
   "cell_type": "code",
   "execution_count": 9,
   "id": "03be4eea-698c-4634-bb9e-5df3514e640e",
   "metadata": {},
   "outputs": [],
   "source": [
    "def expand_input(springs=[], sizes=[]):\n",
    "    return '?'.join([''.join(springs)] * 5), tuple(sizes * 5)"
   ]
  },
  {
   "cell_type": "code",
   "execution_count": 10,
   "id": "ce808ec8-adbb-430f-bb1c-ff56b120963a",
   "metadata": {},
   "outputs": [],
   "source": [
    "from collections import deque\n",
    "from functools import cache\n",
    "\n",
    "@cache\n",
    "def arrangements_opt(springs=[], sizes=[]):\n",
    "    springs = deque(springs)\n",
    "    sizes = deque(sizes)\n",
    "    while springs and springs[0] == '.':\n",
    "        springs.popleft()\n",
    "    if not sizes:\n",
    "        return '#' not in springs\n",
    "    if not springs:\n",
    "        return not sizes\n",
    "    # Either # or '?', and have sizes\n",
    "    v1 = 0\n",
    "    if springs[0] == '?':\n",
    "        springs[0] = '.'\n",
    "        v1 = arrangements_opt(''.join(springs), tuple(sizes))\n",
    "    springs[0] = '#'\n",
    "    v2 = 0\n",
    "    valid = len(springs) >= sizes[0]\n",
    "    if valid:\n",
    "        for _ in range(sizes[0]):\n",
    "            if springs.popleft() == '.':\n",
    "                valid = False\n",
    "                break\n",
    "    if valid:\n",
    "        sizes.popleft()\n",
    "        valid = not springs or springs[0] != '#'\n",
    "    if valid:\n",
    "        if springs:\n",
    "            springs[0] = '.'\n",
    "        v2 = arrangements_opt(''.join(springs), tuple(sizes))\n",
    "    return v1 + v2"
   ]
  },
  {
   "cell_type": "code",
   "execution_count": 11,
   "id": "824470e0-ddee-4405-96c9-0e388048083a",
   "metadata": {},
   "outputs": [
    {
     "data": {
      "text/plain": [
       "[1, 4, 1, 1, 4, 10]"
      ]
     },
     "execution_count": 11,
     "metadata": {},
     "output_type": "execute_result"
    }
   ],
   "source": [
    "[arrangements_opt(springs=''.join(i['springs']), sizes=tuple(i['sizes'])) for i in test_input]"
   ]
  },
  {
   "cell_type": "code",
   "execution_count": 12,
   "id": "8b4308d8-5751-468e-8abc-6f3dffb07157",
   "metadata": {},
   "outputs": [
    {
     "data": {
      "text/plain": [
       "6827"
      ]
     },
     "execution_count": 12,
     "metadata": {},
     "output_type": "execute_result"
    }
   ],
   "source": [
    "sum(arrangements_opt(springs=''.join(i['springs']), sizes=tuple(i['sizes'])) for i in my_input)"
   ]
  },
  {
   "cell_type": "code",
   "execution_count": 13,
   "id": "0c375ab6-a8a7-400c-b804-14590b8da941",
   "metadata": {},
   "outputs": [
    {
     "data": {
      "text/plain": [
       "525152"
      ]
     },
     "execution_count": 13,
     "metadata": {},
     "output_type": "execute_result"
    }
   ],
   "source": [
    "sum(arrangements_opt(*expand_input(**i)) for i in test_input)"
   ]
  },
  {
   "cell_type": "code",
   "execution_count": 14,
   "id": "f0cb00d6-789e-457a-b8cf-d9b37e99b909",
   "metadata": {},
   "outputs": [
    {
     "data": {
      "text/plain": [
       "1537505634471"
      ]
     },
     "execution_count": 14,
     "metadata": {},
     "output_type": "execute_result"
    }
   ],
   "source": [
    "sum(arrangements_opt(*expand_input(**i)) for i in my_input)"
   ]
  },
  {
   "cell_type": "code",
   "execution_count": null,
   "id": "62969ea6-1842-4a0f-9ddd-de8281f06659",
   "metadata": {},
   "outputs": [],
   "source": []
  }
 ],
 "metadata": {
  "kernelspec": {
   "display_name": "Python 3 (ipykernel)",
   "language": "python",
   "name": "python3"
  },
  "language_info": {
   "codemirror_mode": {
    "name": "ipython",
    "version": 3
   },
   "file_extension": ".py",
   "mimetype": "text/x-python",
   "name": "python",
   "nbconvert_exporter": "python",
   "pygments_lexer": "ipython3",
   "version": "3.11.6"
  }
 },
 "nbformat": 4,
 "nbformat_minor": 5
}
