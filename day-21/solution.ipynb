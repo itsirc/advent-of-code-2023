{
 "cells": [
  {
   "cell_type": "code",
   "execution_count": 1,
   "id": "6da6318b-8fcc-45bc-b61d-cdbe053ba24f",
   "metadata": {},
   "outputs": [],
   "source": [
    "def get_input(fname='test.txt'):\n",
    "    input = []\n",
    "    with open(fname) as f:\n",
    "        for l in f.readlines():\n",
    "            line = l.rstrip()\n",
    "            input.append(list(line))\n",
    "    return input"
   ]
  },
  {
   "cell_type": "code",
   "execution_count": 2,
   "id": "5f423515-a072-4ced-bde7-152448231c41",
   "metadata": {},
   "outputs": [],
   "source": [
    "test_input = get_input('test.txt')\n",
    "my_input = get_input('input.txt')"
   ]
  },
  {
   "cell_type": "code",
   "execution_count": 3,
   "id": "83c6027d-0c39-450a-a48f-a59be0f6c9bd",
   "metadata": {},
   "outputs": [
    {
     "data": {
      "text/plain": [
       "[['.', '.', '.', '.', '.', '.', '.', '.', '.', '.', '.'],\n",
       " ['.', '.', '.', '.', '.', '#', '#', '#', '.', '#', '.'],\n",
       " ['.', '#', '#', '#', '.', '#', '#', '.', '.', '#', '.'],\n",
       " ['.', '.', '#', '.', '#', '.', '.', '.', '#', '.', '.'],\n",
       " ['.', '.', '.', '.', '#', '.', '#', '.', '.', '.', '.'],\n",
       " ['.', '#', '#', '.', '.', 'S', '#', '#', '#', '#', '.'],\n",
       " ['.', '#', '#', '.', '.', '#', '.', '.', '.', '#', '.'],\n",
       " ['.', '.', '.', '.', '.', '.', '.', '#', '#', '.', '.'],\n",
       " ['.', '#', '#', '.', '#', '.', '#', '#', '#', '#', '.'],\n",
       " ['.', '#', '#', '.', '.', '#', '#', '.', '#', '#', '.'],\n",
       " ['.', '.', '.', '.', '.', '.', '.', '.', '.', '.', '.']]"
      ]
     },
     "execution_count": 3,
     "metadata": {},
     "output_type": "execute_result"
    }
   ],
   "source": [
    "test_input"
   ]
  },
  {
   "cell_type": "code",
   "execution_count": 4,
   "id": "975547c5-f0cc-43de-a12a-f6492ed8b5eb",
   "metadata": {},
   "outputs": [],
   "source": [
    "NORTH = (-1, 0)\n",
    "SOUTH = (1, 0)\n",
    "WEST = (0, -1)\n",
    "EAST = (0, 1)"
   ]
  },
  {
   "cell_type": "code",
   "execution_count": 5,
   "id": "b5ce687c-3dbc-4845-9c75-b6894f978f1a",
   "metadata": {},
   "outputs": [],
   "source": [
    "def inside(position, grid):\n",
    "    return 0 <= position[0] < len(grid) and 0 <= position[1] < len(grid[0])"
   ]
  },
  {
   "cell_type": "code",
   "execution_count": 6,
   "id": "edbd1a88-09ef-4d0b-92c5-b59550ade03b",
   "metadata": {},
   "outputs": [],
   "source": [
    "def solve1(grid, steps=64):\n",
    "    start_pos = None\n",
    "    for i in range(len(grid)):\n",
    "        try:\n",
    "            j = grid[i].index('S')\n",
    "            start_pos = (i, j)\n",
    "            break\n",
    "        except:\n",
    "            pass\n",
    "    reachable = { start_pos }\n",
    "    for _ in range(steps):\n",
    "        new_reachable = set()\n",
    "        for pos in reachable:\n",
    "            for direction in (NORTH, SOUTH, WEST, EAST):\n",
    "                new_pos = (pos[0] + direction[0], pos[1] + direction[1])\n",
    "                if inside(new_pos, grid) and grid[new_pos[0]][new_pos[1]] != '#':\n",
    "                    new_reachable.add(new_pos)\n",
    "        reachable = new_reachable\n",
    "    return len(reachable)"
   ]
  },
  {
   "cell_type": "code",
   "execution_count": 7,
   "id": "3275c91e-22c3-42ff-943d-a5ad7f655f9a",
   "metadata": {},
   "outputs": [
    {
     "data": {
      "text/plain": [
       "16"
      ]
     },
     "execution_count": 7,
     "metadata": {},
     "output_type": "execute_result"
    }
   ],
   "source": [
    "solve1(test_input, 6)"
   ]
  },
  {
   "cell_type": "code",
   "execution_count": 8,
   "id": "3be01be6-aeae-4f6f-9537-649f730763e8",
   "metadata": {},
   "outputs": [
    {
     "data": {
      "text/plain": [
       "3776"
      ]
     },
     "execution_count": 8,
     "metadata": {},
     "output_type": "execute_result"
    }
   ],
   "source": [
    "solve1(my_input, 64)"
   ]
  },
  {
   "cell_type": "code",
   "execution_count": 9,
   "id": "d275727a-4563-4641-aab3-475f57163e79",
   "metadata": {},
   "outputs": [],
   "source": [
    "def solve2(grid, steps=64):\n",
    "    start_pos = None\n",
    "    for i in range(len(grid)):\n",
    "        try:\n",
    "            j = grid[i].index('S')\n",
    "            start_pos = (i, j)\n",
    "            break\n",
    "        except:\n",
    "            pass\n",
    "    reachable = { start_pos }\n",
    "    for _ in range(steps):\n",
    "        new_reachable = set()\n",
    "        for pos in reachable:\n",
    "            for direction in (NORTH, SOUTH, WEST, EAST):\n",
    "                new_pos = (pos[0] + direction[0], pos[1] + direction[1])\n",
    "                if grid[new_pos[0] % len(grid)][new_pos[1] % len(grid[0])] != '#':\n",
    "                    new_reachable.add(new_pos)\n",
    "        reachable = new_reachable\n",
    "    return len(reachable)"
   ]
  },
  {
   "cell_type": "code",
   "execution_count": 10,
   "id": "92475122-429d-4880-87a5-0fb40aa4c72c",
   "metadata": {},
   "outputs": [
    {
     "data": {
      "text/plain": [
       "[16, 50, 1594, 6536]"
      ]
     },
     "execution_count": 10,
     "metadata": {},
     "output_type": "execute_result"
    }
   ],
   "source": [
    "[solve2(test_input, n) for n in (6, 10, 50, 100)]"
   ]
  },
  {
   "cell_type": "code",
   "execution_count": 11,
   "id": "7cc967a2-89b7-4408-99c2-a0772ff74de0",
   "metadata": {},
   "outputs": [],
   "source": [
    "target = 202300 * 131 + 65"
   ]
  },
  {
   "cell_type": "code",
   "execution_count": 12,
   "id": "e20283e7-4522-47b3-b94a-b3a00c63fea3",
   "metadata": {},
   "outputs": [
    {
     "data": {
      "text/plain": [
       "26501365"
      ]
     },
     "execution_count": 12,
     "metadata": {},
     "output_type": "execute_result"
    }
   ],
   "source": [
    "target"
   ]
  },
  {
   "cell_type": "code",
   "execution_count": 13,
   "id": "4d74a847-6ed1-4508-b032-ac8227c0d6cc",
   "metadata": {},
   "outputs": [],
   "source": [
    "# P(n) = a * n^2 + b * n + c\n",
    "p_0 = solve2(my_input, 65)\n",
    "p_1 = solve2(my_input, 1 * 131 + 65)\n",
    "p_2 = solve2(my_input, 2 * 131 + 65)"
   ]
  },
  {
   "cell_type": "code",
   "execution_count": 14,
   "id": "8b35ec88-13a0-4267-acbf-f331ccb98f5b",
   "metadata": {},
   "outputs": [],
   "source": [
    "c = p_0\n",
    "a = (p_2 + p_0) // 2 - p_1\n",
    "b = p_1 - p_0 - a"
   ]
  },
  {
   "cell_type": "code",
   "execution_count": 15,
   "id": "6d267eac-8913-4550-bbc2-1bb40dc57e02",
   "metadata": {},
   "outputs": [],
   "source": [
    "p = lambda n: a * n ** 2 + b * n + c"
   ]
  },
  {
   "cell_type": "code",
   "execution_count": 16,
   "id": "f7b610f8-2813-45bc-aca1-b355bf33b0f3",
   "metadata": {},
   "outputs": [
    {
     "data": {
      "text/plain": [
       "(95816, 95816)"
      ]
     },
     "execution_count": 16,
     "metadata": {},
     "output_type": "execute_result"
    }
   ],
   "source": [
    "p(2), p_2"
   ]
  },
  {
   "cell_type": "code",
   "execution_count": 17,
   "id": "ff9c12d3-270b-4f42-a7ec-6626fb4638ba",
   "metadata": {},
   "outputs": [
    {
     "data": {
      "text/plain": [
       "(34564, 34564)"
      ]
     },
     "execution_count": 17,
     "metadata": {},
     "output_type": "execute_result"
    }
   ],
   "source": [
    "p(1), p_1"
   ]
  },
  {
   "cell_type": "code",
   "execution_count": 18,
   "id": "498475da-b6bc-48dc-8d32-5841b04ffb42",
   "metadata": {},
   "outputs": [
    {
     "data": {
      "text/plain": [
       "(3884, 3884)"
      ]
     },
     "execution_count": 18,
     "metadata": {},
     "output_type": "execute_result"
    }
   ],
   "source": [
    "p(0), p_0"
   ]
  },
  {
   "cell_type": "code",
   "execution_count": 19,
   "id": "79ff4a7d-742d-4566-b003-0cbe0cdb2afc",
   "metadata": {},
   "outputs": [
    {
     "data": {
      "text/plain": [
       "625587097150084"
      ]
     },
     "execution_count": 19,
     "metadata": {},
     "output_type": "execute_result"
    }
   ],
   "source": [
    "p(202300)"
   ]
  },
  {
   "cell_type": "code",
   "execution_count": null,
   "id": "fedb41ff-76ec-4657-9141-8ea64dde3dbe",
   "metadata": {},
   "outputs": [],
   "source": []
  }
 ],
 "metadata": {
  "kernelspec": {
   "display_name": "Python 3 (ipykernel)",
   "language": "python",
   "name": "python3"
  },
  "language_info": {
   "codemirror_mode": {
    "name": "ipython",
    "version": 3
   },
   "file_extension": ".py",
   "mimetype": "text/x-python",
   "name": "python",
   "nbconvert_exporter": "python",
   "pygments_lexer": "ipython3",
   "version": "3.11.6"
  }
 },
 "nbformat": 4,
 "nbformat_minor": 5
}
