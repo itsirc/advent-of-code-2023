{
 "cells": [
  {
   "cell_type": "code",
   "execution_count": 1,
   "id": "6da6318b-8fcc-45bc-b61d-cdbe053ba24f",
   "metadata": {},
   "outputs": [],
   "source": [
    "def get_input(fname='test.txt'):\n",
    "    input = []\n",
    "    with open(fname) as f:\n",
    "        for l in f.readlines():\n",
    "            line = l.rstrip()\n",
    "            direction, length, hex_code = line.split(' ')\n",
    "            input.append([direction, int(length), hex_code[2:-1]])\n",
    "    return input"
   ]
  },
  {
   "cell_type": "code",
   "execution_count": 2,
   "id": "5f423515-a072-4ced-bde7-152448231c41",
   "metadata": {},
   "outputs": [],
   "source": [
    "test_input = get_input('test.txt')\n",
    "my_input = get_input('input.txt')"
   ]
  },
  {
   "cell_type": "code",
   "execution_count": 3,
   "id": "83c6027d-0c39-450a-a48f-a59be0f6c9bd",
   "metadata": {},
   "outputs": [
    {
     "data": {
      "text/plain": [
       "[['R', 6, '70c710'],\n",
       " ['D', 5, '0dc571'],\n",
       " ['L', 2, '5713f0'],\n",
       " ['D', 2, 'd2c081'],\n",
       " ['R', 2, '59c680'],\n",
       " ['D', 2, '411b91'],\n",
       " ['L', 5, '8ceee2'],\n",
       " ['U', 2, 'caa173'],\n",
       " ['L', 1, '1b58a2'],\n",
       " ['U', 2, 'caa171'],\n",
       " ['R', 2, '7807d2'],\n",
       " ['U', 3, 'a77fa3'],\n",
       " ['L', 2, '015232'],\n",
       " ['U', 2, '7a21e3']]"
      ]
     },
     "execution_count": 3,
     "metadata": {},
     "output_type": "execute_result"
    }
   ],
   "source": [
    "test_input"
   ]
  },
  {
   "cell_type": "code",
   "execution_count": 4,
   "id": "e00a8975-c94f-451f-ac54-68ea5b8dca47",
   "metadata": {},
   "outputs": [],
   "source": [
    "U, D, L, R = (-1, 0), (1, 0), (0, -1), (0, 1)\n",
    "DIRECTIONS = dict(U=U, D=D, L=L, R=R)"
   ]
  },
  {
   "cell_type": "code",
   "execution_count": 5,
   "id": "66ba9698-3cae-4376-896c-ecde2f66dda3",
   "metadata": {},
   "outputs": [],
   "source": [
    "# inside point with clockwise direction\n",
    "INSIDE = {\n",
    "    L: U,\n",
    "    U: R,\n",
    "    R: D,\n",
    "    D: L\n",
    "}"
   ]
  },
  {
   "cell_type": "code",
   "execution_count": 6,
   "id": "731e2820-18fa-43c8-9bb2-8ccbed388b30",
   "metadata": {},
   "outputs": [],
   "source": [
    "def area(input):\n",
    "    DUG = '#'\n",
    "    current = (0, 0)\n",
    "    grid = {0: {0: DUG}}\n",
    "    to_fill = []\n",
    "    for direction, length, _ in input:\n",
    "        delta = DIRECTIONS[direction]\n",
    "        for _ in range(length):\n",
    "            current = (current[0] + delta[0], current[1] + delta[1])\n",
    "            if current[0] not in grid:\n",
    "                grid[current[0]] = {}\n",
    "            grid[current[0]][current[1]] = DUG\n",
    "            to_fill.append((current[0] + INSIDE[delta][0], current[1] + INSIDE[delta][1]))\n",
    "    # fill the area:\n",
    "    while to_fill:\n",
    "        p = to_fill.pop()\n",
    "        if grid.get(p[0]).get(p[1]) == DUG:\n",
    "            continue\n",
    "        if p[0] not in grid:\n",
    "            grid[p[0]] = {}\n",
    "        grid[p[0]][p[1]] = DUG\n",
    "        for delta in DIRECTIONS.values():\n",
    "            to_fill.append((p[0] + delta[0], p[1] + delta[1]))\n",
    "    \n",
    "    return sum(v == DUG for g in grid.values() for v in g.values())        "
   ]
  },
  {
   "cell_type": "code",
   "execution_count": 7,
   "id": "2c4c6b3e-d15a-47e9-992d-8003c3cc2cde",
   "metadata": {},
   "outputs": [
    {
     "data": {
      "text/plain": [
       "62"
      ]
     },
     "execution_count": 7,
     "metadata": {},
     "output_type": "execute_result"
    }
   ],
   "source": [
    "area(test_input)"
   ]
  },
  {
   "cell_type": "code",
   "execution_count": 8,
   "id": "a8c35b66-c2e1-454f-bc7d-483b59088680",
   "metadata": {},
   "outputs": [
    {
     "data": {
      "text/plain": [
       "49061"
      ]
     },
     "execution_count": 8,
     "metadata": {},
     "output_type": "execute_result"
    }
   ],
   "source": [
    "area(my_input)"
   ]
  },
  {
   "cell_type": "code",
   "execution_count": 9,
   "id": "ceb76e0c-f814-4e24-91d1-2ada0b301f23",
   "metadata": {},
   "outputs": [],
   "source": [
    "from collections import deque\n",
    "import heapq"
   ]
  },
  {
   "cell_type": "code",
   "execution_count": 10,
   "id": "0938e3ef-ca19-4c5f-a573-8ad6e9fe9d02",
   "metadata": {},
   "outputs": [],
   "source": [
    "def area_opt(input):\n",
    "    horizontal_points = { 0 }\n",
    "    vertical_segments = []\n",
    "    current = (0, 0)\n",
    "    for direction, length, _ in input:\n",
    "        delta = DIRECTIONS[direction]\n",
    "        nxt = [current[0] + length * delta[0], current[1] + length * delta[1]]\n",
    "        if direction in ('U', 'D'):\n",
    "            vertical_segments.append(sorted([current, nxt]))\n",
    "        horizontal_points.add(nxt[0])\n",
    "        current = nxt\n",
    "    horizontal_points = sorted(horizontal_points)\n",
    "    vertical_segments.sort(key=lambda s: s[0][1])\n",
    "    prev = horizontal_points[0]\n",
    "    rectangles = []\n",
    "    for crt in horizontal_points:\n",
    "        if crt == prev:\n",
    "            continue\n",
    "        prev_v = None\n",
    "        for i in range(len(vertical_segments) - 1, -1, -1):\n",
    "            v = vertical_segments[i]\n",
    "            if v[0][0] != prev:\n",
    "                continue\n",
    "            if prev_v is not None:\n",
    "                rectangles.append(((prev, v[0][1]), (crt, prev_v[0][1])))\n",
    "                prev_v = None\n",
    "            else:\n",
    "                prev_v = v\n",
    "            if v[1][0] > crt:\n",
    "                v[0][0] = crt\n",
    "            else:\n",
    "                del vertical_segments[i]\n",
    "        prev = crt\n",
    "    # print('#', rectangles)\n",
    "\n",
    "    rectangles.sort()\n",
    "    area = 0\n",
    "    for r in rectangles:\n",
    "        area += (r[1][0] - r[0][0] + 1) * (r[1][1] - r[0][1] + 1)\n",
    "\n",
    "    # vertical overlaps were counted twice\n",
    "    for i in range(len(rectangles) - 1):\n",
    "        j = i + 1\n",
    "        for j in range(1 + i, len(rectangles)):\n",
    "            if rectangles[i][1][0] == rectangles[j][0][0]:\n",
    "                lower = (rectangles[i][0][1], rectangles[i][1][1])\n",
    "                upper = (rectangles[j][0][1], rectangles[j][1][1])\n",
    "                overlap = (max(lower[0], upper[0]), min(lower[1], upper[1]))\n",
    "                if overlap[1] > overlap[0]:\n",
    "                    area -= overlap[1] - overlap[0] + 1\n",
    "            \n",
    "    return area"
   ]
  },
  {
   "cell_type": "code",
   "execution_count": 11,
   "id": "0dbf028c-7462-4919-98d1-85f6a7483b37",
   "metadata": {},
   "outputs": [
    {
     "data": {
      "text/plain": [
       "62"
      ]
     },
     "execution_count": 11,
     "metadata": {},
     "output_type": "execute_result"
    }
   ],
   "source": [
    "area_opt(test_input) # 62"
   ]
  },
  {
   "cell_type": "code",
   "execution_count": 12,
   "id": "b039787f-a51c-4c36-8399-a2993864b120",
   "metadata": {},
   "outputs": [
    {
     "data": {
      "text/plain": [
       "49061"
      ]
     },
     "execution_count": 12,
     "metadata": {},
     "output_type": "execute_result"
    }
   ],
   "source": [
    "area(my_input)"
   ]
  },
  {
   "cell_type": "code",
   "execution_count": 13,
   "id": "a8f4d7b8-ead9-4ee0-a9f8-c9ff5593d164",
   "metadata": {},
   "outputs": [
    {
     "data": {
      "text/plain": [
       "49061"
      ]
     },
     "execution_count": 13,
     "metadata": {},
     "output_type": "execute_result"
    }
   ],
   "source": [
    "area_opt(my_input)"
   ]
  },
  {
   "cell_type": "code",
   "execution_count": 14,
   "id": "c7b217ec-4170-471a-a375-096ab7fb95b1",
   "metadata": {},
   "outputs": [
    {
     "data": {
      "text/plain": [
       "[['R', 6, '70c710'],\n",
       " ['D', 5, '0dc571'],\n",
       " ['L', 2, '5713f0'],\n",
       " ['D', 2, 'd2c081'],\n",
       " ['R', 2, '59c680'],\n",
       " ['D', 2, '411b91'],\n",
       " ['L', 5, '8ceee2'],\n",
       " ['U', 2, 'caa173'],\n",
       " ['L', 1, '1b58a2'],\n",
       " ['U', 2, 'caa171'],\n",
       " ['R', 2, '7807d2'],\n",
       " ['U', 3, 'a77fa3'],\n",
       " ['L', 2, '015232'],\n",
       " ['U', 2, '7a21e3']]"
      ]
     },
     "execution_count": 14,
     "metadata": {},
     "output_type": "execute_result"
    }
   ],
   "source": [
    "test_input"
   ]
  },
  {
   "cell_type": "code",
   "execution_count": 15,
   "id": "b3a6c824-31f4-4989-a6d1-b78d92b3024c",
   "metadata": {},
   "outputs": [],
   "source": [
    "def fix_input(input):\n",
    "    d = 'RDLU'\n",
    "    fixed = []\n",
    "    for _, _, to_fix in input:\n",
    "        fixed.append([d[int(to_fix[-1])], int(to_fix[:-1], 16), to_fix])\n",
    "    return fixed"
   ]
  },
  {
   "cell_type": "code",
   "execution_count": 16,
   "id": "3ee045cd-706e-420d-88f0-a17cb41f824f",
   "metadata": {},
   "outputs": [],
   "source": [
    "fixed_test_input = fix_input(test_input)"
   ]
  },
  {
   "cell_type": "code",
   "execution_count": 17,
   "id": "aa294033-1e54-4cab-9041-9fe01ad017c7",
   "metadata": {},
   "outputs": [
    {
     "data": {
      "text/plain": [
       "[['R', 461937, '70c710'],\n",
       " ['D', 56407, '0dc571'],\n",
       " ['R', 356671, '5713f0'],\n",
       " ['D', 863240, 'd2c081'],\n",
       " ['R', 367720, '59c680'],\n",
       " ['D', 266681, '411b91'],\n",
       " ['L', 577262, '8ceee2'],\n",
       " ['U', 829975, 'caa173'],\n",
       " ['L', 112010, '1b58a2'],\n",
       " ['D', 829975, 'caa171'],\n",
       " ['L', 491645, '7807d2'],\n",
       " ['U', 686074, 'a77fa3'],\n",
       " ['L', 5411, '015232'],\n",
       " ['U', 500254, '7a21e3']]"
      ]
     },
     "execution_count": 17,
     "metadata": {},
     "output_type": "execute_result"
    }
   ],
   "source": [
    "fixed_test_input"
   ]
  },
  {
   "cell_type": "code",
   "execution_count": 18,
   "id": "d9e175b5-1797-4364-9147-d603a39998c0",
   "metadata": {},
   "outputs": [
    {
     "data": {
      "text/plain": [
       "952408144115"
      ]
     },
     "execution_count": 18,
     "metadata": {},
     "output_type": "execute_result"
    }
   ],
   "source": [
    "area_opt(fixed_test_input)"
   ]
  },
  {
   "cell_type": "code",
   "execution_count": 19,
   "id": "2ca93c73-a9e8-4874-9571-7be245769534",
   "metadata": {},
   "outputs": [],
   "source": [
    "fixed_my_input = fix_input(my_input)"
   ]
  },
  {
   "cell_type": "code",
   "execution_count": 20,
   "id": "42596a2b-56be-485a-9dc4-e60917237c9a",
   "metadata": {},
   "outputs": [
    {
     "data": {
      "text/plain": [
       "92556825427032"
      ]
     },
     "execution_count": 20,
     "metadata": {},
     "output_type": "execute_result"
    }
   ],
   "source": [
    "area_opt(fixed_my_input)"
   ]
  },
  {
   "cell_type": "code",
   "execution_count": null,
   "id": "a2166991-4c0a-4444-99d6-d1c62bc745e2",
   "metadata": {},
   "outputs": [],
   "source": []
  }
 ],
 "metadata": {
  "kernelspec": {
   "display_name": "Python 3 (ipykernel)",
   "language": "python",
   "name": "python3"
  },
  "language_info": {
   "codemirror_mode": {
    "name": "ipython",
    "version": 3
   },
   "file_extension": ".py",
   "mimetype": "text/x-python",
   "name": "python",
   "nbconvert_exporter": "python",
   "pygments_lexer": "ipython3",
   "version": "3.11.6"
  }
 },
 "nbformat": 4,
 "nbformat_minor": 5
}
