{
 "cells": [
  {
   "cell_type": "code",
   "execution_count": 1,
   "id": "6da6318b-8fcc-45bc-b61d-cdbe053ba24f",
   "metadata": {},
   "outputs": [],
   "source": [
    "def get_input(fname=\"test.txt\"):\n",
    "    input = []\n",
    "    with open(fname) as f:\n",
    "        for l in f.readlines():\n",
    "            line = l.strip()\n",
    "            input.append(line)\n",
    "    return input"
   ]
  },
  {
   "cell_type": "code",
   "execution_count": 2,
   "id": "5f423515-a072-4ced-bde7-152448231c41",
   "metadata": {},
   "outputs": [],
   "source": [
    "test_input = get_input(\"test.txt\")\n",
    "my_input = get_input(\"input.txt\")"
   ]
  },
  {
   "cell_type": "code",
   "execution_count": 3,
   "id": "83c6027d-0c39-450a-a48f-a59be0f6c9bd",
   "metadata": {},
   "outputs": [
    {
     "data": {
      "text/plain": [
       "['1abc2', 'pqr3stu8vwx', 'a1b2c3d4e5f', 'treb7uchet']"
      ]
     },
     "execution_count": 3,
     "metadata": {},
     "output_type": "execute_result"
    }
   ],
   "source": [
    "test_input"
   ]
  },
  {
   "cell_type": "code",
   "execution_count": 4,
   "id": "e06a97b5-03b6-40d7-ac0e-8473d0b3e85a",
   "metadata": {},
   "outputs": [],
   "source": [
    "def calibration_value(s):\n",
    "    lft = 0\n",
    "    rgt = len(s) - 1\n",
    "    while not s[lft].isdigit():\n",
    "        lft += 1\n",
    "    while not s[rgt].isdigit():\n",
    "        rgt -= 1\n",
    "    return int(s[lft] + s[rgt])"
   ]
  },
  {
   "cell_type": "code",
   "execution_count": 5,
   "id": "ebc454ae-819e-4424-bca6-d896743fe57f",
   "metadata": {},
   "outputs": [
    {
     "data": {
      "text/plain": [
       "[12, 38, 15, 77]"
      ]
     },
     "execution_count": 5,
     "metadata": {},
     "output_type": "execute_result"
    }
   ],
   "source": [
    "[calibration_value(s) for s in test_input]"
   ]
  },
  {
   "cell_type": "code",
   "execution_count": 6,
   "id": "180ef974-a328-4d81-a8e7-53fe7208579b",
   "metadata": {},
   "outputs": [
    {
     "data": {
      "text/plain": [
       "54450"
      ]
     },
     "execution_count": 6,
     "metadata": {},
     "output_type": "execute_result"
    }
   ],
   "source": [
    "sum(calibration_value(s) for s in my_input)"
   ]
  },
  {
   "cell_type": "code",
   "execution_count": 7,
   "id": "10ce9a9b-c842-4143-bdc3-598b93b9a942",
   "metadata": {},
   "outputs": [],
   "source": [
    "test_input = \"\"\"two1nine\n",
    "eightwothree\n",
    "abcone2threexyz\n",
    "xtwone3four\n",
    "4nineeightseven2\n",
    "zoneight234\n",
    "7pqrstsixteen\"\"\".split(\"\\n\")"
   ]
  },
  {
   "cell_type": "code",
   "execution_count": 8,
   "id": "dd1661d8-0e07-4b04-82a1-48f2b9cc55f1",
   "metadata": {},
   "outputs": [
    {
     "data": {
      "text/plain": [
       "['two1nine',\n",
       " 'eightwothree',\n",
       " 'abcone2threexyz',\n",
       " 'xtwone3four',\n",
       " '4nineeightseven2',\n",
       " 'zoneight234',\n",
       " '7pqrstsixteen']"
      ]
     },
     "execution_count": 8,
     "metadata": {},
     "output_type": "execute_result"
    }
   ],
   "source": [
    "test_input"
   ]
  },
  {
   "cell_type": "code",
   "execution_count": 9,
   "id": "564eb09c-1ff2-4086-bad6-090fb2876f08",
   "metadata": {},
   "outputs": [],
   "source": [
    "def get_digit(string, start=0):\n",
    "    digits = { 'one': 1, 'two': 2, 'three': 3, 'four': 4, 'five': 5, 'six': 6, 'seven': 7, 'eight': 8, 'nine': 9 }\n",
    "    for s, v in digits.items():\n",
    "        if string[start:start+len(s)] == s:\n",
    "            return v\n",
    "    return None"
   ]
  },
  {
   "cell_type": "code",
   "execution_count": 10,
   "id": "5305c490-1bcd-4bd4-b34e-34c3dc17643b",
   "metadata": {},
   "outputs": [
    {
     "data": {
      "text/plain": [
       "6"
      ]
     },
     "execution_count": 10,
     "metadata": {},
     "output_type": "execute_result"
    }
   ],
   "source": [
    "get_digit(test_input[-1], 6)"
   ]
  },
  {
   "cell_type": "code",
   "execution_count": 11,
   "id": "b2c2082a-d8c5-40e1-ae35-8b79fdf6d502",
   "metadata": {},
   "outputs": [],
   "source": [
    "def calibration_value2(s):\n",
    "    lft = 0\n",
    "    rgt = len(s) - 1\n",
    "    lft_value = 0\n",
    "    rgt_value = 0\n",
    "    while True:\n",
    "        if s[lft].isdigit():\n",
    "            lft_value = int(s[lft])\n",
    "            break\n",
    "        else:\n",
    "            lft_value = get_digit(s, lft)\n",
    "            if lft_value:\n",
    "                break\n",
    "        lft += 1\n",
    "    while True:\n",
    "        if s[rgt].isdigit():\n",
    "            rgt_value = int(s[rgt])\n",
    "            break\n",
    "        else:\n",
    "            rgt_value = get_digit(s, rgt)\n",
    "            if rgt_value:\n",
    "                break\n",
    "        rgt -= 1\n",
    "    return lft_value * 10 + rgt_value"
   ]
  },
  {
   "cell_type": "code",
   "execution_count": 12,
   "id": "0a4ec25a-84bb-4fd2-861b-5f215e52f0af",
   "metadata": {},
   "outputs": [
    {
     "data": {
      "text/plain": [
       "[29, 83, 13, 24, 42, 14, 76]"
      ]
     },
     "execution_count": 12,
     "metadata": {},
     "output_type": "execute_result"
    }
   ],
   "source": [
    "[calibration_value2(s) for s in test_input]"
   ]
  },
  {
   "cell_type": "code",
   "execution_count": 13,
   "id": "482d6f49-9831-403d-b04b-5774d8406daa",
   "metadata": {},
   "outputs": [
    {
     "data": {
      "text/plain": [
       "54265"
      ]
     },
     "execution_count": 13,
     "metadata": {},
     "output_type": "execute_result"
    }
   ],
   "source": [
    "sum(calibration_value2(s) for s in my_input)"
   ]
  },
  {
   "cell_type": "code",
   "execution_count": null,
   "id": "8890a8b7-7b6b-4be1-ad18-330ddcc7ec6a",
   "metadata": {},
   "outputs": [],
   "source": []
  }
 ],
 "metadata": {
  "kernelspec": {
   "display_name": "Python 3 (ipykernel)",
   "language": "python",
   "name": "python3"
  },
  "language_info": {
   "codemirror_mode": {
    "name": "ipython",
    "version": 3
   },
   "file_extension": ".py",
   "mimetype": "text/x-python",
   "name": "python",
   "nbconvert_exporter": "python",
   "pygments_lexer": "ipython3",
   "version": "3.11.6"
  }
 },
 "nbformat": 4,
 "nbformat_minor": 5
}
