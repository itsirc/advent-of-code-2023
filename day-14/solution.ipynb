{
 "cells": [
  {
   "cell_type": "code",
   "execution_count": 1,
   "id": "6da6318b-8fcc-45bc-b61d-cdbe053ba24f",
   "metadata": {},
   "outputs": [],
   "source": [
    "def get_input(fname='test.txt'):\n",
    "    input = []\n",
    "    with open(fname) as f:\n",
    "        for l in f.readlines():\n",
    "            line = l.strip()\n",
    "            input.append(list(line))\n",
    "    return input"
   ]
  },
  {
   "cell_type": "code",
   "execution_count": 2,
   "id": "5f423515-a072-4ced-bde7-152448231c41",
   "metadata": {},
   "outputs": [],
   "source": [
    "test_input = get_input('test.txt')\n",
    "my_input = get_input('input.txt')"
   ]
  },
  {
   "cell_type": "code",
   "execution_count": 3,
   "id": "83c6027d-0c39-450a-a48f-a59be0f6c9bd",
   "metadata": {},
   "outputs": [],
   "source": [
    "def print_grid(grid):\n",
    "    print('\\n'.join(''.join(l) for l in grid))"
   ]
  },
  {
   "cell_type": "code",
   "execution_count": 4,
   "id": "73199602-d9bb-494c-8ef3-88fd862ff645",
   "metadata": {},
   "outputs": [
    {
     "name": "stdout",
     "output_type": "stream",
     "text": [
      "O....#....\n",
      "O.OO#....#\n",
      ".....##...\n",
      "OO.#O....O\n",
      ".O.....O#.\n",
      "O.#..O.#.#\n",
      "..O..#O..O\n",
      ".......O..\n",
      "#....###..\n",
      "#OO..#....\n"
     ]
    }
   ],
   "source": [
    "print_grid(test_input)"
   ]
  },
  {
   "cell_type": "code",
   "execution_count": 5,
   "id": "0b37b460-35df-4ba3-88bf-c1747b26df43",
   "metadata": {},
   "outputs": [],
   "source": [
    "from collections import deque\n",
    "\n",
    "def tilt_north(grid):\n",
    "    grid = [list(l) for l in grid]\n",
    "    h, w = len(grid), len(grid[0])\n",
    "    load = 0\n",
    "    empty_positions = deque()\n",
    "    for j in range(w):\n",
    "        empty_positions.clear()\n",
    "        for i in range(h):\n",
    "            c = grid[i][j]\n",
    "            if c == '#':\n",
    "                empty_positions.clear()\n",
    "            elif c == '.':\n",
    "                empty_positions.append(i)\n",
    "            else: # O\n",
    "                ei = i\n",
    "                if empty_positions:\n",
    "                    ei = empty_positions.popleft()\n",
    "                    grid[ei][j] = 'O'\n",
    "                    grid[i][j] = '.'\n",
    "                    empty_positions.append(i)\n",
    "                load += h - ei\n",
    "    return grid, load"
   ]
  },
  {
   "cell_type": "code",
   "execution_count": 6,
   "id": "02ddda5f-72b6-457f-b12c-cb5afa2c93b7",
   "metadata": {},
   "outputs": [
    {
     "data": {
      "text/plain": [
       "136"
      ]
     },
     "execution_count": 6,
     "metadata": {},
     "output_type": "execute_result"
    }
   ],
   "source": [
    "tilt_north(test_input)[1]"
   ]
  },
  {
   "cell_type": "code",
   "execution_count": 7,
   "id": "b5a06aca-a621-40c0-ba09-1e2383b04c9b",
   "metadata": {},
   "outputs": [
    {
     "data": {
      "text/plain": [
       "111979"
      ]
     },
     "execution_count": 7,
     "metadata": {},
     "output_type": "execute_result"
    }
   ],
   "source": [
    "tilt_north(my_input)[1]"
   ]
  },
  {
   "cell_type": "code",
   "execution_count": 8,
   "id": "71b26350-5443-41e6-82cc-7b67d60d575a",
   "metadata": {},
   "outputs": [],
   "source": [
    "def sig(grid):\n",
    "    return tuple(tuple(l) for l in grid)"
   ]
  },
  {
   "cell_type": "code",
   "execution_count": 9,
   "id": "295e9129-5479-45e0-b654-3f206bfc58a9",
   "metadata": {},
   "outputs": [
    {
     "data": {
      "text/plain": [
       "(('O', '.', '.', '.', '.', '#', '.', '.', '.', '.'),\n",
       " ('O', '.', 'O', 'O', '#', '.', '.', '.', '.', '#'),\n",
       " ('.', '.', '.', '.', '.', '#', '#', '.', '.', '.'),\n",
       " ('O', 'O', '.', '#', 'O', '.', '.', '.', '.', 'O'),\n",
       " ('.', 'O', '.', '.', '.', '.', '.', 'O', '#', '.'),\n",
       " ('O', '.', '#', '.', '.', 'O', '.', '#', '.', '#'),\n",
       " ('.', '.', 'O', '.', '.', '#', 'O', '.', '.', 'O'),\n",
       " ('.', '.', '.', '.', '.', '.', '.', 'O', '.', '.'),\n",
       " ('#', '.', '.', '.', '.', '#', '#', '#', '.', '.'),\n",
       " ('#', 'O', 'O', '.', '.', '#', '.', '.', '.', '.'))"
      ]
     },
     "execution_count": 9,
     "metadata": {},
     "output_type": "execute_result"
    }
   ],
   "source": [
    "sig(test_input)"
   ]
  },
  {
   "cell_type": "code",
   "execution_count": 10,
   "id": "a6a492d6-9ec2-4873-9cf6-8c5800345593",
   "metadata": {},
   "outputs": [],
   "source": [
    "def tilt_south(grid):\n",
    "    grid = [list(l) for l in grid]\n",
    "    h, w = len(grid), len(grid[0])\n",
    "    load = 0\n",
    "    empty_positions = deque()\n",
    "    for j in range(w):\n",
    "        empty_positions.clear()\n",
    "        for i in range(h-1, -1, -1):\n",
    "            c = grid[i][j]\n",
    "            if c == '#':\n",
    "                empty_positions.clear()\n",
    "            elif c == '.':\n",
    "                empty_positions.append(i)\n",
    "            else: # O\n",
    "                ei = i\n",
    "                if empty_positions:\n",
    "                    ei = empty_positions.popleft()\n",
    "                    grid[ei][j] = 'O'\n",
    "                    grid[i][j] = '.'\n",
    "                    empty_positions.append(i)\n",
    "                load += h - ei\n",
    "    return grid"
   ]
  },
  {
   "cell_type": "code",
   "execution_count": 11,
   "id": "39d89f65-13e5-4a37-91bb-19b374feb1d3",
   "metadata": {},
   "outputs": [
    {
     "name": "stdout",
     "output_type": "stream",
     "text": [
      ".....#....\n",
      "....#....#\n",
      "...O.##...\n",
      "...#......\n",
      "O.O....O#O\n",
      "O.#..O.#.#\n",
      "O....#....\n",
      "OO....OO..\n",
      "#OO..###..\n",
      "#OO.O#...O\n"
     ]
    }
   ],
   "source": [
    "print_grid(tilt_south(test_input))"
   ]
  },
  {
   "cell_type": "code",
   "execution_count": 12,
   "id": "4e134480-0456-42cd-b063-f2aa2d375634",
   "metadata": {},
   "outputs": [],
   "source": [
    "def tilt_west(grid):\n",
    "    grid = [list(l) for l in grid]\n",
    "    h, w = len(grid), len(grid[0])\n",
    "    empty_positions = deque()\n",
    "    for i in range(h):\n",
    "        empty_positions.clear()\n",
    "        for j in range(w):\n",
    "            c = grid[i][j]\n",
    "            if c == '#':\n",
    "                empty_positions.clear()\n",
    "            elif c == '.':\n",
    "                empty_positions.append(j)\n",
    "            else: # O\n",
    "                if empty_positions:\n",
    "                    ej = empty_positions.popleft()\n",
    "                    grid[i][ej] = 'O'\n",
    "                    grid[i][j] = '.'\n",
    "                    empty_positions.append(j)\n",
    "    return grid"
   ]
  },
  {
   "cell_type": "code",
   "execution_count": 13,
   "id": "5764df5a-8fb2-426e-9ed8-ae08004f91e8",
   "metadata": {},
   "outputs": [
    {
     "name": "stdout",
     "output_type": "stream",
     "text": [
      "O....#....\n",
      "OOO.#....#\n",
      ".....##...\n",
      "OO.#OO....\n",
      "OO......#.\n",
      "O.#O...#.#\n",
      "O....#OO..\n",
      "O.........\n",
      "#....###..\n",
      "#OO..#....\n"
     ]
    }
   ],
   "source": [
    "print_grid(tilt_west(test_input))"
   ]
  },
  {
   "cell_type": "code",
   "execution_count": 14,
   "id": "b2bfbcf7-a73d-4146-879e-f29ecce2c751",
   "metadata": {},
   "outputs": [],
   "source": [
    "def tilt_east(grid):\n",
    "    grid = [list(l) for l in grid]\n",
    "    h, w = len(grid), len(grid[0])\n",
    "    empty_positions = deque()\n",
    "    for i in range(h):\n",
    "        empty_positions.clear()\n",
    "        for j in range(w-1, -1, -1):\n",
    "            c = grid[i][j]\n",
    "            if c == '#':\n",
    "                empty_positions.clear()\n",
    "            elif c == '.':\n",
    "                empty_positions.append(j)\n",
    "            else: # O\n",
    "                if empty_positions:\n",
    "                    ej = empty_positions.popleft()\n",
    "                    grid[i][ej] = 'O'\n",
    "                    grid[i][j] = '.'\n",
    "                    empty_positions.append(j)\n",
    "    return grid"
   ]
  },
  {
   "cell_type": "code",
   "execution_count": 15,
   "id": "1cae4926-2786-40f1-8cce-dbf7f34dc6c6",
   "metadata": {},
   "outputs": [
    {
     "name": "stdout",
     "output_type": "stream",
     "text": [
      "....O#....\n",
      ".OOO#....#\n",
      ".....##...\n",
      ".OO#....OO\n",
      "......OO#.\n",
      ".O#...O#.#\n",
      "....O#..OO\n",
      ".........O\n",
      "#....###..\n",
      "#..OO#....\n"
     ]
    }
   ],
   "source": [
    "print_grid(tilt_east(test_input))"
   ]
  },
  {
   "cell_type": "code",
   "execution_count": 16,
   "id": "c70abd39-6134-4390-9e6e-d6b12894296c",
   "metadata": {},
   "outputs": [
    {
     "name": "stdout",
     "output_type": "stream",
     "text": [
      ".....#....\n",
      "....#...O#\n",
      "...OO##...\n",
      ".OO#......\n",
      ".....OOO#.\n",
      ".O#...O#.#\n",
      "....O#....\n",
      "......OOOO\n",
      "#...O###..\n",
      "#..OO#....\n",
      "\n",
      ".....#....\n",
      "....#...O#\n",
      ".....##...\n",
      "..O#......\n",
      ".....OOO#.\n",
      ".O#...O#.#\n",
      "....O#...O\n",
      ".......OOO\n",
      "#..OO###..\n",
      "#.OOO#...O\n",
      "\n",
      ".....#....\n",
      "....#...O#\n",
      ".....##...\n",
      "..O#......\n",
      ".....OOO#.\n",
      ".O#...O#.#\n",
      "....O#...O\n",
      ".......OOO\n",
      "#...O###.O\n",
      "#.OOO#...O\n",
      "\n"
     ]
    }
   ],
   "source": [
    "grid = test_input\n",
    "for _ in range(3):\n",
    "    grid = tilt_north(grid)[0]\n",
    "    grid = tilt_west(grid)\n",
    "    grid = tilt_south(grid)\n",
    "    grid = tilt_east(grid)\n",
    "    print_grid(grid)\n",
    "    print()"
   ]
  },
  {
   "cell_type": "code",
   "execution_count": 17,
   "id": "6daa70f0-2bc1-4d42-8ba5-934080e9caf7",
   "metadata": {},
   "outputs": [],
   "source": [
    "def get_load(grid):\n",
    "    h, w = len(grid), len(grid[0])\n",
    "    load = 0\n",
    "    for j in range(w):\n",
    "        for i in range(h):\n",
    "            if grid[i][j] == 'O':\n",
    "                load += h - i\n",
    "    return load"
   ]
  },
  {
   "cell_type": "code",
   "execution_count": 18,
   "id": "2dc4742b-20de-4fa7-aec0-adbd1ff3a039",
   "metadata": {},
   "outputs": [],
   "source": [
    "from itertools import cycle"
   ]
  },
  {
   "cell_type": "code",
   "execution_count": 19,
   "id": "7ff5fb3b-87e1-42dc-ad15-01224251554f",
   "metadata": {},
   "outputs": [],
   "source": [
    "def solve2(grid):\n",
    "    cycles = 1_000_000_000 * 4\n",
    "    indexes = {}\n",
    "    t_north = lambda g: tilt_north(g)[0]\n",
    "    tilts = cycle([t_north, tilt_west, tilt_south, tilt_east])\n",
    "    indexes[sig(grid)] = 0\n",
    "    cycle_start, cycle_length = None, None\n",
    "    i = 0\n",
    "    for t in tilts:\n",
    "        grid = t(grid)\n",
    "        i += 1\n",
    "        s = sig(grid)\n",
    "        if s in indexes:\n",
    "            cycle_start = indexes[s]\n",
    "            cycle_length = i - indexes[s]\n",
    "            break\n",
    "        indexes[s] = i\n",
    "    idx = cycle_start + (cycles - cycle_start) % cycle_length\n",
    "    for g, i in indexes.items():\n",
    "        if i == idx:\n",
    "            grid = g\n",
    "            break\n",
    "    return get_load(grid)"
   ]
  },
  {
   "cell_type": "code",
   "execution_count": 20,
   "id": "f0ec4839-9159-4297-a59a-3312ccb68583",
   "metadata": {},
   "outputs": [
    {
     "data": {
      "text/plain": [
       "64"
      ]
     },
     "execution_count": 20,
     "metadata": {},
     "output_type": "execute_result"
    }
   ],
   "source": [
    "solve2(test_input)"
   ]
  },
  {
   "cell_type": "code",
   "execution_count": 21,
   "id": "ed4bec73-3530-43ec-a0af-8672802a9732",
   "metadata": {},
   "outputs": [
    {
     "data": {
      "text/plain": [
       "102055"
      ]
     },
     "execution_count": 21,
     "metadata": {},
     "output_type": "execute_result"
    }
   ],
   "source": [
    "solve2(my_input)"
   ]
  },
  {
   "cell_type": "code",
   "execution_count": null,
   "id": "9511cd37-87a7-496e-afc2-3f2ba87acfe1",
   "metadata": {},
   "outputs": [],
   "source": []
  }
 ],
 "metadata": {
  "kernelspec": {
   "display_name": "Python 3 (ipykernel)",
   "language": "python",
   "name": "python3"
  },
  "language_info": {
   "codemirror_mode": {
    "name": "ipython",
    "version": 3
   },
   "file_extension": ".py",
   "mimetype": "text/x-python",
   "name": "python",
   "nbconvert_exporter": "python",
   "pygments_lexer": "ipython3",
   "version": "3.11.6"
  }
 },
 "nbformat": 4,
 "nbformat_minor": 5
}
