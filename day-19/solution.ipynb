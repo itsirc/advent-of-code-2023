{
 "cells": [
  {
   "cell_type": "code",
   "execution_count": 1,
   "id": "2ab6b2bd-9ad0-45d1-9757-a2b98892dc08",
   "metadata": {},
   "outputs": [],
   "source": [
    "class Condition:\n",
    "    category = None\n",
    "    operator = None\n",
    "    value = 0\n",
    "    next = None\n",
    "    def __init__(self, category, operator, value, next):\n",
    "        self.category = category\n",
    "        self.operator = operator\n",
    "        self.value = value\n",
    "        self.next = next\n",
    "\n",
    "    def next_workflow(self, part):\n",
    "        part_value = part.category(self.category)\n",
    "        result = part_value - self.value\n",
    "        cmp_res = 0\n",
    "        if result > 0:\n",
    "            cmp_res = 1\n",
    "        else:\n",
    "            cmp_res = -1\n",
    "        expected_values = {'>': 1, '<': -1}\n",
    "        if cmp_res == expected_values[self.operator]:\n",
    "            return self.next\n",
    "        return None\n",
    "\n",
    "    @staticmethod\n",
    "    def from_str(c_str):\n",
    "        if ':' not in c_str:\n",
    "            return AlwaysApplyRule(c_str)\n",
    "        parts = c_str.split(':')\n",
    "        return Condition(parts[0][0], parts[0][1], int(parts[0][2:]), parts[1])\n",
    "        \n",
    "    def __repr__(self):\n",
    "        return f'{self.category}{self.operator}{self.value}:{self.next}'"
   ]
  },
  {
   "cell_type": "code",
   "execution_count": 2,
   "id": "5156bd4b-8327-46a3-af91-4f1af1a99ac8",
   "metadata": {},
   "outputs": [],
   "source": [
    "class AlwaysApplyRule(Condition):\n",
    "    def __init__(self, next):\n",
    "        self.next = next\n",
    "\n",
    "    def next_workflow(self, part):\n",
    "        return self.next\n",
    "\n",
    "    def __repr__(self):\n",
    "        return self.next"
   ]
  },
  {
   "cell_type": "code",
   "execution_count": 3,
   "id": "3ab222fa-0774-42fa-8bda-bd4f5eafe01a",
   "metadata": {},
   "outputs": [],
   "source": [
    "class Workflow:\n",
    "    name = None\n",
    "    conditions = []\n",
    "\n",
    "    def __init__(self, name, conditions):\n",
    "        self.name = name\n",
    "        self.conditions = conditions\n",
    "\n",
    "    def apply(self, part, all_workflows):\n",
    "        for c in self.conditions:\n",
    "            res = c.next_workflow(part)\n",
    "            if res:\n",
    "                if res in ('A', 'R'):\n",
    "                    return res == 'A'\n",
    "                return all_workflows[res].apply(part, all_workflows)\n",
    "\n",
    "    @staticmethod\n",
    "    def from_str(w_str):\n",
    "        name, rest = w_str.split('{')\n",
    "        conditions = [Condition.from_str(p) for p in rest.rstrip('}').split(',')]\n",
    "        return Workflow(name, conditions)\n",
    "\n",
    "    def __repr__(self):\n",
    "        return '{}{{{}}}'.format(self.name, ','.join(repr(c) for c in self.conditions))\n",
    "    "
   ]
  },
  {
   "cell_type": "code",
   "execution_count": 4,
   "id": "e128a815-f432-4acd-a04f-f171cd7d2055",
   "metadata": {},
   "outputs": [],
   "source": [
    "class Part:\n",
    "    categories = None\n",
    "    \n",
    "    def __init__(self, categories):\n",
    "        self.categories = categories\n",
    "\n",
    "    def category(self, name):\n",
    "        return self.categories.get(name)\n",
    "\n",
    "    @staticmethod\n",
    "    def from_str(p_str):\n",
    "        parts = [p.split('=') for p in p_str[1:-1].split(',')]\n",
    "        return Part({ k: int(v) for k, v in parts})\n",
    "\n",
    "    def __repr__(self):\n",
    "        cat = ','.join(f'{k}={v}' for k, v in self.categories.items())\n",
    "        return f'{{{cat}}}'"
   ]
  },
  {
   "cell_type": "code",
   "execution_count": 5,
   "id": "6da6318b-8fcc-45bc-b61d-cdbe053ba24f",
   "metadata": {},
   "outputs": [],
   "source": [
    "def get_input(fname='test.txt'):\n",
    "    workflows, parts = [], []\n",
    "    is_parts = False\n",
    "    with open(fname) as f:\n",
    "        for l in f.readlines():\n",
    "            line = l.rstrip()\n",
    "            if not line:\n",
    "                is_parts = True\n",
    "                continue\n",
    "            if is_parts:\n",
    "                parts.append(Part.from_str(line))\n",
    "            else:\n",
    "                workflows.append(Workflow.from_str(line))\n",
    "    return workflows, parts"
   ]
  },
  {
   "cell_type": "code",
   "execution_count": 6,
   "id": "5f423515-a072-4ced-bde7-152448231c41",
   "metadata": {},
   "outputs": [],
   "source": [
    "test_workflows, test_parts = get_input('test.txt')\n",
    "my_workflows, my_parts = get_input('input.txt')"
   ]
  },
  {
   "cell_type": "code",
   "execution_count": 7,
   "id": "83c6027d-0c39-450a-a48f-a59be0f6c9bd",
   "metadata": {},
   "outputs": [
    {
     "data": {
      "text/plain": [
       "{x=787,m=2655,a=1222,s=2876}"
      ]
     },
     "execution_count": 7,
     "metadata": {},
     "output_type": "execute_result"
    }
   ],
   "source": [
    "Part.from_str('{x=787,m=2655,a=1222,s=2876}')"
   ]
  },
  {
   "cell_type": "code",
   "execution_count": 8,
   "id": "53b1a400-b60c-46d4-9b18-873fd176f9d9",
   "metadata": {},
   "outputs": [],
   "source": [
    "test_workflows = { w.name: w for w in test_workflows }"
   ]
  },
  {
   "cell_type": "code",
   "execution_count": 9,
   "id": "ae729f3a-fa5f-4329-ad8b-ecb7d85281f2",
   "metadata": {},
   "outputs": [
    {
     "data": {
      "text/plain": [
       "{'px': px{a<2006:qkq,m>2090:A,rfg},\n",
       " 'pv': pv{a>1716:R,A},\n",
       " 'lnx': lnx{m>1548:A,A},\n",
       " 'rfg': rfg{s<537:gd,x>2440:R,A},\n",
       " 'qs': qs{s>3448:A,lnx},\n",
       " 'qkq': qkq{x<1416:A,crn},\n",
       " 'crn': crn{x>2662:A,R},\n",
       " 'in': in{s<1351:px,qqz},\n",
       " 'qqz': qqz{s>2770:qs,m<1801:hdj,R},\n",
       " 'gd': gd{a>3333:R,R},\n",
       " 'hdj': hdj{m>838:A,pv}}"
      ]
     },
     "execution_count": 9,
     "metadata": {},
     "output_type": "execute_result"
    }
   ],
   "source": [
    "test_workflows"
   ]
  },
  {
   "cell_type": "code",
   "execution_count": 10,
   "id": "36dd034a-a465-4022-9fb3-0baf8271e802",
   "metadata": {},
   "outputs": [],
   "source": [
    "def solve(workflows, parts):\n",
    "    return [p for p in parts if workflows['in'].apply(p, workflows)]"
   ]
  },
  {
   "cell_type": "code",
   "execution_count": 11,
   "id": "58d740d0-7731-4a56-92d5-de8b9c770db1",
   "metadata": {},
   "outputs": [
    {
     "data": {
      "text/plain": [
       "[{x=787,m=2655,a=1222,s=2876},\n",
       " {x=2036,m=264,a=79,s=2244},\n",
       " {x=2127,m=1623,a=2188,s=1013}]"
      ]
     },
     "execution_count": 11,
     "metadata": {},
     "output_type": "execute_result"
    }
   ],
   "source": [
    "solve(test_workflows, test_parts)"
   ]
  },
  {
   "cell_type": "code",
   "execution_count": 12,
   "id": "cf37cdd5-fb26-4510-8111-41a60e099311",
   "metadata": {},
   "outputs": [
    {
     "data": {
      "text/plain": [
       "19114"
      ]
     },
     "execution_count": 12,
     "metadata": {},
     "output_type": "execute_result"
    }
   ],
   "source": [
    "sum(sum(p.categories.values()) for p in solve(test_workflows, test_parts))"
   ]
  },
  {
   "cell_type": "code",
   "execution_count": 13,
   "id": "09ca5f72-de06-495f-99ae-0f89f587bc4d",
   "metadata": {},
   "outputs": [],
   "source": [
    "my_workflows = { w.name: w for w in my_workflows }"
   ]
  },
  {
   "cell_type": "code",
   "execution_count": 14,
   "id": "93fe72e4-7c2c-4435-a450-b5d182967793",
   "metadata": {},
   "outputs": [
    {
     "data": {
      "text/plain": [
       "377025"
      ]
     },
     "execution_count": 14,
     "metadata": {},
     "output_type": "execute_result"
    }
   ],
   "source": [
    "sum(sum(p.categories.values()) for p in solve(my_workflows, my_parts))"
   ]
  },
  {
   "cell_type": "code",
   "execution_count": 15,
   "id": "18396a1a-bc42-4b75-8c5c-73f565b5b06f",
   "metadata": {},
   "outputs": [],
   "source": [
    "class Range:\n",
    "    min = None\n",
    "    max = None\n",
    "\n",
    "    def __init__(self, min=1, max=4000):\n",
    "        self.min = min\n",
    "        self.max = max\n",
    "\n",
    "    def __repr__(self):\n",
    "        return '[{}:{}]'.format(self.min or '-', self.max or '-')\n",
    "\n",
    "    def is_bound(self):\n",
    "        return self.min is not None and self.max is not None\n",
    "\n",
    "    def is_valid(self):\n",
    "        return not self.is_bound() or self.min <= self.max\n",
    "\n",
    "    def length(self):\n",
    "        return self.max - self.min + 1"
   ]
  },
  {
   "cell_type": "code",
   "execution_count": 16,
   "id": "0ea490a2-96e9-4ff3-ab98-393c20380ae4",
   "metadata": {},
   "outputs": [
    {
     "data": {
      "text/plain": [
       "[1:4000]"
      ]
     },
     "execution_count": 16,
     "metadata": {},
     "output_type": "execute_result"
    }
   ],
   "source": [
    "Range()"
   ]
  },
  {
   "cell_type": "code",
   "execution_count": 17,
   "id": "2c19b667-ae65-4a2c-ba36-921b98483dbf",
   "metadata": {},
   "outputs": [],
   "source": [
    "def merge(range1, range2):\n",
    "    lft = None\n",
    "    for m in [range1.min, range2.min]:\n",
    "        if m:\n",
    "            lft = max(lft or m, m)\n",
    "    rgt = None\n",
    "    for m in [range1.max, range2.max]:\n",
    "        if m:\n",
    "            rgt = min(rgt or m, m)\n",
    "    return Range(lft, rgt)"
   ]
  },
  {
   "cell_type": "code",
   "execution_count": 18,
   "id": "bf07cb51-f3a8-4380-98b1-b6565ec307e2",
   "metadata": {},
   "outputs": [],
   "source": [
    "def opposite_range(condition):\n",
    "    # category, operator, value\n",
    "    if condition.operator is None:\n",
    "        return Range()\n",
    "    elif condition.operator == '<': # >=\n",
    "        return Range(min=condition.value)\n",
    "    else: # <=\n",
    "        return Range(max=condition.value)"
   ]
  },
  {
   "cell_type": "code",
   "execution_count": 19,
   "id": "a6615e71-354b-483f-804b-b2a61f7e525a",
   "metadata": {},
   "outputs": [],
   "source": [
    "def normal_range(condition):\n",
    "    if condition.operator is None:\n",
    "        return Range()\n",
    "    elif condition.operator == '<':\n",
    "        return Range(max=condition.value-1)\n",
    "    else: # <=\n",
    "        return Range(min=condition.value+1)"
   ]
  },
  {
   "cell_type": "code",
   "execution_count": 20,
   "id": "46af8b90-8e3c-441e-abeb-15f84212c114",
   "metadata": {},
   "outputs": [],
   "source": [
    "from collections import deque"
   ]
  },
  {
   "cell_type": "code",
   "execution_count": 21,
   "id": "45aed5e8-a8af-499a-9f62-6441d04ad4ba",
   "metadata": {},
   "outputs": [],
   "source": [
    "def deep_copy(part_ranges):\n",
    "    new_part_ranges = {}\n",
    "    for k, r in part_ranges.items():\n",
    "        new_part_ranges[k] = Range(min=r.min, max=r.max)\n",
    "    return new_part_ranges"
   ]
  },
  {
   "cell_type": "code",
   "execution_count": 22,
   "id": "bfd4371b-4c9b-40fb-904a-b78bd13fb2da",
   "metadata": {},
   "outputs": [],
   "source": [
    "def all_possibilities(workflows):\n",
    "    condition_ranges = {\n",
    "        'x': Range(),\n",
    "        'm': Range(),\n",
    "        'a': Range(),\n",
    "        's': Range(),\n",
    "    } # all values\n",
    "    q = deque([('in', condition_ranges)])\n",
    "    finished = {\n",
    "        'A': [],\n",
    "        'R': []\n",
    "    }\n",
    "    while q:\n",
    "        wf_name, c_ranges = q.popleft()\n",
    "        if wf_name in ('A', 'R'):\n",
    "            finished[wf_name].append(c_ranges)\n",
    "            continue\n",
    "        workflow = workflows[wf_name]\n",
    "        for condition in workflow.conditions:\n",
    "            if condition.operator is None:\n",
    "                # last condition, must pass\n",
    "                q.append((condition.next, deep_copy(c_ranges)))\n",
    "            else:\n",
    "                # 1 - pass\n",
    "                cat_range = merge(c_ranges[condition.category], normal_range(condition))\n",
    "                if cat_range.is_valid():\n",
    "                    next_ranges = deep_copy(c_ranges)\n",
    "                    next_ranges[condition.category] = cat_range\n",
    "                    q.append((condition.next, next_ranges))\n",
    "                # 2 - fail\n",
    "                cat_range = merge(c_ranges[condition.category], opposite_range(condition))\n",
    "                if not cat_range.is_valid():\n",
    "                    break\n",
    "                c_ranges[condition.category] = cat_range\n",
    "                    \n",
    "    accepted = finished['A']\n",
    "    total = 0\n",
    "    for a in accepted:\n",
    "        t = 1\n",
    "        for c in 'xmas':\n",
    "            t *= a[c].length()\n",
    "        total += t\n",
    "    return total"
   ]
  },
  {
   "cell_type": "code",
   "execution_count": 23,
   "id": "bddc6247-b307-4068-a5bf-f01ae3f46158",
   "metadata": {},
   "outputs": [
    {
     "data": {
      "text/plain": [
       "167409079868000"
      ]
     },
     "execution_count": 23,
     "metadata": {},
     "output_type": "execute_result"
    }
   ],
   "source": [
    "all_possibilities(test_workflows)"
   ]
  },
  {
   "cell_type": "code",
   "execution_count": 24,
   "id": "207c5ae7-4ad5-4465-8070-f7cb953f1fa5",
   "metadata": {},
   "outputs": [
    {
     "data": {
      "text/plain": [
       "135506683246673"
      ]
     },
     "execution_count": 24,
     "metadata": {},
     "output_type": "execute_result"
    }
   ],
   "source": [
    "all_possibilities(my_workflows)"
   ]
  },
  {
   "cell_type": "code",
   "execution_count": null,
   "id": "a91b2911-0e0a-44c3-81c1-3788489ac3c7",
   "metadata": {},
   "outputs": [],
   "source": []
  }
 ],
 "metadata": {
  "kernelspec": {
   "display_name": "Python 3 (ipykernel)",
   "language": "python",
   "name": "python3"
  },
  "language_info": {
   "codemirror_mode": {
    "name": "ipython",
    "version": 3
   },
   "file_extension": ".py",
   "mimetype": "text/x-python",
   "name": "python",
   "nbconvert_exporter": "python",
   "pygments_lexer": "ipython3",
   "version": "3.11.6"
  }
 },
 "nbformat": 4,
 "nbformat_minor": 5
}
