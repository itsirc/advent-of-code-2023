{
 "cells": [
  {
   "cell_type": "code",
   "execution_count": 1,
   "id": "30349a55-cf66-4509-a093-f92baaf3cc3e",
   "metadata": {},
   "outputs": [],
   "source": [
    "class Range:\n",
    "    destination = 0\n",
    "    source = 0\n",
    "    length = 0\n",
    "    start = 0\n",
    "    end = 0\n",
    "    def __init__(self, destination, source, length):\n",
    "        self.destination = destination\n",
    "        self.source = source\n",
    "        self.length = length\n",
    "\n",
    "    def contains(self, value):\n",
    "        return self.source <= value < self.source + self.length\n",
    "\n",
    "    def transform(self, value):\n",
    "        if not self.contains(value):\n",
    "            return None\n",
    "        return self.destination + value - self.source\n",
    "\n",
    "    def __repr__(self):\n",
    "        if self.destination == self.source:\n",
    "            delta = \"\"\n",
    "        elif self.destination > self.source:\n",
    "            delta = f\"+{self.destination-self.source}\"\n",
    "        else:\n",
    "            delta = f\"{self.destination-self.source}\"\n",
    "        return f\"[{self.source}:{self.source + self.length - 1}]{delta}\""
   ]
  },
  {
   "cell_type": "code",
   "execution_count": 2,
   "id": "a91a9905-c303-48da-8755-427a7011977d",
   "metadata": {},
   "outputs": [],
   "source": [
    "class Interval:\n",
    "    start = 0\n",
    "    end = 0\n",
    "\n",
    "    def __init__(self, start, end):\n",
    "        self.start = start\n",
    "        self.end = end\n",
    "\n",
    "    @staticmethod\n",
    "    def from_range(range):\n",
    "        return Interval(range.source, range.source + range.length - 1)\n",
    "    \n",
    "    def __repr__(self):\n",
    "        return f\"[{self.start}:{self.end}]\""
   ]
  },
  {
   "cell_type": "code",
   "execution_count": 3,
   "id": "0612077e-3e0c-4eb2-b6e7-e9a3394e220c",
   "metadata": {},
   "outputs": [],
   "source": [
    "class Map:\n",
    "    from_type = None\n",
    "    to_type = None\n",
    "    ranges = []\n",
    "    def __init__(self, from_type=None, to_type=None, ranges=None):\n",
    "        self.from_type = from_type\n",
    "        self.to_type = to_type\n",
    "        self.ranges = ranges or []\n",
    "\n",
    "    def transform(self, value):\n",
    "        for r in self.ranges:\n",
    "            v = r.transform(value)\n",
    "            if v:\n",
    "                return v\n",
    "        return value\n",
    "\n",
    "    def __repr__(self):\n",
    "        return repr(self.__dict__)"
   ]
  },
  {
   "cell_type": "code",
   "execution_count": 4,
   "id": "6da6318b-8fcc-45bc-b61d-cdbe053ba24f",
   "metadata": {},
   "outputs": [],
   "source": [
    "def get_input(fname=\"test.txt\"):\n",
    "    seeds = []\n",
    "    maps = [Map()]\n",
    "    with open(fname) as f:\n",
    "        lines = f.readlines()\n",
    "        seeds = [int(i) for i in lines[0].rstrip().split(\": \")[-1].split(\" \")]\n",
    "        for l in lines[2:]:\n",
    "            line = l.rstrip()\n",
    "            if not line:\n",
    "                maps.append(Map())\n",
    "                continue\n",
    "            if line[-1] == \":\":\n",
    "                parts = line.split(\" \")[0].split(\"-\")\n",
    "                maps[-1].from_type = parts[0]\n",
    "                maps[-1].to_type = parts[-1]\n",
    "                continue\n",
    "            values = [int(i) for i in line.split(\" \")]\n",
    "            maps[-1].ranges.append(Range(values[0], values[1], values[2]))\n",
    "    return seeds, maps"
   ]
  },
  {
   "cell_type": "code",
   "execution_count": 5,
   "id": "5f423515-a072-4ced-bde7-152448231c41",
   "metadata": {},
   "outputs": [],
   "source": [
    "test_seeds, test_maps = get_input(\"test.txt\")\n",
    "my_seeds, my_maps = get_input(\"input.txt\")"
   ]
  },
  {
   "cell_type": "code",
   "execution_count": 6,
   "id": "83c6027d-0c39-450a-a48f-a59be0f6c9bd",
   "metadata": {},
   "outputs": [
    {
     "data": {
      "text/plain": [
       "[79, 14, 55, 13]"
      ]
     },
     "execution_count": 6,
     "metadata": {},
     "output_type": "execute_result"
    }
   ],
   "source": [
    "test_seeds"
   ]
  },
  {
   "cell_type": "code",
   "execution_count": 7,
   "id": "00ce6d99-01bc-4e43-a53d-4e12a8272996",
   "metadata": {},
   "outputs": [
    {
     "data": {
      "text/plain": [
       "[{'from_type': 'seed', 'to_type': 'soil', 'ranges': [[98:99]-48, [50:97]+2]},\n",
       " {'from_type': 'soil', 'to_type': 'fertilizer', 'ranges': [[15:51]-15, [52:53]-15, [0:14]+39]},\n",
       " {'from_type': 'fertilizer', 'to_type': 'water', 'ranges': [[53:60]-4, [11:52]-11, [0:6]+42, [7:10]+50]},\n",
       " {'from_type': 'water', 'to_type': 'light', 'ranges': [[18:24]+70, [25:94]-7]},\n",
       " {'from_type': 'light', 'to_type': 'temperature', 'ranges': [[77:99]-32, [45:63]+36, [64:76]+4]},\n",
       " {'from_type': 'temperature', 'to_type': 'humidity', 'ranges': [[69:69]-69, [0:68]+1]},\n",
       " {'from_type': 'humidity', 'to_type': 'location', 'ranges': [[56:92]+4, [93:96]-37]}]"
      ]
     },
     "execution_count": 7,
     "metadata": {},
     "output_type": "execute_result"
    }
   ],
   "source": [
    "test_maps"
   ]
  },
  {
   "cell_type": "code",
   "execution_count": 8,
   "id": "2416bfc8-bec5-4ef3-8571-e1ac27d72aef",
   "metadata": {},
   "outputs": [],
   "source": [
    "def solve(seeds, maps):\n",
    "    seed_values= { 'seed': seeds }\n",
    "    maps = { m.from_type: m for m in maps }\n",
    "    current_type = 'seed'\n",
    "    while current_type != 'location':\n",
    "        previous_type = current_type\n",
    "        current_type = maps[current_type].to_type\n",
    "        seed_values[current_type] = [maps[previous_type].transform(s) for s in seed_values[previous_type]]\n",
    "    return seed_values"
   ]
  },
  {
   "cell_type": "code",
   "execution_count": 9,
   "id": "58f12ece-e96b-4af5-9614-b808eb6023a7",
   "metadata": {},
   "outputs": [
    {
     "data": {
      "text/plain": [
       "{'seed': [79, 14, 55, 13],\n",
       " 'soil': [81, 14, 57, 13],\n",
       " 'fertilizer': [81, 53, 57, 52],\n",
       " 'water': [81, 49, 53, 41],\n",
       " 'light': [74, 42, 46, 34],\n",
       " 'temperature': [78, 42, 82, 34],\n",
       " 'humidity': [78, 43, 82, 35],\n",
       " 'location': [82, 43, 86, 35]}"
      ]
     },
     "execution_count": 9,
     "metadata": {},
     "output_type": "execute_result"
    }
   ],
   "source": [
    "solve(test_seeds, test_maps)"
   ]
  },
  {
   "cell_type": "code",
   "execution_count": 10,
   "id": "1ace8d9b-b7c4-487d-82a5-8bf705cd796b",
   "metadata": {},
   "outputs": [
    {
     "data": {
      "text/plain": [
       "35"
      ]
     },
     "execution_count": 10,
     "metadata": {},
     "output_type": "execute_result"
    }
   ],
   "source": [
    "min(solve(test_seeds, test_maps)['location'])"
   ]
  },
  {
   "cell_type": "code",
   "execution_count": 11,
   "id": "017aa46a-8e87-4c71-9c07-6932c1625ab9",
   "metadata": {},
   "outputs": [
    {
     "data": {
      "text/plain": [
       "282277027"
      ]
     },
     "execution_count": 11,
     "metadata": {},
     "output_type": "execute_result"
    }
   ],
   "source": [
    "min(solve(my_seeds, my_maps)['location'])"
   ]
  },
  {
   "cell_type": "code",
   "execution_count": 12,
   "id": "46275d5c-823e-4b81-8816-2503dd30f2f0",
   "metadata": {},
   "outputs": [],
   "source": [
    "def sorted_intervals(intervals):\n",
    "    return sorted(intervals, key=lambda i: i.start)"
   ]
  },
  {
   "cell_type": "code",
   "execution_count": 13,
   "id": "e3356050-9e4f-4e13-b8ac-d6d073a8d83c",
   "metadata": {},
   "outputs": [],
   "source": [
    "def merge_intervals(intervals):\n",
    "    intervals = sorted_intervals(intervals)\n",
    "    merged = [Interval(intervals[0].start, intervals[0].end)]\n",
    "    for i in range(1, len(intervals)):\n",
    "        if intervals[i].start == merged[-1].end + 1:\n",
    "            merged[-1].end = intervals[i].end\n",
    "        else:\n",
    "            merged.append(Interval(intervals[i].start, intervals[i].end))\n",
    "    return merged"
   ]
  },
  {
   "cell_type": "code",
   "execution_count": 14,
   "id": "8f63a8bc-3463-4052-b2ac-35d658305506",
   "metadata": {},
   "outputs": [
    {
     "data": {
      "text/plain": [
       "[[1:4], [10:14]]"
      ]
     },
     "execution_count": 14,
     "metadata": {},
     "output_type": "execute_result"
    }
   ],
   "source": [
    "merge_intervals([Interval(1, 2), Interval(3, 4), Interval(10, 14)])"
   ]
  },
  {
   "cell_type": "code",
   "execution_count": 15,
   "id": "f572aaf3-d9f4-417b-a7fb-533cafec6a80",
   "metadata": {},
   "outputs": [
    {
     "data": {
      "text/plain": [
       "[[1:2], [4:7]]"
      ]
     },
     "execution_count": 15,
     "metadata": {},
     "output_type": "execute_result"
    }
   ],
   "source": [
    "merge_intervals([Interval(1, 2), Interval(4, 7)])"
   ]
  },
  {
   "cell_type": "code",
   "execution_count": 16,
   "id": "1d566a0f-4c75-4764-889d-2f177e52a469",
   "metadata": {},
   "outputs": [],
   "source": [
    "Range.transform_interval = lambda self, interval: Interval(self.transform(interval.start), self.transform(interval.end))"
   ]
  },
  {
   "cell_type": "code",
   "execution_count": 17,
   "id": "f8c8f17f-0fff-492e-828f-ab73b3931cb8",
   "metadata": {},
   "outputs": [],
   "source": [
    "def solve2(seeds, maps):\n",
    "    seed_intervals = []\n",
    "    for i in range(len(seeds) // 2):\n",
    "        seed_intervals.append(Interval(seeds[i * 2], seeds[i * 2] + seeds[i * 2 + 1] - 1))\n",
    "    seed_intervals = sorted_intervals(seed_intervals)\n",
    "    maps = { m.from_type: m for m in maps }\n",
    "    current_type = 'seed'\n",
    "    while current_type != 'location':\n",
    "        previous_type = current_type\n",
    "        current_type = maps[current_type].to_type\n",
    "        map_ranges = sorted(maps[previous_type].ranges, key=lambda r: r.source)\n",
    "        map_intervals = [Interval.from_range(r) for r in map_ranges]\n",
    "        previous = seed_intervals\n",
    "        seed_intervals = []\n",
    "        i = 0\n",
    "        j = 0\n",
    "        while i < len(previous) and j < len(map_intervals):\n",
    "            while i < len(previous) and previous[i].end < map_intervals[j].start:\n",
    "                seed_intervals.append(previous[i])\n",
    "                i += 1\n",
    "            if i >= len(previous):\n",
    "                break\n",
    "            # Intersection?\n",
    "            # 1 - map range contains all seed range\n",
    "            if map_intervals[j].start <= previous[i].start and previous[i].end <= map_intervals[j].end:\n",
    "                seed_intervals.append(map_ranges[j].transform_interval(previous[i]))\n",
    "                i += 1\n",
    "                continue\n",
    "            # 2 - seed range contains all map range\n",
    "            if previous[i].start <= map_intervals[j].start and map_intervals[j].end <= previous[i].end:\n",
    "                seed_intervals.append(Interval(previous[i].start, map_intervals[j].start - 1))\n",
    "                seed_intervals.append(map_ranges[j].transform_interval(map_intervals[j]))\n",
    "                previous[i] = Interval(map_intervals[j].end + 1, previous[i].end)\n",
    "                j += 1\n",
    "                continue\n",
    "            # 3 - seed range overlaps to the left\n",
    "            if map_intervals[j].start <= previous[i].end <= map_intervals[j].end:\n",
    "                seed_intervals.append(Interval(previous[i].start, map_intervals[j].start - 1))\n",
    "                seed_intervals.append(map_ranges[j].transform_interval(map_intervals[j]))                \n",
    "                i += 1\n",
    "                continue\n",
    "            # 4 - seed range overlaps to the right\n",
    "            if map_intervals[j].start <= previous[i].start <= map_intervals[j].end:\n",
    "                seed_intervals.append(map_ranges[j].transform_interval(Interval(previous[i].start, map_intervals[j].end)))\n",
    "                previous[i] = Interval(map_intervals[j].end + 1, previous[i].end)\n",
    "                j += 1\n",
    "                continue\n",
    "            # 5 - skip\n",
    "            j += 1\n",
    "        while i < len(previous):\n",
    "            seed_intervals.append(previous[i])\n",
    "            i += 1\n",
    "        seed_intervals = merge_intervals(seed_intervals)\n",
    "    return seed_intervals"
   ]
  },
  {
   "cell_type": "code",
   "execution_count": 18,
   "id": "b387861c-f001-4b76-9642-b837ed1f0a65",
   "metadata": {},
   "outputs": [
    {
     "data": {
      "text/plain": [
       "[[46:96], [82:84], [86:89], [93:92], [94:98]]"
      ]
     },
     "execution_count": 18,
     "metadata": {},
     "output_type": "execute_result"
    }
   ],
   "source": [
    "solve2(test_seeds, test_maps)"
   ]
  },
  {
   "cell_type": "code",
   "execution_count": 19,
   "id": "29b55809-de17-4b6f-b743-d11b3a76acf5",
   "metadata": {},
   "outputs": [
    {
     "data": {
      "text/plain": [
       "11554135"
      ]
     },
     "execution_count": 19,
     "metadata": {},
     "output_type": "execute_result"
    }
   ],
   "source": [
    "solve2(my_seeds, my_maps)[0].start"
   ]
  },
  {
   "cell_type": "code",
   "execution_count": null,
   "id": "2436aff5-7e01-4e4d-8df3-64ea00cd1436",
   "metadata": {},
   "outputs": [],
   "source": []
  }
 ],
 "metadata": {
  "kernelspec": {
   "display_name": "Python 3 (ipykernel)",
   "language": "python",
   "name": "python3"
  },
  "language_info": {
   "codemirror_mode": {
    "name": "ipython",
    "version": 3
   },
   "file_extension": ".py",
   "mimetype": "text/x-python",
   "name": "python",
   "nbconvert_exporter": "python",
   "pygments_lexer": "ipython3",
   "version": "3.11.6"
  }
 },
 "nbformat": 4,
 "nbformat_minor": 5
}
