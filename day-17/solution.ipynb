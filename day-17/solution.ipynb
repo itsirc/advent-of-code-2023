{
 "cells": [
  {
   "cell_type": "code",
   "execution_count": 1,
   "id": "6da6318b-8fcc-45bc-b61d-cdbe053ba24f",
   "metadata": {},
   "outputs": [],
   "source": [
    "def get_input(fname='test.txt'):\n",
    "    input = []\n",
    "    with open(fname) as f:\n",
    "        for l in f.readlines():\n",
    "            line = l.rstrip()\n",
    "            input.append([int(i) for i in list(line)])\n",
    "    return input"
   ]
  },
  {
   "cell_type": "code",
   "execution_count": 2,
   "id": "5f423515-a072-4ced-bde7-152448231c41",
   "metadata": {},
   "outputs": [],
   "source": [
    "test_input = get_input('test.txt')\n",
    "my_input = get_input('input.txt')"
   ]
  },
  {
   "cell_type": "code",
   "execution_count": 3,
   "id": "83c6027d-0c39-450a-a48f-a59be0f6c9bd",
   "metadata": {},
   "outputs": [
    {
     "data": {
      "text/plain": [
       "[[2, 4, 1, 3, 4, 3, 2, 3, 1, 1, 3, 2, 3],\n",
       " [3, 2, 1, 5, 4, 5, 3, 5, 3, 5, 6, 2, 3],\n",
       " [3, 2, 5, 5, 2, 4, 5, 6, 5, 4, 2, 5, 4],\n",
       " [3, 4, 4, 6, 5, 8, 5, 8, 4, 5, 4, 5, 2],\n",
       " [4, 5, 4, 6, 6, 5, 7, 8, 6, 7, 5, 3, 6],\n",
       " [1, 4, 3, 8, 5, 9, 8, 7, 9, 8, 4, 5, 4],\n",
       " [4, 4, 5, 7, 8, 7, 6, 9, 8, 7, 7, 6, 6],\n",
       " [3, 6, 3, 7, 8, 7, 7, 9, 7, 9, 6, 5, 3],\n",
       " [4, 6, 5, 4, 9, 6, 7, 9, 8, 6, 8, 8, 7],\n",
       " [4, 5, 6, 4, 6, 7, 9, 9, 8, 6, 4, 5, 3],\n",
       " [1, 2, 2, 4, 6, 8, 6, 8, 6, 5, 5, 6, 3],\n",
       " [2, 5, 4, 6, 5, 4, 8, 8, 8, 7, 7, 3, 5],\n",
       " [4, 3, 2, 2, 6, 7, 4, 6, 5, 5, 5, 3, 3]]"
      ]
     },
     "execution_count": 3,
     "metadata": {},
     "output_type": "execute_result"
    }
   ],
   "source": [
    "test_input"
   ]
  },
  {
   "cell_type": "code",
   "execution_count": 4,
   "id": "fcdbf7ec-038f-45e4-8b39-1ef8503cce7d",
   "metadata": {},
   "outputs": [],
   "source": [
    "from collections import deque"
   ]
  },
  {
   "cell_type": "code",
   "execution_count": 5,
   "id": "5a54602f-6c7b-4ea9-90f4-a21fa5b886b0",
   "metadata": {},
   "outputs": [],
   "source": [
    "UP = (-1, 0)\n",
    "DOWN = (1, 0)\n",
    "LEFT = (0, -1)\n",
    "RIGHT = (0, 1)"
   ]
  },
  {
   "cell_type": "code",
   "execution_count": 6,
   "id": "883aa8eb-8149-4e72-9a35-fd98f1d3ba2b",
   "metadata": {},
   "outputs": [],
   "source": [
    "DIRECTION_LIST = [LEFT, UP, RIGHT, DOWN]"
   ]
  },
  {
   "cell_type": "code",
   "execution_count": 7,
   "id": "d1ebc328-a7ff-4970-8e7b-88691ee7357d",
   "metadata": {},
   "outputs": [],
   "source": [
    "import heapq"
   ]
  },
  {
   "cell_type": "code",
   "execution_count": 8,
   "id": "7b2f63b1-4f96-430e-81eb-f8e7bb7746c0",
   "metadata": {},
   "outputs": [],
   "source": [
    "def min_loss(grid, min_times=0, max_times=3):\n",
    "    INF = 100 * len(grid) * len(grid[0])\n",
    "    distances = {}\n",
    "    valid = lambda p: p[0] >= 0 and p[0] < len(grid) and p[1] >= 0 and p[1] < len(grid[0])\n",
    "    move = lambda p, d: (p[0] + d[0], p[1] + d[1])\n",
    "    opposite = lambda d: (-d[0], -d[1])\n",
    "    start = (0, 0)\n",
    "    stop = (len(grid) - 1, len(grid[0]) - 1)\n",
    "    distances[start] = 0\n",
    "    nodes = [(0, start, (RIGHT, 0)), (0, start, (DOWN, 0))]\n",
    "    distances[(start, (RIGHT, 0))] = 0\n",
    "    distances[(start, (DOWN, 0))] = 0\n",
    "    while nodes:\n",
    "        min_dist, node, (direction, times) = heapq.heappop(nodes)\n",
    "        for d in DIRECTION_LIST:\n",
    "            neighbor = move(node, d)\n",
    "            if d == opposite(direction):\n",
    "                continue\n",
    "            if d == direction and times >= max_times:\n",
    "                continue\n",
    "            if d != direction and times < min_times:\n",
    "                continue\n",
    "            if not valid(neighbor):\n",
    "                continue\n",
    "            c_dist = min_dist + grid[neighbor[0]][neighbor[1]]\n",
    "            c_direction = d\n",
    "            c_times = 1\n",
    "            if d == direction:\n",
    "                c_times = times + 1\n",
    "            c_vals = (c_dist, neighbor, (c_direction, c_times))\n",
    "            d_key = (neighbor, (c_direction, c_times))\n",
    "            if d_key not in distances or c_dist < distances[d_key]:\n",
    "                distances[d_key] = c_dist\n",
    "                heapq.heappush(nodes, c_vals)\n",
    "    return min(v for (node, _), v in distances.items() if node == stop)\n",
    "        "
   ]
  },
  {
   "cell_type": "code",
   "execution_count": 9,
   "id": "abada39b-7bc9-48ad-a1d1-4385f5f51496",
   "metadata": {},
   "outputs": [
    {
     "data": {
      "text/plain": [
       "102"
      ]
     },
     "execution_count": 9,
     "metadata": {},
     "output_type": "execute_result"
    }
   ],
   "source": [
    "min_loss(test_input)"
   ]
  },
  {
   "cell_type": "code",
   "execution_count": 10,
   "id": "fbbf866d-f92a-45f6-95e3-4101afe3d0d3",
   "metadata": {},
   "outputs": [
    {
     "data": {
      "text/plain": [
       "1260"
      ]
     },
     "execution_count": 10,
     "metadata": {},
     "output_type": "execute_result"
    }
   ],
   "source": [
    "min_loss(my_input)"
   ]
  },
  {
   "cell_type": "code",
   "execution_count": 11,
   "id": "5eb90c25-3c07-419f-97a9-96b8a5290d9c",
   "metadata": {},
   "outputs": [
    {
     "data": {
      "text/plain": [
       "94"
      ]
     },
     "execution_count": 11,
     "metadata": {},
     "output_type": "execute_result"
    }
   ],
   "source": [
    "min_loss(test_input, 4, 10)"
   ]
  },
  {
   "cell_type": "code",
   "execution_count": 12,
   "id": "b09d061f-e83e-4e28-8993-1ddb01d2adb9",
   "metadata": {},
   "outputs": [
    {
     "data": {
      "text/plain": [
       "1416"
      ]
     },
     "execution_count": 12,
     "metadata": {},
     "output_type": "execute_result"
    }
   ],
   "source": [
    "min_loss(my_input, 4, 10)"
   ]
  },
  {
   "cell_type": "code",
   "execution_count": null,
   "id": "326b2674-664d-4982-969b-b9a499e7782c",
   "metadata": {},
   "outputs": [],
   "source": []
  }
 ],
 "metadata": {
  "kernelspec": {
   "display_name": "Python 3 (ipykernel)",
   "language": "python",
   "name": "python3"
  },
  "language_info": {
   "codemirror_mode": {
    "name": "ipython",
    "version": 3
   },
   "file_extension": ".py",
   "mimetype": "text/x-python",
   "name": "python",
   "nbconvert_exporter": "python",
   "pygments_lexer": "ipython3",
   "version": "3.11.6"
  }
 },
 "nbformat": 4,
 "nbformat_minor": 5
}
