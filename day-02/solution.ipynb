{
 "cells": [
  {
   "cell_type": "code",
   "execution_count": 1,
   "id": "6da6318b-8fcc-45bc-b61d-cdbe053ba24f",
   "metadata": {},
   "outputs": [],
   "source": [
    "def get_input(fname=\"test.txt\"):\n",
    "    input = []\n",
    "    with open(fname) as f:\n",
    "        for l in f.readlines():\n",
    "            line = l.strip()\n",
    "            p1 = line.split(\": \")\n",
    "            p2 = p1[-1].split(\"; \")\n",
    "            game = []\n",
    "            for p in p2:\n",
    "                cubes = {}\n",
    "                for cube in p.split(\", \"):\n",
    "                    num, color = cube.split(\" \")\n",
    "                    cubes[color] = int(num)\n",
    "                game.append(cubes)\n",
    "            input.append(game)\n",
    "    return input"
   ]
  },
  {
   "cell_type": "code",
   "execution_count": 2,
   "id": "5f423515-a072-4ced-bde7-152448231c41",
   "metadata": {},
   "outputs": [],
   "source": [
    "test_input = get_input(\"test.txt\")\n",
    "my_input = get_input(\"input.txt\")"
   ]
  },
  {
   "cell_type": "code",
   "execution_count": 3,
   "id": "83c6027d-0c39-450a-a48f-a59be0f6c9bd",
   "metadata": {},
   "outputs": [
    {
     "data": {
      "text/plain": [
       "[[{'blue': 3, 'red': 4}, {'red': 1, 'green': 2, 'blue': 6}, {'green': 2}],\n",
       " [{'blue': 1, 'green': 2},\n",
       "  {'green': 3, 'blue': 4, 'red': 1},\n",
       "  {'green': 1, 'blue': 1}],\n",
       " [{'green': 8, 'blue': 6, 'red': 20},\n",
       "  {'blue': 5, 'red': 4, 'green': 13},\n",
       "  {'green': 5, 'red': 1}],\n",
       " [{'green': 1, 'red': 3, 'blue': 6},\n",
       "  {'green': 3, 'red': 6},\n",
       "  {'green': 3, 'blue': 15, 'red': 14}],\n",
       " [{'red': 6, 'blue': 1, 'green': 3}, {'blue': 2, 'red': 1, 'green': 2}]]"
      ]
     },
     "execution_count": 3,
     "metadata": {},
     "output_type": "execute_result"
    }
   ],
   "source": [
    "test_input"
   ]
  },
  {
   "cell_type": "code",
   "execution_count": 4,
   "id": "6235f019-0428-4c8b-93f9-9c50b14a07d7",
   "metadata": {},
   "outputs": [],
   "source": [
    "def passes(game, thresholds={'red': 12, 'green': 13, 'blue': 14}):\n",
    "    for color, cubes in thresholds.items():\n",
    "        if game.get(color, 0) > cubes:\n",
    "            return False\n",
    "    return True"
   ]
  },
  {
   "cell_type": "code",
   "execution_count": 5,
   "id": "db427ca9-8a92-4816-b6b4-b47f546fd879",
   "metadata": {},
   "outputs": [
    {
     "data": {
      "text/plain": [
       "True"
      ]
     },
     "execution_count": 5,
     "metadata": {},
     "output_type": "execute_result"
    }
   ],
   "source": [
    "all(passes(g) for g in test_input[0])"
   ]
  },
  {
   "cell_type": "code",
   "execution_count": 6,
   "id": "92c47e07-99f3-4779-b60a-d0ddc3d3909a",
   "metadata": {},
   "outputs": [
    {
     "data": {
      "text/plain": [
       "False"
      ]
     },
     "execution_count": 6,
     "metadata": {},
     "output_type": "execute_result"
    }
   ],
   "source": [
    "all(passes(g) for g in test_input[2])"
   ]
  },
  {
   "cell_type": "code",
   "execution_count": 7,
   "id": "d84b7e13-a6bd-4089-8759-2a4cf05eb47f",
   "metadata": {},
   "outputs": [
    {
     "data": {
      "text/plain": [
       "8"
      ]
     },
     "execution_count": 7,
     "metadata": {},
     "output_type": "execute_result"
    }
   ],
   "source": [
    "sum(idx for idx, game in enumerate(test_input, 1) if all(passes(g) for g in game))"
   ]
  },
  {
   "cell_type": "code",
   "execution_count": 8,
   "id": "82ee06a9-9822-4b38-bf94-ec36656459b7",
   "metadata": {},
   "outputs": [
    {
     "data": {
      "text/plain": [
       "2727"
      ]
     },
     "execution_count": 8,
     "metadata": {},
     "output_type": "execute_result"
    }
   ],
   "source": [
    "sum(idx for idx, game in enumerate(my_input, 1) if all(passes(g) for g in game))"
   ]
  },
  {
   "cell_type": "code",
   "execution_count": 9,
   "id": "ade3c577-3686-4e90-a3d2-febc42d6d141",
   "metadata": {},
   "outputs": [],
   "source": [
    "def fewest_cubes(game):\n",
    "    needed_cubes = {'red': 0, 'green': 0, 'blue': 0}\n",
    "    colors = ['red', 'green', 'blue']\n",
    "    for g in game:\n",
    "        for color in colors:\n",
    "            if color in g:\n",
    "                needed_cubes[color] = max(needed_cubes[color], g[color])\n",
    "    return needed_cubes"
   ]
  },
  {
   "cell_type": "code",
   "execution_count": 10,
   "id": "5f29dfa0-d6f1-4a99-9075-7e8a4b004050",
   "metadata": {},
   "outputs": [
    {
     "data": {
      "text/plain": [
       "{'red': 4, 'green': 2, 'blue': 6}"
      ]
     },
     "execution_count": 10,
     "metadata": {},
     "output_type": "execute_result"
    }
   ],
   "source": [
    "fewest_cubes(test_input[0])"
   ]
  },
  {
   "cell_type": "code",
   "execution_count": 11,
   "id": "679147de-3c8d-403a-bd14-5943171939bc",
   "metadata": {},
   "outputs": [
    {
     "data": {
      "text/plain": [
       "{'red': 14, 'green': 3, 'blue': 15}"
      ]
     },
     "execution_count": 11,
     "metadata": {},
     "output_type": "execute_result"
    }
   ],
   "source": [
    "fewest_cubes(test_input[3])"
   ]
  },
  {
   "cell_type": "code",
   "execution_count": 12,
   "id": "df2a623f-7a46-4d52-ad70-1cbffd96ce05",
   "metadata": {},
   "outputs": [],
   "source": [
    "def power(cubes):\n",
    "    p = 1\n",
    "    for v in cubes.values():\n",
    "        p *= v\n",
    "    return p"
   ]
  },
  {
   "cell_type": "code",
   "execution_count": 13,
   "id": "92bb7c24-ed0f-4634-ae14-e41148b06746",
   "metadata": {},
   "outputs": [
    {
     "data": {
      "text/plain": [
       "2286"
      ]
     },
     "execution_count": 13,
     "metadata": {},
     "output_type": "execute_result"
    }
   ],
   "source": [
    "sum(power(fewest_cubes(g)) for g in test_input)"
   ]
  },
  {
   "cell_type": "code",
   "execution_count": 14,
   "id": "4e1e8acb-7751-4512-8557-9853f3b4ad8a",
   "metadata": {},
   "outputs": [
    {
     "data": {
      "text/plain": [
       "56580"
      ]
     },
     "execution_count": 14,
     "metadata": {},
     "output_type": "execute_result"
    }
   ],
   "source": [
    "sum(power(fewest_cubes(g)) for g in my_input)"
   ]
  },
  {
   "cell_type": "code",
   "execution_count": null,
   "id": "a558bfbd-5890-4656-8d2e-d8019209a7ed",
   "metadata": {},
   "outputs": [],
   "source": []
  }
 ],
 "metadata": {
  "kernelspec": {
   "display_name": "Python 3 (ipykernel)",
   "language": "python",
   "name": "python3"
  },
  "language_info": {
   "codemirror_mode": {
    "name": "ipython",
    "version": 3
   },
   "file_extension": ".py",
   "mimetype": "text/x-python",
   "name": "python",
   "nbconvert_exporter": "python",
   "pygments_lexer": "ipython3",
   "version": "3.11.6"
  }
 },
 "nbformat": 4,
 "nbformat_minor": 5
}
