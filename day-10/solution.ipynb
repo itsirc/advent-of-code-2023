{
 "cells": [
  {
   "cell_type": "code",
   "execution_count": 1,
   "id": "6da6318b-8fcc-45bc-b61d-cdbe053ba24f",
   "metadata": {},
   "outputs": [],
   "source": [
    "def get_input(fname=\"test.txt\"):\n",
    "    input = []\n",
    "    with open(fname) as f:\n",
    "        for l in f.readlines():\n",
    "            line = l.rstrip()\n",
    "            input.append(list(line))\n",
    "    return input"
   ]
  },
  {
   "cell_type": "code",
   "execution_count": 2,
   "id": "5f423515-a072-4ced-bde7-152448231c41",
   "metadata": {},
   "outputs": [],
   "source": [
    "test_input = get_input(\"test.txt\")\n",
    "my_input = get_input(\"input.txt\")"
   ]
  },
  {
   "cell_type": "code",
   "execution_count": 3,
   "id": "83c6027d-0c39-450a-a48f-a59be0f6c9bd",
   "metadata": {},
   "outputs": [
    {
     "data": {
      "text/plain": [
       "[['.', '.', 'F', '7', '.'],\n",
       " ['.', 'F', 'J', '|', '.'],\n",
       " ['S', 'J', '.', 'L', '7'],\n",
       " ['|', 'F', '-', '-', 'J'],\n",
       " ['L', 'J', '.', '.', '.']]"
      ]
     },
     "execution_count": 3,
     "metadata": {},
     "output_type": "execute_result"
    }
   ],
   "source": [
    "test_input"
   ]
  },
  {
   "cell_type": "code",
   "execution_count": 4,
   "id": "27b2e9d0-c630-4837-8c26-66caf6c653d3",
   "metadata": {},
   "outputs": [],
   "source": [
    "def print_grid(input):\n",
    "    print('\\n'.join(''.join(l) for l in input))"
   ]
  },
  {
   "cell_type": "code",
   "execution_count": 5,
   "id": "e482c25d-cc21-4966-a1cb-53bdf126e22d",
   "metadata": {},
   "outputs": [
    {
     "name": "stdout",
     "output_type": "stream",
     "text": [
      "..F7.\n",
      ".FJ|.\n",
      "SJ.L7\n",
      "|F--J\n",
      "LJ...\n"
     ]
    }
   ],
   "source": [
    "print_grid(test_input)"
   ]
  },
  {
   "cell_type": "code",
   "execution_count": 6,
   "id": "3f68730c-0994-4220-8c76-940c69f9028f",
   "metadata": {},
   "outputs": [],
   "source": [
    "from collections import deque"
   ]
  },
  {
   "cell_type": "code",
   "execution_count": 7,
   "id": "deaf6b36-d851-48a2-a346-6788d4846e2c",
   "metadata": {},
   "outputs": [],
   "source": [
    "def print_distance_grid(g):\n",
    "    print('\\n'.join(''.join(str(i) if i >= 0 else '.' for i in l) for l in g))"
   ]
  },
  {
   "cell_type": "code",
   "execution_count": 8,
   "id": "ede01edd-a41a-434e-ae73-8b0a9037655a",
   "metadata": {},
   "outputs": [],
   "source": [
    "NORTH, SOUTH, EAST, WEST = (-1, 0), (1, 0), (0, 1), (0, -1)\n",
    "SHAPES = { 'L': (NORTH, EAST), 'J': (NORTH, WEST), 'F': (SOUTH, EAST), '7': (SOUTH, WEST), '|': (NORTH, SOUTH), '-': (EAST, WEST) }"
   ]
  },
  {
   "cell_type": "code",
   "execution_count": 9,
   "id": "1e9a2c73-13a6-41bd-b1d3-0980dd97b9fc",
   "metadata": {},
   "outputs": [],
   "source": [
    "def distances(o_input):\n",
    "    start_position = None\n",
    "    input = [list('.' * (len(o_input[0]) + 2))]\n",
    "    input += [['.'] + l + ['.'] for l in o_input]\n",
    "    input += [list('.' * (len(o_input[0]) + 2))]\n",
    "    start_position = None\n",
    "    start_shape = None\n",
    "    for i, l in enumerate(input):\n",
    "        for j, c in enumerate(l):\n",
    "            if c == 'S':\n",
    "                start_position = (i, j)\n",
    "                reachable = set([NORTH, SOUTH, EAST, WEST])\n",
    "                for direction in (NORTH, SOUTH, EAST, WEST):\n",
    "                    shape = input[i + direction[0]][j + direction[1]]\n",
    "                    if shape == '.':\n",
    "                        reachable.remove(direction)\n",
    "                    # blocking to the right\n",
    "                    if shape in { '|', 'L', 'F' } and direction == EAST:\n",
    "                        reachable.remove(direction)\n",
    "                    # blocking to the left\n",
    "                    if shape in { '|', 'J', '7' } and direction == WEST:\n",
    "                        reachable.remove(direction)\n",
    "                    # blocking to the top\n",
    "                    if shape in { '-', 'L', 'J' } and direction == NORTH:\n",
    "                        reachable.remove(direction)\n",
    "                    # blocking to the bottom\n",
    "                    if shape in { '-', 'F', '7' } and direction == SOUTH:\n",
    "                        reachable.remove(direction)\n",
    "                for shape, d in SHAPES.items():\n",
    "                    if reachable == set(d):\n",
    "                        input[i][j] = shape\n",
    "                        break\n",
    "    distances = [[-1 for _ in l] for l in input]\n",
    "    coordinates = { start_position }\n",
    "    dist = 0\n",
    "    distances[start_position[0]][start_position[1]] = 0\n",
    "    while coordinates:\n",
    "        dist += 1\n",
    "        new_coordinates = set()\n",
    "        for c in coordinates:\n",
    "            shape = input[c[0]][c[1]]\n",
    "            for d in SHAPES[shape]:\n",
    "                i, j = c[0] + d[0], c[1] + d[1]\n",
    "                if distances[i][j] >= 0:\n",
    "                    continue\n",
    "                distances[i][j] = dist\n",
    "                new_coordinates.add((i, j))\n",
    "        coordinates = new_coordinates\n",
    "    return dist - 1"
   ]
  },
  {
   "cell_type": "code",
   "execution_count": 10,
   "id": "476f515e-49d4-4968-a0fe-986d4fa390c3",
   "metadata": {},
   "outputs": [
    {
     "data": {
      "text/plain": [
       "8"
      ]
     },
     "execution_count": 10,
     "metadata": {},
     "output_type": "execute_result"
    }
   ],
   "source": [
    "distances(test_input)"
   ]
  },
  {
   "cell_type": "code",
   "execution_count": 11,
   "id": "3ee50331-acd8-4000-a37c-49ed1a310126",
   "metadata": {
    "scrolled": true
   },
   "outputs": [
    {
     "data": {
      "text/plain": [
       "7173"
      ]
     },
     "execution_count": 11,
     "metadata": {},
     "output_type": "execute_result"
    }
   ],
   "source": [
    "distances(my_input)"
   ]
  },
  {
   "cell_type": "code",
   "execution_count": 12,
   "id": "213a40c2-b33e-4f72-9a8f-07867b712665",
   "metadata": {},
   "outputs": [],
   "source": [
    "from collections import deque"
   ]
  },
  {
   "cell_type": "code",
   "execution_count": 13,
   "id": "150a33fe-49f8-4e06-8722-beafbb135bbe",
   "metadata": {},
   "outputs": [],
   "source": [
    "# clockwise\n",
    "NEXT_DIRECTION = {\n",
    "    'L': {\n",
    "        SOUTH: EAST,\n",
    "        WEST: NORTH\n",
    "    },\n",
    "    'J': {\n",
    "        SOUTH: WEST,\n",
    "        EAST: NORTH\n",
    "    },\n",
    "    'F': {\n",
    "        NORTH: EAST,\n",
    "        WEST: SOUTH\n",
    "    },\n",
    "    '7': {\n",
    "        EAST: SOUTH,\n",
    "        NORTH: WEST\n",
    "    },\n",
    "}\n",
    "\n",
    "INSIDE = {\n",
    "    'L': {\n",
    "        SOUTH: (0, -1),\n",
    "        WEST: (-1, 1)\n",
    "    },\n",
    "    'J': {\n",
    "        SOUTH: (-1, -1),\n",
    "        EAST: (1, 0)\n",
    "    },\n",
    "    'F': {\n",
    "        NORTH: (1, 1),\n",
    "        WEST: (0, -1)\n",
    "    },\n",
    "    '7': {\n",
    "        NORTH: (0, 1),\n",
    "        EAST: (1, -1)\n",
    "    },\n",
    "    '|': {\n",
    "        NORTH: (0, 1),\n",
    "        SOUTH: (0, -1)\n",
    "    },\n",
    "    '-': {\n",
    "        EAST: (1, 0),\n",
    "        WEST: (-1, 0)\n",
    "    }\n",
    "}\n",
    "\n",
    "def enclosed(o_input, start_direction=NORTH):\n",
    "    start_position = None\n",
    "    input = [list('.' * (len(o_input[0]) + 2))]\n",
    "    input += [['.'] + l + ['.'] for l in o_input]\n",
    "    input += [list('.' * (len(o_input[0]) + 2))]\n",
    "    start_position = None\n",
    "    start_shape = None\n",
    "    for i, l in enumerate(input):\n",
    "        for j, c in enumerate(l):\n",
    "            if c == 'S':\n",
    "                start_position = (i, j)\n",
    "                reachable = set([NORTH, SOUTH, EAST, WEST])\n",
    "                for direction in (NORTH, SOUTH, EAST, WEST):\n",
    "                    shape = input[i + direction[0]][j + direction[1]]\n",
    "                    if shape == '.':\n",
    "                        reachable.remove(direction)\n",
    "                    # blocking to the right\n",
    "                    if shape in { '|', 'L', 'F' } and direction == EAST:\n",
    "                        reachable.remove(direction)\n",
    "                    # blocking to the left\n",
    "                    if shape in { '|', 'J', '7' } and direction == WEST:\n",
    "                        reachable.remove(direction)\n",
    "                    # blocking to the top\n",
    "                    if shape in { '-', 'L', 'J' } and direction == NORTH:\n",
    "                        reachable.remove(direction)\n",
    "                    # blocking to the bottom\n",
    "                    if shape in { '-', 'F', '7' } and direction == SOUTH:\n",
    "                        reachable.remove(direction)\n",
    "                for shape, d in SHAPES.items():\n",
    "                    if reachable == set(d):\n",
    "                        input[i][j] = shape\n",
    "                        break\n",
    "    edges = [start_position]\n",
    "    nxt_pos = None\n",
    "    enclosed_coords = set()\n",
    "    visited_edges = { start_position }\n",
    "    direction = start_direction\n",
    "    while nxt_pos != start_position:\n",
    "        nxt_pos = edges[-1][0] + direction[0], edges[-1][1] + direction[1]\n",
    "        c = input[nxt_pos[0]][nxt_pos[1]]\n",
    "        if direction in INSIDE[c]:\n",
    "            enclosed_coords.add((nxt_pos[0] + INSIDE[c][direction][0], nxt_pos[1] + INSIDE[c][direction][1]))\n",
    "        if c in NEXT_DIRECTION:\n",
    "            direction = NEXT_DIRECTION[c][direction]\n",
    "        if nxt_pos != start_position:\n",
    "            edges.append(nxt_pos)\n",
    "            visited_edges.add(nxt_pos)\n",
    "    enclosed_coords -= visited_edges\n",
    "    q = deque(enclosed_coords)\n",
    "    while len(q):\n",
    "        pos = q.pop()\n",
    "        for delta in ((-1, 0), (1, 0), (0, -1), (0, 1)):\n",
    "            p = (pos[0] + delta[0], pos[1] + delta[1])\n",
    "            if p not in enclosed_coords and p not in edges:\n",
    "                enclosed_coords.add(p)\n",
    "                q.append(p)\n",
    "    for i, j in edges:\n",
    "        input[i][j] = '*'\n",
    "    for i, j in enclosed_coords:\n",
    "        input[i][j] = 'I'\n",
    "    return len(enclosed_coords)"
   ]
  },
  {
   "cell_type": "code",
   "execution_count": 14,
   "id": "60e7d18d-5ed8-4d67-a96f-f19d6ce948c7",
   "metadata": {},
   "outputs": [],
   "source": [
    "test2_input = get_input('test2.txt')"
   ]
  },
  {
   "cell_type": "code",
   "execution_count": 15,
   "id": "4cf5e5b3-65d9-479c-9cee-a57af0d14bb3",
   "metadata": {},
   "outputs": [
    {
     "data": {
      "text/plain": [
       "10"
      ]
     },
     "execution_count": 15,
     "metadata": {},
     "output_type": "execute_result"
    }
   ],
   "source": [
    "enclosed(test2_input, SOUTH)"
   ]
  },
  {
   "cell_type": "code",
   "execution_count": 16,
   "id": "e90abb39-ce26-482d-907b-fe49770d811b",
   "metadata": {},
   "outputs": [
    {
     "data": {
      "text/plain": [
       "291"
      ]
     },
     "execution_count": 16,
     "metadata": {},
     "output_type": "execute_result"
    }
   ],
   "source": [
    "enclosed(my_input, SOUTH)"
   ]
  },
  {
   "cell_type": "code",
   "execution_count": null,
   "id": "f77ec2fd-02eb-43db-aead-5b92f68e27b7",
   "metadata": {},
   "outputs": [],
   "source": []
  }
 ],
 "metadata": {
  "kernelspec": {
   "display_name": "Python 3 (ipykernel)",
   "language": "python",
   "name": "python3"
  },
  "language_info": {
   "codemirror_mode": {
    "name": "ipython",
    "version": 3
   },
   "file_extension": ".py",
   "mimetype": "text/x-python",
   "name": "python",
   "nbconvert_exporter": "python",
   "pygments_lexer": "ipython3",
   "version": "3.11.6"
  }
 },
 "nbformat": 4,
 "nbformat_minor": 5
}
