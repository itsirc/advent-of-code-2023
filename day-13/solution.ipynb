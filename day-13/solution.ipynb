{
 "cells": [
  {
   "cell_type": "code",
   "execution_count": 1,
   "id": "6da6318b-8fcc-45bc-b61d-cdbe053ba24f",
   "metadata": {},
   "outputs": [],
   "source": [
    "def get_input(fname='test.txt'):\n",
    "    grids = [[]]\n",
    "    with open(fname) as f:\n",
    "        for l in f.readlines():\n",
    "            line = l.rstrip()\n",
    "            if not line:\n",
    "                grids.append([])\n",
    "                continue\n",
    "            grids[-1].append(line)\n",
    "    return grids"
   ]
  },
  {
   "cell_type": "code",
   "execution_count": 2,
   "id": "5f423515-a072-4ced-bde7-152448231c41",
   "metadata": {},
   "outputs": [],
   "source": [
    "test_input = get_input('test.txt')\n",
    "my_input = get_input('input.txt')"
   ]
  },
  {
   "cell_type": "code",
   "execution_count": 3,
   "id": "83c6027d-0c39-450a-a48f-a59be0f6c9bd",
   "metadata": {},
   "outputs": [],
   "source": [
    "def flip(grid):\n",
    "    return [\n",
    "        ''.join(grid[j][i] for j in range(len(grid))) for i in range(len(grid[0]))\n",
    "    ]\n",
    "    "
   ]
  },
  {
   "cell_type": "code",
   "execution_count": 4,
   "id": "02550e0d-9a99-4ecb-88f0-c951039f4de0",
   "metadata": {},
   "outputs": [],
   "source": [
    "def print_grid(grid):\n",
    "    print('\\n'.join(l for l in grid))"
   ]
  },
  {
   "cell_type": "code",
   "execution_count": 5,
   "id": "7891dae9-a997-4c52-b22f-fe23d57cd5d3",
   "metadata": {},
   "outputs": [
    {
     "name": "stdout",
     "output_type": "stream",
     "text": [
      "#.##..##.\n",
      "..#.##.#.\n",
      "##......#\n",
      "##......#\n",
      "..#.##.#.\n",
      "..##..##.\n",
      "#.#.##.#.\n"
     ]
    }
   ],
   "source": [
    "print_grid(test_input[0])"
   ]
  },
  {
   "cell_type": "code",
   "execution_count": 6,
   "id": "87e892f5-7a82-448e-ae15-2b5b0e078005",
   "metadata": {},
   "outputs": [
    {
     "name": "stdout",
     "output_type": "stream",
     "text": [
      "#.##..#\n",
      "..##...\n",
      "##..###\n",
      "#....#.\n",
      ".#..#.#\n",
      ".#..#.#\n",
      "#....#.\n",
      "##..###\n",
      "..##...\n"
     ]
    }
   ],
   "source": [
    "print_grid(flip(test_input[0]))"
   ]
  },
  {
   "cell_type": "code",
   "execution_count": 7,
   "id": "68a5f638-49a4-4036-b97a-d9c9f854f125",
   "metadata": {},
   "outputs": [],
   "source": [
    "from collections import deque\n",
    "\n",
    "def reflection_length(grid):\n",
    "    # always horizontal, from top\n",
    "    total = 0\n",
    "    for rev, (q1, q2) in enumerate(((deque(grid), deque(reversed(grid))), (deque(reversed(grid)), deque(grid)))):\n",
    "        while q1:\n",
    "            if q1 == q2 and len(q1) % 2 == 0:\n",
    "                crt = len(q2) // 2\n",
    "                if rev:\n",
    "                    crt = len(grid) - crt\n",
    "                total += crt\n",
    "            q1.pop()\n",
    "            q2.popleft()\n",
    "    return total\n",
    "\n",
    "def find_reflection(grid):\n",
    "    return 100 * reflection_length(grid) + reflection_length(flip(grid))\n",
    "    "
   ]
  },
  {
   "cell_type": "code",
   "execution_count": 8,
   "id": "6860ffb2-ce20-419b-b601-7bd6ad9380bd",
   "metadata": {},
   "outputs": [
    {
     "data": {
      "text/plain": [
       "400"
      ]
     },
     "execution_count": 8,
     "metadata": {},
     "output_type": "execute_result"
    }
   ],
   "source": [
    "find_reflection(test_input[1])"
   ]
  },
  {
   "cell_type": "code",
   "execution_count": 9,
   "id": "d20673d7-ced3-4f09-8bfd-bc16b4023639",
   "metadata": {},
   "outputs": [
    {
     "data": {
      "text/plain": [
       "[5, 400]"
      ]
     },
     "execution_count": 9,
     "metadata": {},
     "output_type": "execute_result"
    }
   ],
   "source": [
    "[find_reflection(grid) for grid in test_input]"
   ]
  },
  {
   "cell_type": "code",
   "execution_count": 10,
   "id": "8320462e-ecba-476f-a228-d3b8e4ddcead",
   "metadata": {},
   "outputs": [
    {
     "data": {
      "text/plain": [
       "35538"
      ]
     },
     "execution_count": 10,
     "metadata": {},
     "output_type": "execute_result"
    }
   ],
   "source": [
    "sum(find_reflection(grid) for grid in my_input)"
   ]
  },
  {
   "cell_type": "code",
   "execution_count": 11,
   "id": "45385b5a-cdfa-4841-8869-8a97e28eb91c",
   "metadata": {},
   "outputs": [],
   "source": [
    "def reflection_position(grid):\n",
    "    # always horizontal, from top\n",
    "    positions = []\n",
    "    for rev, (q1, q2) in enumerate(((deque(grid), deque(reversed(grid))), (deque(reversed(grid)), deque(grid)))):\n",
    "        while q1:\n",
    "            if q1 == q2 and len(q1) % 2 == 0:\n",
    "                crt = len(q2) // 2\n",
    "                if rev:\n",
    "                    crt = len(grid) - crt\n",
    "                positions.append(crt)\n",
    "            q1.pop()\n",
    "            q2.popleft()\n",
    "    return positions\n",
    "\n",
    "def reflection_positions(grid):\n",
    "    return [(r, 0) for r in reflection_position(grid)] + [(0, c) for c in reflection_position(flip(grid))]"
   ]
  },
  {
   "cell_type": "code",
   "execution_count": 12,
   "id": "724e11c7-42a6-4c16-94ab-921411d89456",
   "metadata": {},
   "outputs": [],
   "source": [
    "def find_smudges(grid):\n",
    "    smudges = []\n",
    "    for i1 in range(len(grid) - 1):\n",
    "        for i2 in range(i1 + 1, len(grid)):\n",
    "            j1 = 0\n",
    "            while j1 < len(grid[i1]) and grid[i1][j1] == grid[i2][j1]:\n",
    "                j1 += 1\n",
    "            j2 = len(grid[i1]) - 1\n",
    "            while j2 >= 0 and grid[i1][j2] == grid[i2][j2]:\n",
    "                j2 -= 1\n",
    "            if j1 == j2:\n",
    "                smudges.append(((i1, j1), (i2, j2)))\n",
    "    \n",
    "    for j1 in range(len(grid[0]) - 1):\n",
    "        for j2 in range(j1 + 1, len(grid[0])):\n",
    "            i1 = 0\n",
    "            while i1 < len(grid) and grid[i1][j1] == grid[i1][j2]:\n",
    "                i1 += 1\n",
    "            i2 = len(grid) - 1\n",
    "            while i2 >= 0 and grid[i2][j1] == grid[i2][j2]:\n",
    "                i2 -= 1\n",
    "            if i1 == i2:\n",
    "                smudges.append(((i1, j1), (i2, j2)))\n",
    "    return smudges"
   ]
  },
  {
   "cell_type": "code",
   "execution_count": 13,
   "id": "705329cf-0e4f-4338-8812-f169b4512d35",
   "metadata": {},
   "outputs": [],
   "source": [
    "def reflection_length_with_smudges(grid):\n",
    "    grid = [list(l) for l in grid]\n",
    "    reflection_positions(grid)\n",
    "    orig = reflection_positions(grid)\n",
    "    smudges = find_smudges(grid)\n",
    "    for (i1, j1), (i2, j2) in smudges:\n",
    "        c1, c2 = grid[i1][j1], grid[i2][j2]\n",
    "        grid[i1][j1], grid[i2][j2] = c2, c2\n",
    "        r = reflection_positions(grid)\n",
    "        if r and r != orig:\n",
    "            return sum(100 * row + col for row, col in set(r) - set(orig))\n",
    "        grid[i1][j1], grid[i2][j2] = c1, c2"
   ]
  },
  {
   "cell_type": "code",
   "execution_count": 14,
   "id": "61989804-4f76-44c9-ac5d-6747eb6e1f86",
   "metadata": {},
   "outputs": [
    {
     "data": {
      "text/plain": [
       "[300, 100]"
      ]
     },
     "execution_count": 14,
     "metadata": {},
     "output_type": "execute_result"
    }
   ],
   "source": [
    "[reflection_length_with_smudges(i) for i in test_input]"
   ]
  },
  {
   "cell_type": "code",
   "execution_count": 15,
   "id": "d8c77daa-8b30-4b1f-a9b4-454a7ffd23b4",
   "metadata": {},
   "outputs": [
    {
     "data": {
      "text/plain": [
       "30442"
      ]
     },
     "execution_count": 15,
     "metadata": {},
     "output_type": "execute_result"
    }
   ],
   "source": [
    "sum(reflection_length_with_smudges(i) for i in my_input)"
   ]
  },
  {
   "cell_type": "code",
   "execution_count": null,
   "id": "79073c83-e3e8-466f-bed3-8ed66eb3804c",
   "metadata": {},
   "outputs": [],
   "source": []
  }
 ],
 "metadata": {
  "kernelspec": {
   "display_name": "Python 3 (ipykernel)",
   "language": "python",
   "name": "python3"
  },
  "language_info": {
   "codemirror_mode": {
    "name": "ipython",
    "version": 3
   },
   "file_extension": ".py",
   "mimetype": "text/x-python",
   "name": "python",
   "nbconvert_exporter": "python",
   "pygments_lexer": "ipython3",
   "version": "3.11.6"
  }
 },
 "nbformat": 4,
 "nbformat_minor": 5
}
