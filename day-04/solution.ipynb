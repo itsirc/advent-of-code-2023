{
 "cells": [
  {
   "cell_type": "code",
   "execution_count": 1,
   "id": "6da6318b-8fcc-45bc-b61d-cdbe053ba24f",
   "metadata": {},
   "outputs": [],
   "source": [
    "def get_input(fname=\"test.txt\"):\n",
    "    input = []\n",
    "    with open(fname) as f:\n",
    "        for l in f.readlines():\n",
    "            line = l.strip()\n",
    "            parts = line.split(\": \")[-1].split(\"|\")\n",
    "            input.append(([int(i) for i in parts[0].strip().split(\" \") if i], [int(i) for i in parts[1].strip().split(\" \") if i]))\n",
    "    return input"
   ]
  },
  {
   "cell_type": "code",
   "execution_count": 2,
   "id": "5f423515-a072-4ced-bde7-152448231c41",
   "metadata": {},
   "outputs": [],
   "source": [
    "test_input = get_input(\"test.txt\")\n",
    "my_input = get_input(\"input.txt\")"
   ]
  },
  {
   "cell_type": "code",
   "execution_count": 3,
   "id": "83c6027d-0c39-450a-a48f-a59be0f6c9bd",
   "metadata": {},
   "outputs": [
    {
     "data": {
      "text/plain": [
       "[([41, 48, 83, 86, 17], [83, 86, 6, 31, 17, 9, 48, 53]),\n",
       " ([13, 32, 20, 16, 61], [61, 30, 68, 82, 17, 32, 24, 19]),\n",
       " ([1, 21, 53, 59, 44], [69, 82, 63, 72, 16, 21, 14, 1]),\n",
       " ([41, 92, 73, 84, 69], [59, 84, 76, 51, 58, 5, 54, 83]),\n",
       " ([87, 83, 26, 28, 32], [88, 30, 70, 12, 93, 22, 82, 36]),\n",
       " ([31, 18, 13, 56, 72], [74, 77, 10, 23, 35, 67, 36, 11])]"
      ]
     },
     "execution_count": 3,
     "metadata": {},
     "output_type": "execute_result"
    }
   ],
   "source": [
    "test_input"
   ]
  },
  {
   "cell_type": "code",
   "execution_count": 4,
   "id": "52bf8c98-53c9-4c8c-a1ae-711cf2f2c49d",
   "metadata": {},
   "outputs": [],
   "source": [
    "def worth(game):\n",
    "    common = set(game[0]) & set(game[1])\n",
    "    if len(common) == 0:\n",
    "        return 0\n",
    "    return 2 ** (len(common) - 1)"
   ]
  },
  {
   "cell_type": "code",
   "execution_count": 5,
   "id": "73421181-9270-4734-817e-e01f0795b4c2",
   "metadata": {},
   "outputs": [
    {
     "data": {
      "text/plain": [
       "[8, 2, 2, 1, 0, 0]"
      ]
     },
     "execution_count": 5,
     "metadata": {},
     "output_type": "execute_result"
    }
   ],
   "source": [
    "[worth(g) for g in test_input]"
   ]
  },
  {
   "cell_type": "code",
   "execution_count": 6,
   "id": "24b5c095-f7d0-4fea-a860-1a5d53caba60",
   "metadata": {},
   "outputs": [
    {
     "data": {
      "text/plain": [
       "25571"
      ]
     },
     "execution_count": 6,
     "metadata": {},
     "output_type": "execute_result"
    }
   ],
   "source": [
    "sum(worth(g) for g in my_input)"
   ]
  },
  {
   "cell_type": "code",
   "execution_count": 7,
   "id": "b418eef4-963d-4cfc-9b63-876f51735bb5",
   "metadata": {},
   "outputs": [],
   "source": [
    "def num_cards(cards):\n",
    "    nums = { i: 1 for i in range(len(cards)) }\n",
    "    for i, game in enumerate(cards):\n",
    "        common = set(game[0]) & set(game[1])\n",
    "        for j in range(i + 1, min(len(cards), i + 1 + len(common))):\n",
    "            nums[j] += nums[i]\n",
    "    return nums"
   ]
  },
  {
   "cell_type": "code",
   "execution_count": 8,
   "id": "45e8fbd6-3795-4413-a746-e28eca4262d7",
   "metadata": {},
   "outputs": [
    {
     "data": {
      "text/plain": [
       "{0: 1, 1: 2, 2: 4, 3: 8, 4: 14, 5: 1}"
      ]
     },
     "execution_count": 8,
     "metadata": {},
     "output_type": "execute_result"
    }
   ],
   "source": [
    "num_cards(test_input)"
   ]
  },
  {
   "cell_type": "code",
   "execution_count": 9,
   "id": "35756eef-7b35-478d-8a0a-232c5ff5a8c6",
   "metadata": {},
   "outputs": [
    {
     "data": {
      "text/plain": [
       "30"
      ]
     },
     "execution_count": 9,
     "metadata": {},
     "output_type": "execute_result"
    }
   ],
   "source": [
    "sum(num_cards(test_input).values())"
   ]
  },
  {
   "cell_type": "code",
   "execution_count": 10,
   "id": "85282721-6b09-4004-bfa2-ea46c4508a9e",
   "metadata": {},
   "outputs": [
    {
     "data": {
      "text/plain": [
       "8805731"
      ]
     },
     "execution_count": 10,
     "metadata": {},
     "output_type": "execute_result"
    }
   ],
   "source": [
    "sum(num_cards(my_input).values())"
   ]
  },
  {
   "cell_type": "code",
   "execution_count": null,
   "id": "921f2a13-fc06-42b5-b080-4e725c32db4c",
   "metadata": {},
   "outputs": [],
   "source": []
  }
 ],
 "metadata": {
  "kernelspec": {
   "display_name": "Python 3 (ipykernel)",
   "language": "python",
   "name": "python3"
  },
  "language_info": {
   "codemirror_mode": {
    "name": "ipython",
    "version": 3
   },
   "file_extension": ".py",
   "mimetype": "text/x-python",
   "name": "python",
   "nbconvert_exporter": "python",
   "pygments_lexer": "ipython3",
   "version": "3.11.6"
  }
 },
 "nbformat": 4,
 "nbformat_minor": 5
}
