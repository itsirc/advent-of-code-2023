{
 "cells": [
  {
   "cell_type": "code",
   "execution_count": 1,
   "id": "6da6318b-8fcc-45bc-b61d-cdbe053ba24f",
   "metadata": {},
   "outputs": [],
   "source": [
    "def get_input(fname=\"test.txt\"):\n",
    "    hands, bids = [], []\n",
    "    with open(fname) as f:\n",
    "        for l in f.readlines():\n",
    "            line = l.strip()\n",
    "            parts = line.split(\" \")\n",
    "            hands.append(parts[0])\n",
    "            bids.append(int(parts[1]))\n",
    "    return hands, bids"
   ]
  },
  {
   "cell_type": "code",
   "execution_count": 2,
   "id": "5f423515-a072-4ced-bde7-152448231c41",
   "metadata": {},
   "outputs": [],
   "source": [
    "test_hands, test_bids = get_input(\"test.txt\")\n",
    "my_hands, my_bids = get_input(\"input.txt\")"
   ]
  },
  {
   "cell_type": "code",
   "execution_count": 3,
   "id": "0be41b9c-afba-4640-a9bb-0623e02500eb",
   "metadata": {},
   "outputs": [
    {
     "data": {
      "text/plain": [
       "(['32T3K', 'T55J5', 'KK677', 'KTJJT', 'QQQJA'], [765, 684, 28, 220, 483])"
      ]
     },
     "execution_count": 3,
     "metadata": {},
     "output_type": "execute_result"
    }
   ],
   "source": [
    "test_hands, test_bids"
   ]
  },
  {
   "cell_type": "code",
   "execution_count": 4,
   "id": "c105b8e4-5a86-460d-adde-13e5516abf82",
   "metadata": {},
   "outputs": [],
   "source": [
    "from collections import Counter\n",
    "\n",
    "def hand_rank(hand):\n",
    "    ranks = [[5], [4, 1], [3, 2], [3, 1, 1], [2, 2, 1], [2, 1, 1, 1], [1, 1, 1, 1, 1]]\n",
    "    cnt = Counter(hand)\n",
    "    return ranks.index(sorted(cnt.values(), reverse=True))"
   ]
  },
  {
   "cell_type": "code",
   "execution_count": 5,
   "id": "c4739226-364f-41bd-a191-d2b5aae4a27c",
   "metadata": {},
   "outputs": [],
   "source": [
    "def card_rank(hand):\n",
    "    cards = list('AKQJT98765432')\n",
    "    return [cards.index(c) for c in hand]"
   ]
  },
  {
   "cell_type": "code",
   "execution_count": 6,
   "id": "83c6027d-0c39-450a-a48f-a59be0f6c9bd",
   "metadata": {},
   "outputs": [],
   "source": [
    "ranked_hands = sorted(zip(test_hands, test_bids), key=lambda e: (hand_rank(e[0]), card_rank(e[0])), reverse=True)"
   ]
  },
  {
   "cell_type": "code",
   "execution_count": 7,
   "id": "19619332-3a3c-444e-af6b-d3f71c437d64",
   "metadata": {},
   "outputs": [
    {
     "data": {
      "text/plain": [
       "[('32T3K', 765), ('KTJJT', 220), ('KK677', 28), ('T55J5', 684), ('QQQJA', 483)]"
      ]
     },
     "execution_count": 7,
     "metadata": {},
     "output_type": "execute_result"
    }
   ],
   "source": [
    "ranked_hands"
   ]
  },
  {
   "cell_type": "code",
   "execution_count": 8,
   "id": "722f1429-1209-45d6-bbba-281d82fe60a9",
   "metadata": {},
   "outputs": [
    {
     "data": {
      "text/plain": [
       "6440"
      ]
     },
     "execution_count": 8,
     "metadata": {},
     "output_type": "execute_result"
    }
   ],
   "source": [
    "sum(bid * rank for rank, (_, bid) in enumerate(ranked_hands, 1))"
   ]
  },
  {
   "cell_type": "code",
   "execution_count": 9,
   "id": "9df55152-319d-4ca0-9149-4cf9daf8139a",
   "metadata": {},
   "outputs": [],
   "source": [
    "ranked_hands = sorted(zip(my_hands, my_bids), key=lambda e: (hand_rank(e[0]), card_rank(e[0])), reverse=True)"
   ]
  },
  {
   "cell_type": "code",
   "execution_count": 10,
   "id": "ada83f14-c65d-4c68-a62b-4b31206c40be",
   "metadata": {},
   "outputs": [
    {
     "data": {
      "text/plain": [
       "248422077"
      ]
     },
     "execution_count": 10,
     "metadata": {},
     "output_type": "execute_result"
    }
   ],
   "source": [
    "sum(bid * rank for rank, (_, bid) in enumerate(ranked_hands, 1))"
   ]
  },
  {
   "cell_type": "code",
   "execution_count": 11,
   "id": "9d1f8460-d1eb-4c3e-83c8-ce2a37e45f1c",
   "metadata": {},
   "outputs": [],
   "source": [
    "def card_rank_joker(hand):\n",
    "    cards = list('AKQT98765432J')\n",
    "    return [cards.index(c) for c in hand]"
   ]
  },
  {
   "cell_type": "code",
   "execution_count": 12,
   "id": "4e2d8451-add8-436f-8832-f45551c5753c",
   "metadata": {},
   "outputs": [],
   "source": [
    "def hand_rank_joker(hand):\n",
    "    other_cards = set(hand) - {'J'}\n",
    "    if 'J' in hand and other_cards:\n",
    "        return min(hand_rank(hand.replace('J', c)) for c in other_cards)\n",
    "    else:\n",
    "        return hand_rank(hand)"
   ]
  },
  {
   "cell_type": "code",
   "execution_count": 13,
   "id": "bd012657-30bd-4a39-9376-366c66590651",
   "metadata": {},
   "outputs": [],
   "source": [
    "ranked_hands = sorted(zip(test_hands, test_bids), key=lambda e: (hand_rank_joker(e[0]), card_rank_joker(e[0])), reverse=True)"
   ]
  },
  {
   "cell_type": "code",
   "execution_count": 14,
   "id": "7352ce2c-28c4-40e2-9cf3-945fc4092cf9",
   "metadata": {},
   "outputs": [
    {
     "data": {
      "text/plain": [
       "[('32T3K', 765), ('KK677', 28), ('T55J5', 684), ('QQQJA', 483), ('KTJJT', 220)]"
      ]
     },
     "execution_count": 14,
     "metadata": {},
     "output_type": "execute_result"
    }
   ],
   "source": [
    "ranked_hands"
   ]
  },
  {
   "cell_type": "code",
   "execution_count": 15,
   "id": "d404feac-ff18-4080-8dc7-e55ef139d3d9",
   "metadata": {},
   "outputs": [
    {
     "data": {
      "text/plain": [
       "5905"
      ]
     },
     "execution_count": 15,
     "metadata": {},
     "output_type": "execute_result"
    }
   ],
   "source": [
    "sum(bid * rank for rank, (_, bid) in enumerate(ranked_hands, 1))"
   ]
  },
  {
   "cell_type": "code",
   "execution_count": 16,
   "id": "7c91d6ef-8fe4-4d4a-b847-5a275e4afcbb",
   "metadata": {},
   "outputs": [],
   "source": [
    "ranked_hands = sorted(zip(my_hands, my_bids), key=lambda e: (hand_rank_joker(e[0]), card_rank_joker(e[0])), reverse=True)"
   ]
  },
  {
   "cell_type": "code",
   "execution_count": 17,
   "id": "c767b409-f183-41dd-a28c-6e24580778b7",
   "metadata": {},
   "outputs": [
    {
     "data": {
      "text/plain": [
       "249817836"
      ]
     },
     "execution_count": 17,
     "metadata": {},
     "output_type": "execute_result"
    }
   ],
   "source": [
    "sum(bid * rank for rank, (_, bid) in enumerate(ranked_hands, 1))"
   ]
  },
  {
   "cell_type": "code",
   "execution_count": null,
   "id": "1f92e2c1-4798-4196-83ac-ab10adeb8491",
   "metadata": {},
   "outputs": [],
   "source": []
  }
 ],
 "metadata": {
  "kernelspec": {
   "display_name": "Python 3 (ipykernel)",
   "language": "python",
   "name": "python3"
  },
  "language_info": {
   "codemirror_mode": {
    "name": "ipython",
    "version": 3
   },
   "file_extension": ".py",
   "mimetype": "text/x-python",
   "name": "python",
   "nbconvert_exporter": "python",
   "pygments_lexer": "ipython3",
   "version": "3.11.6"
  }
 },
 "nbformat": 4,
 "nbformat_minor": 5
}
