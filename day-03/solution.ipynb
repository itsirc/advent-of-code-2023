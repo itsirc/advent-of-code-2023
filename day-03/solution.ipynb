{
 "cells": [
  {
   "cell_type": "code",
   "execution_count": 1,
   "id": "6da6318b-8fcc-45bc-b61d-cdbe053ba24f",
   "metadata": {},
   "outputs": [],
   "source": [
    "def get_input(fname=\"test.txt\"):\n",
    "    input = []\n",
    "    with open(fname) as f:\n",
    "        for l in f.readlines():\n",
    "            line = l.strip()\n",
    "            input.append(line)\n",
    "    return input"
   ]
  },
  {
   "cell_type": "code",
   "execution_count": 2,
   "id": "5f423515-a072-4ced-bde7-152448231c41",
   "metadata": {},
   "outputs": [],
   "source": [
    "test_input = get_input(\"test.txt\")\n",
    "my_input = get_input(\"input.txt\")"
   ]
  },
  {
   "cell_type": "code",
   "execution_count": 3,
   "id": "83c6027d-0c39-450a-a48f-a59be0f6c9bd",
   "metadata": {},
   "outputs": [
    {
     "data": {
      "text/plain": [
       "['467..114..',\n",
       " '...*......',\n",
       " '..35..633.',\n",
       " '......#...',\n",
       " '617*......',\n",
       " '.....+.58.',\n",
       " '..592.....',\n",
       " '......755.',\n",
       " '...$.*....',\n",
       " '.664.598..']"
      ]
     },
     "execution_count": 3,
     "metadata": {},
     "output_type": "execute_result"
    }
   ],
   "source": [
    "test_input"
   ]
  },
  {
   "cell_type": "code",
   "execution_count": 4,
   "id": "9c3022b8-5ad3-4d53-816f-4ff8de513f69",
   "metadata": {},
   "outputs": [],
   "source": [
    "def extract_numbers(orig_grid):\n",
    "    grid = [['.' for _ in range((2 + len(orig_grid[0])))]]\n",
    "    for line in orig_grid:\n",
    "        grid.append(list('.' + line + '.'))\n",
    "    grid.append(['.' for _ in range((2 + len(grid[0])))])\n",
    "    n, m = len(grid), len(grid[0])\n",
    "    numbers = []\n",
    "    is_symbol = lambda c: c != '.' and not c.isnumeric()\n",
    "    for i, line in enumerate(grid):\n",
    "        j = 0\n",
    "        parts = []\n",
    "        while j < m:\n",
    "            while line[j].isnumeric():\n",
    "                parts.append(line[j])\n",
    "                j += 1\n",
    "            if len(parts) > 0:\n",
    "                valid = False\n",
    "                for k in range(j - len(parts) - 1, j + 1):\n",
    "                    if is_symbol(grid[i-1][k]):\n",
    "                        valid = True\n",
    "                        break\n",
    "                if not valid:\n",
    "                    if is_symbol(grid[i][j - len(parts) - 1]):\n",
    "                        valid = True\n",
    "                    if is_symbol(grid[i][j]):\n",
    "                        valid = True\n",
    "                if not valid:\n",
    "                    for k in range(j - len(parts) - 1, j + 1):\n",
    "                        if is_symbol(grid[i+1][k]):\n",
    "                            valid = True\n",
    "                            break\n",
    "                if valid:\n",
    "                    numbers.append(int(''.join(parts)))\n",
    "                parts = []\n",
    "            else:\n",
    "                j += 1\n",
    "    return numbers"
   ]
  },
  {
   "cell_type": "code",
   "execution_count": 5,
   "id": "d7b99df3-9b43-4f94-8c84-e1e93be8330d",
   "metadata": {},
   "outputs": [
    {
     "data": {
      "text/plain": [
       "[467, 35, 633, 617, 592, 755, 664, 598]"
      ]
     },
     "execution_count": 5,
     "metadata": {},
     "output_type": "execute_result"
    }
   ],
   "source": [
    "extract_numbers(test_input)"
   ]
  },
  {
   "cell_type": "code",
   "execution_count": 6,
   "id": "0ff84d52-6b76-4c4e-ac09-265279472d1f",
   "metadata": {},
   "outputs": [
    {
     "data": {
      "text/plain": [
       "4361"
      ]
     },
     "execution_count": 6,
     "metadata": {},
     "output_type": "execute_result"
    }
   ],
   "source": [
    "sum(extract_numbers(test_input))"
   ]
  },
  {
   "cell_type": "code",
   "execution_count": 7,
   "id": "8cc5ca42-e01d-4d77-b24c-5005680851ff",
   "metadata": {},
   "outputs": [
    {
     "data": {
      "text/plain": [
       "537732"
      ]
     },
     "execution_count": 7,
     "metadata": {},
     "output_type": "execute_result"
    }
   ],
   "source": [
    "sum(extract_numbers(my_input))"
   ]
  },
  {
   "cell_type": "code",
   "execution_count": 8,
   "id": "6ae1d657-3ca8-4c04-983a-5a6307da0d30",
   "metadata": {},
   "outputs": [],
   "source": [
    "test_input_2 = \"\"\"\n",
    "467..114..\n",
    "...*......\n",
    "..35..633.\n",
    "......#...\n",
    "617*......\n",
    ".....+.58.\n",
    "..592.....\n",
    "......755.\n",
    "...$.*....\n",
    ".664.598..\n",
    "\"\"\".strip().split('\\n')"
   ]
  },
  {
   "cell_type": "code",
   "execution_count": 9,
   "id": "487288bd-4782-4ac2-84be-aece5f14adc5",
   "metadata": {},
   "outputs": [],
   "source": [
    "def extract_gears(orig_grid):\n",
    "    grid = [['.' for _ in range((2 + len(orig_grid[0])))]]\n",
    "    for line in orig_grid:\n",
    "        grid.append(list('.' + line + '.'))\n",
    "    grid.append(['.' for _ in range((2 + len(grid[0])))])\n",
    "    n, m = len(grid), len(grid[0])\n",
    "    numbers = []\n",
    "    gears = {}\n",
    "    is_symbol = lambda c: c != '.' and not c.isnumeric()\n",
    "    possible_gear = lambda c: c == '*'\n",
    "    for i, line in enumerate(grid):\n",
    "        j = 0\n",
    "        parts = []\n",
    "        while j < m:\n",
    "            while line[j].isnumeric():\n",
    "                parts.append(line[j])\n",
    "                j += 1\n",
    "            if len(parts) > 0:\n",
    "                valid = False\n",
    "                found_gears = set()\n",
    "                for k in range(j - len(parts) - 1, j + 1):\n",
    "                    if is_symbol(grid[i-1][k]):\n",
    "                        valid = True\n",
    "                        if possible_gear(grid[i-1][k]):\n",
    "                            found_gears.add((i-1, k))\n",
    "                if is_symbol(grid[i][j - len(parts) - 1]):\n",
    "                    valid = True\n",
    "                    if possible_gear(grid[i][j - len(parts) - 1]):\n",
    "                        found_gears.add((i, j - len(parts) - 1))\n",
    "                if is_symbol(grid[i][j]):\n",
    "                    valid = True\n",
    "                    if possible_gear(grid[i][j]):\n",
    "                        found_gears.add((i, j))\n",
    "                for k in range(j - len(parts) - 1, j + 1):\n",
    "                    if is_symbol(grid[i+1][k]):\n",
    "                        valid = True\n",
    "                        if possible_gear(grid[i+1][k]):\n",
    "                            found_gears.add((i+1, k))\n",
    "                if valid:\n",
    "                    num = int(''.join(parts))\n",
    "                    for g in found_gears:\n",
    "                        if g not in gears:\n",
    "                            gears[g] = []\n",
    "                        gears[g].append(num)\n",
    "                parts = []\n",
    "            else:\n",
    "                j += 1\n",
    "    return { k: v for k, v in gears.items() if len(v) == 2 }"
   ]
  },
  {
   "cell_type": "code",
   "execution_count": 10,
   "id": "fb0955b3-8858-4a9f-b8ae-64a2f8db8c54",
   "metadata": {},
   "outputs": [
    {
     "data": {
      "text/plain": [
       "{(2, 4): [467, 35], (9, 6): [755, 598]}"
      ]
     },
     "execution_count": 10,
     "metadata": {},
     "output_type": "execute_result"
    }
   ],
   "source": [
    "extract_gears(test_input_2)"
   ]
  },
  {
   "cell_type": "code",
   "execution_count": 11,
   "id": "142887f6-1b9f-4c89-96f9-bf2b7e2e5c12",
   "metadata": {},
   "outputs": [
    {
     "data": {
      "text/plain": [
       "467835"
      ]
     },
     "execution_count": 11,
     "metadata": {},
     "output_type": "execute_result"
    }
   ],
   "source": [
    "sum(g[0] * g[1] for g in extract_gears(test_input).values())"
   ]
  },
  {
   "cell_type": "code",
   "execution_count": 12,
   "id": "03b07d1a-62b1-4831-9675-36d060b6714c",
   "metadata": {},
   "outputs": [
    {
     "data": {
      "text/plain": [
       "84883664"
      ]
     },
     "execution_count": 12,
     "metadata": {},
     "output_type": "execute_result"
    }
   ],
   "source": [
    "sum(g[0] * g[1] for g in extract_gears(my_input).values())"
   ]
  },
  {
   "cell_type": "code",
   "execution_count": null,
   "id": "23ff57eb-5a5c-4123-8f3e-82de38c4b3fc",
   "metadata": {},
   "outputs": [],
   "source": []
  }
 ],
 "metadata": {
  "kernelspec": {
   "display_name": "Python 3 (ipykernel)",
   "language": "python",
   "name": "python3"
  },
  "language_info": {
   "codemirror_mode": {
    "name": "ipython",
    "version": 3
   },
   "file_extension": ".py",
   "mimetype": "text/x-python",
   "name": "python",
   "nbconvert_exporter": "python",
   "pygments_lexer": "ipython3",
   "version": "3.11.6"
  }
 },
 "nbformat": 4,
 "nbformat_minor": 5
}
