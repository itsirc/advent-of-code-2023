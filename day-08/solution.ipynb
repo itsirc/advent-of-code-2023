{
 "cells": [
  {
   "cell_type": "code",
   "execution_count": 1,
   "id": "4aae60f0-b472-415b-b7c4-2bf60dcc8162",
   "metadata": {},
   "outputs": [],
   "source": [
    "from itertools import cycle\n",
    "import parse\n",
    "import math"
   ]
  },
  {
   "cell_type": "code",
   "execution_count": 2,
   "id": "6da6318b-8fcc-45bc-b61d-cdbe053ba24f",
   "metadata": {},
   "outputs": [],
   "source": [
    "def get_input(fname=\"test.txt\"):\n",
    "    instructions, neighbors = None, {}\n",
    "    with open(fname) as f:\n",
    "        lines = f.readlines()\n",
    "        instructions = lines[0].rstrip()\n",
    "        for l in lines[2:]:\n",
    "            line = l.strip()\n",
    "            result = parse.parse('{} = ({}, {})', line)\n",
    "            neighbors[result[0]] = (result[1], result[2])\n",
    "    return instructions, neighbors"
   ]
  },
  {
   "cell_type": "code",
   "execution_count": 3,
   "id": "5f423515-a072-4ced-bde7-152448231c41",
   "metadata": {},
   "outputs": [],
   "source": [
    "test_instructions, test_neighbors = get_input('test.txt')\n",
    "my_instructions, my_neighbors = get_input('input.txt')"
   ]
  },
  {
   "cell_type": "code",
   "execution_count": 4,
   "id": "83c6027d-0c39-450a-a48f-a59be0f6c9bd",
   "metadata": {},
   "outputs": [
    {
     "data": {
      "text/plain": [
       "('LLR', {'AAA': ('BBB', 'BBB'), 'BBB': ('AAA', 'ZZZ'), 'ZZZ': ('ZZZ', 'ZZZ')})"
      ]
     },
     "execution_count": 4,
     "metadata": {},
     "output_type": "execute_result"
    }
   ],
   "source": [
    "test_instructions, test_neighbors"
   ]
  },
  {
   "cell_type": "code",
   "execution_count": 5,
   "id": "754995c8-d5b1-4a77-92df-916f23f69b1b",
   "metadata": {},
   "outputs": [],
   "source": [
    "def count_steps(instructions, neighbors, start='AAA'):\n",
    "    steps = 0\n",
    "    current = start\n",
    "    instructions = cycle(instructions)\n",
    "    while current != 'ZZZ':\n",
    "        steps += 1\n",
    "        current = neighbors[current][next(instructions) != 'L']\n",
    "    return steps"
   ]
  },
  {
   "cell_type": "code",
   "execution_count": 6,
   "id": "ff01b253-3371-4468-a988-86900dce94fa",
   "metadata": {},
   "outputs": [
    {
     "data": {
      "text/plain": [
       "6"
      ]
     },
     "execution_count": 6,
     "metadata": {},
     "output_type": "execute_result"
    }
   ],
   "source": [
    "count_steps(test_instructions, test_neighbors)"
   ]
  },
  {
   "cell_type": "code",
   "execution_count": 7,
   "id": "7d1758ca-a158-4639-af62-39c40a74696f",
   "metadata": {},
   "outputs": [
    {
     "data": {
      "text/plain": [
       "16343"
      ]
     },
     "execution_count": 7,
     "metadata": {},
     "output_type": "execute_result"
    }
   ],
   "source": [
    "count_steps(my_instructions, my_neighbors)"
   ]
  },
  {
   "cell_type": "code",
   "execution_count": 8,
   "id": "b9362615-1438-40de-bc1b-76afaeaf67b1",
   "metadata": {},
   "outputs": [],
   "source": [
    "test_instructions, test_neighbors = get_input('test2.txt')"
   ]
  },
  {
   "cell_type": "code",
   "execution_count": 9,
   "id": "f2b1d927-f8a4-4011-bc83-2e2b766e0ffb",
   "metadata": {},
   "outputs": [],
   "source": [
    "def count_steps_wildcard(instructions, neighbors, start='AAA'):\n",
    "    steps = 0\n",
    "    current = start\n",
    "    instructions = cycle(instructions)\n",
    "    while current[-1] != 'Z':\n",
    "        steps += 1\n",
    "        current = neighbors[current][next(instructions) != 'L']\n",
    "    return steps"
   ]
  },
  {
   "cell_type": "code",
   "execution_count": 10,
   "id": "bed3a433-0f31-480d-93c0-435c092dfbd0",
   "metadata": {},
   "outputs": [],
   "source": [
    "def count_ghost_steps(instructions, neighbors):\n",
    "    steps = [count_steps_wildcard(instructions, neighbors, k) for k in neighbors if k[-1] == 'A']\n",
    "    return math.lcm(*steps)"
   ]
  },
  {
   "cell_type": "code",
   "execution_count": 11,
   "id": "6c0bbadd-89dd-4434-8502-6c7810518f73",
   "metadata": {},
   "outputs": [
    {
     "data": {
      "text/plain": [
       "6"
      ]
     },
     "execution_count": 11,
     "metadata": {},
     "output_type": "execute_result"
    }
   ],
   "source": [
    "count_ghost_steps(test_instructions, test_neighbors)"
   ]
  },
  {
   "cell_type": "code",
   "execution_count": 12,
   "id": "d7904e12-db31-4bdc-b820-576d0acbf695",
   "metadata": {},
   "outputs": [
    {
     "data": {
      "text/plain": [
       "15299095336639"
      ]
     },
     "execution_count": 12,
     "metadata": {},
     "output_type": "execute_result"
    }
   ],
   "source": [
    "count_ghost_steps(my_instructions, my_neighbors)"
   ]
  },
  {
   "cell_type": "code",
   "execution_count": null,
   "id": "827d9d9a-4ca9-451e-ace2-4459324acdea",
   "metadata": {},
   "outputs": [],
   "source": []
  }
 ],
 "metadata": {
  "kernelspec": {
   "display_name": "Python 3 (ipykernel)",
   "language": "python",
   "name": "python3"
  },
  "language_info": {
   "codemirror_mode": {
    "name": "ipython",
    "version": 3
   },
   "file_extension": ".py",
   "mimetype": "text/x-python",
   "name": "python",
   "nbconvert_exporter": "python",
   "pygments_lexer": "ipython3",
   "version": "3.11.6"
  }
 },
 "nbformat": 4,
 "nbformat_minor": 5
}
