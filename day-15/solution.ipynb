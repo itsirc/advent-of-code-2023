{
 "cells": [
  {
   "cell_type": "code",
   "execution_count": 1,
   "id": "6da6318b-8fcc-45bc-b61d-cdbe053ba24f",
   "metadata": {},
   "outputs": [],
   "source": [
    "def get_input(fname='test.txt'):\n",
    "    input = []\n",
    "    with open(fname) as f:\n",
    "        return f.readline().strip().split(',')"
   ]
  },
  {
   "cell_type": "code",
   "execution_count": 2,
   "id": "5f423515-a072-4ced-bde7-152448231c41",
   "metadata": {},
   "outputs": [],
   "source": [
    "test_input = get_input('test.txt')\n",
    "my_input = get_input('input.txt')"
   ]
  },
  {
   "cell_type": "code",
   "execution_count": 3,
   "id": "83c6027d-0c39-450a-a48f-a59be0f6c9bd",
   "metadata": {},
   "outputs": [
    {
     "data": {
      "text/plain": [
       "['rn=1',\n",
       " 'cm-',\n",
       " 'qp=3',\n",
       " 'cm=2',\n",
       " 'qp-',\n",
       " 'pc=4',\n",
       " 'ot=9',\n",
       " 'ab=5',\n",
       " 'pc-',\n",
       " 'pc=6',\n",
       " 'ot=7']"
      ]
     },
     "execution_count": 3,
     "metadata": {},
     "output_type": "execute_result"
    }
   ],
   "source": [
    "test_input"
   ]
  },
  {
   "cell_type": "code",
   "execution_count": 4,
   "id": "0cb9c417-2aa5-455a-a4c2-d61942c9af7e",
   "metadata": {},
   "outputs": [],
   "source": [
    "def hash(s):\n",
    "    v = 0\n",
    "    for c in s:\n",
    "        v += ord(c)\n",
    "        v = (v * 17) % 256\n",
    "    return v"
   ]
  },
  {
   "cell_type": "code",
   "execution_count": 5,
   "id": "144c0795-3871-4789-96ca-14763798ecbb",
   "metadata": {},
   "outputs": [
    {
     "data": {
      "text/plain": [
       "52"
      ]
     },
     "execution_count": 5,
     "metadata": {},
     "output_type": "execute_result"
    }
   ],
   "source": [
    "hash('HASH')"
   ]
  },
  {
   "cell_type": "code",
   "execution_count": 6,
   "id": "de00f819-25c4-4ede-a36d-d78fe6dadbb5",
   "metadata": {},
   "outputs": [
    {
     "data": {
      "text/plain": [
       "[30, 253, 97, 47, 14, 180, 9, 197, 48, 214, 231]"
      ]
     },
     "execution_count": 6,
     "metadata": {},
     "output_type": "execute_result"
    }
   ],
   "source": [
    "[hash(s) for s in test_input]"
   ]
  },
  {
   "cell_type": "code",
   "execution_count": 7,
   "id": "9beda01c-a690-4ffa-b495-79e9f5ee4bfa",
   "metadata": {},
   "outputs": [
    {
     "data": {
      "text/plain": [
       "510801"
      ]
     },
     "execution_count": 7,
     "metadata": {},
     "output_type": "execute_result"
    }
   ],
   "source": [
    "sum(hash(s) for s in my_input)"
   ]
  },
  {
   "cell_type": "code",
   "execution_count": 8,
   "id": "b19de295-4496-4eab-8a43-123126de260b",
   "metadata": {},
   "outputs": [],
   "source": [
    "from collections import OrderedDict"
   ]
  },
  {
   "cell_type": "code",
   "execution_count": 9,
   "id": "e822efff-df8e-4e3d-9240-bc38a8bf4ddd",
   "metadata": {},
   "outputs": [],
   "source": [
    "def hashmap(inp):\n",
    "    boxes = [OrderedDict() for _ in range(256)]\n",
    "    for instr in inp:\n",
    "        if instr[-1] == '-':\n",
    "            s = instr[:-1]\n",
    "            h = hash(s)\n",
    "            if s in boxes[h]:\n",
    "                del boxes[h][s]\n",
    "        else:\n",
    "            s, fl = instr.split('=')\n",
    "            fl = int(fl)\n",
    "            h = hash(s)\n",
    "            boxes[h][s] = fl\n",
    "    return boxes"
   ]
  },
  {
   "cell_type": "code",
   "execution_count": 10,
   "id": "9689608f-2c75-4802-945c-0c5399e6b0d3",
   "metadata": {},
   "outputs": [
    {
     "data": {
      "text/plain": [
       "[OrderedDict([('rn', 1), ('cm', 2)]),\n",
       " OrderedDict([('ot', 7), ('ab', 5), ('pc', 6)])]"
      ]
     },
     "execution_count": 10,
     "metadata": {},
     "output_type": "execute_result"
    }
   ],
   "source": [
    "[box for box in hashmap(test_input) if box]"
   ]
  },
  {
   "cell_type": "code",
   "execution_count": 11,
   "id": "296b52cc-5f67-4845-8390-109da1442d3d",
   "metadata": {},
   "outputs": [],
   "source": [
    "def focusing_power(boxes):\n",
    "    total = 0\n",
    "    for i, box in enumerate(boxes, 1):\n",
    "        for j, (_, fl) in enumerate(box.items(), 1):\n",
    "            total += i * j * fl\n",
    "    return total"
   ]
  },
  {
   "cell_type": "code",
   "execution_count": 12,
   "id": "119621ea-f396-4a2c-9f26-6ffa8cb17e29",
   "metadata": {},
   "outputs": [
    {
     "data": {
      "text/plain": [
       "145"
      ]
     },
     "execution_count": 12,
     "metadata": {},
     "output_type": "execute_result"
    }
   ],
   "source": [
    "focusing_power(hashmap(test_input))"
   ]
  },
  {
   "cell_type": "code",
   "execution_count": 13,
   "id": "cbf1b87a-896d-4cb0-bab6-b7657965cdc4",
   "metadata": {},
   "outputs": [
    {
     "data": {
      "text/plain": [
       "212763"
      ]
     },
     "execution_count": 13,
     "metadata": {},
     "output_type": "execute_result"
    }
   ],
   "source": [
    "focusing_power(hashmap(my_input))"
   ]
  },
  {
   "cell_type": "code",
   "execution_count": null,
   "id": "b94ab20e-d48e-494a-996a-696399236fe8",
   "metadata": {},
   "outputs": [],
   "source": []
  }
 ],
 "metadata": {
  "kernelspec": {
   "display_name": "Python 3 (ipykernel)",
   "language": "python",
   "name": "python3"
  },
  "language_info": {
   "codemirror_mode": {
    "name": "ipython",
    "version": 3
   },
   "file_extension": ".py",
   "mimetype": "text/x-python",
   "name": "python",
   "nbconvert_exporter": "python",
   "pygments_lexer": "ipython3",
   "version": "3.11.6"
  }
 },
 "nbformat": 4,
 "nbformat_minor": 5
}
