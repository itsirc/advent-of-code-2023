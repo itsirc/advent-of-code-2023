{
 "cells": [
  {
   "cell_type": "code",
   "execution_count": 1,
   "id": "28cb316b-5996-4674-8f99-418011888c7d",
   "metadata": {},
   "outputs": [],
   "source": [
    "from collections import OrderedDict, deque"
   ]
  },
  {
   "cell_type": "code",
   "execution_count": 2,
   "id": "ba569616-aa73-4049-a4d7-4820aead6eb9",
   "metadata": {},
   "outputs": [],
   "source": [
    "class Signal:\n",
    "    LOW = 0\n",
    "    HIGH = 1"
   ]
  },
  {
   "cell_type": "code",
   "execution_count": 3,
   "id": "f8c186fb-cb7b-4571-a439-9ca45bd36ad9",
   "metadata": {},
   "outputs": [],
   "source": [
    "class Module:\n",
    "    name = None\n",
    "    destination_modules = None\n",
    "\n",
    "    def __init__(self, name=None, destination_modules=None):\n",
    "        self.name = name\n",
    "        self.destination_modules = destination_modules\n",
    "\n",
    "    def receive(self, source, signal):\n",
    "        return [(d, self.name, signal) for d in self.destination_modules]\n",
    "\n",
    "    def __repr__(self):\n",
    "        return '{} -> {}'.format(self.name, ', '.join(self.destination_modules))\n",
    "\n",
    "    def __hash__(self):\n",
    "        return hash(repr(self))"
   ]
  },
  {
   "cell_type": "code",
   "execution_count": 4,
   "id": "cde34f07-9a7b-4416-8b78-115ce8f3c628",
   "metadata": {},
   "outputs": [],
   "source": [
    "class FlipFlopModule(Module):\n",
    "    on = False\n",
    "\n",
    "    def __init__(self, name=None, destination_modules=None, on=False):\n",
    "        super().__init__(name, destination_modules)\n",
    "        self.on = on\n",
    "\n",
    "    def receive(self, source, signal):\n",
    "        if signal == Signal.HIGH:\n",
    "            return []\n",
    "        if self.on:\n",
    "            self.on = False\n",
    "            return [(d, self.name, Signal.LOW) for d in self.destination_modules]\n",
    "        self.on = True\n",
    "        return [(d, self.name, Signal.HIGH) for d in self.destination_modules]\n",
    "\n",
    "    def __repr__(self):\n",
    "        prefix = '%'\n",
    "        if self.on:\n",
    "            prefix = 'o'\n",
    "        return '{}{} -> {}'.format(prefix, self.name, ', '.join(self.destination_modules))"
   ]
  },
  {
   "cell_type": "code",
   "execution_count": 5,
   "id": "f70a57b2-afb0-4bae-b9fb-5c4e39ef27b5",
   "metadata": {},
   "outputs": [],
   "source": [
    "class ConjunctionModule(Module):\n",
    "    input_modules = None\n",
    "    memory = None\n",
    "\n",
    "    def set_input_modules(self, input_modules):\n",
    "        self.input_modules = input_modules\n",
    "        self.memory = OrderedDict()\n",
    "        for m in input_modules:\n",
    "            self.memory[m] = Signal.LOW\n",
    "\n",
    "    def receive(self, source, signal):\n",
    "        self.memory[source] = signal\n",
    "        values = set(self.memory.values())\n",
    "        if len(values) == 1 and values.pop() == Signal.HIGH:\n",
    "            return [(d, self.name, Signal.LOW) for d in self.destination_modules]\n",
    "        return [(d, self.name, Signal.HIGH) for d in self.destination_modules]\n",
    "\n",
    "    def __repr__(self):\n",
    "        prefix = '&'\n",
    "        if self.memory:\n",
    "            prefix = '[{}]'.format('-'.join(['{}:{}'.format(k, v) for k, v in self.memory.items()]))\n",
    "        return '{}{} -> {}'.format(prefix, self.name, ', '.join(self.destination_modules))"
   ]
  },
  {
   "cell_type": "code",
   "execution_count": 6,
   "id": "6da6318b-8fcc-45bc-b61d-cdbe053ba24f",
   "metadata": {},
   "outputs": [],
   "source": [
    "def get_input(fname='test.txt'):\n",
    "    modules = {}\n",
    "    with open(fname) as f:\n",
    "        for l in f.readlines():\n",
    "            line = l.rstrip()\n",
    "            m, dlist = line.split(' -> ')\n",
    "            dest = dlist.split(', ')\n",
    "            mname = m\n",
    "            module = None\n",
    "            if m[0] == '%':\n",
    "                mname = m[1:]\n",
    "                module = FlipFlopModule(mname, dest)\n",
    "            elif m[0] == '&':\n",
    "                mname = m[1:]\n",
    "                module = ConjunctionModule(mname, dest)\n",
    "            else:\n",
    "                module = Module(mname, dest)\n",
    "            modules[mname] = module\n",
    "    return modules"
   ]
  },
  {
   "cell_type": "code",
   "execution_count": 7,
   "id": "5f423515-a072-4ced-bde7-152448231c41",
   "metadata": {},
   "outputs": [],
   "source": [
    "test_input = get_input('test.txt')\n",
    "my_input = get_input('input.txt')"
   ]
  },
  {
   "cell_type": "code",
   "execution_count": 8,
   "id": "83c6027d-0c39-450a-a48f-a59be0f6c9bd",
   "metadata": {},
   "outputs": [
    {
     "data": {
      "text/plain": [
       "[broadcaster -> a, %a -> inv, con, &inv -> b, %b -> con, &con -> output]"
      ]
     },
     "execution_count": 8,
     "metadata": {},
     "output_type": "execute_result"
    }
   ],
   "source": [
    "list(test_input.values())"
   ]
  },
  {
   "cell_type": "code",
   "execution_count": 9,
   "id": "0441137b-5a12-4cd0-927e-bb60ebadc630",
   "metadata": {},
   "outputs": [],
   "source": [
    "def set_inputs(modules):\n",
    "    inputs = {}\n",
    "    for name, module in modules.items():\n",
    "        for dest in module.destination_modules:\n",
    "            if dest not in inputs:\n",
    "                inputs[dest] = []\n",
    "            inputs[dest].append(name)\n",
    "    for module in modules.values():\n",
    "        if type(module) == ConjunctionModule:\n",
    "            module.set_input_modules(inputs[module.name])"
   ]
  },
  {
   "cell_type": "code",
   "execution_count": 10,
   "id": "0a8fe3c4-7991-493c-b78d-65ac283c14dc",
   "metadata": {},
   "outputs": [],
   "source": [
    "set_inputs(test_input)\n",
    "set_inputs(my_input)"
   ]
  },
  {
   "cell_type": "code",
   "execution_count": 11,
   "id": "71fb3834-0638-48da-8699-363f36f08dcd",
   "metadata": {},
   "outputs": [],
   "source": [
    "def solve1(modules, loops=1000):\n",
    "    counts = [0, 0] # LOW, HIGH\n",
    "    sig_str = ['low', 'high']\n",
    "    for i in range(loops):\n",
    "        q = deque([('broadcaster', 'button', Signal.LOW)])\n",
    "        ccounts = [0, 0]\n",
    "        while q:\n",
    "            name, source, signal = q.popleft()\n",
    "            # print(\"{} -{}-> {}\".format(source, sig_str[signal], name))\n",
    "            ccounts[signal] += 1\n",
    "            if name not in modules:\n",
    "                continue\n",
    "            nexts = modules[name].receive(source, signal)\n",
    "            q.extend(nexts)\n",
    "        counts[0] += ccounts[0]\n",
    "        counts[1] += ccounts[1]\n",
    "    return counts[0] * counts[1]"
   ]
  },
  {
   "cell_type": "code",
   "execution_count": 12,
   "id": "3e20b43d-74c9-4d50-b99e-fcab065083a5",
   "metadata": {},
   "outputs": [
    {
     "data": {
      "text/plain": [
       "11687500"
      ]
     },
     "execution_count": 12,
     "metadata": {},
     "output_type": "execute_result"
    }
   ],
   "source": [
    "test_input = get_input('test.txt')\n",
    "set_inputs(test_input)\n",
    "solve1(test_input)"
   ]
  },
  {
   "cell_type": "code",
   "execution_count": 13,
   "id": "917a022c-f508-4862-a8aa-b58eebe90868",
   "metadata": {},
   "outputs": [
    {
     "data": {
      "text/plain": [
       "32000000"
      ]
     },
     "execution_count": 13,
     "metadata": {},
     "output_type": "execute_result"
    }
   ],
   "source": [
    "test_simple = get_input('test_simple.txt')\n",
    "set_inputs(test_simple)\n",
    "solve1(test_simple)"
   ]
  },
  {
   "cell_type": "code",
   "execution_count": 14,
   "id": "07b2804b-a4dd-4731-bea0-72049d301ae9",
   "metadata": {},
   "outputs": [
    {
     "data": {
      "text/plain": [
       "834323022"
      ]
     },
     "execution_count": 14,
     "metadata": {},
     "output_type": "execute_result"
    }
   ],
   "source": [
    "solve1(my_input)"
   ]
  },
  {
   "cell_type": "code",
   "execution_count": 15,
   "id": "1560f67d-97e5-4932-8771-1931150e070c",
   "metadata": {},
   "outputs": [],
   "source": [
    "my_input = get_input('input.txt')\n",
    "set_inputs(my_input)"
   ]
  },
  {
   "cell_type": "code",
   "execution_count": 16,
   "id": "c6371b34-939c-4df2-bed0-862f8b4ebac1",
   "metadata": {},
   "outputs": [],
   "source": [
    "with open('input.dot', 'w') as f:\n",
    "    print('digraph input {', file=f)\n",
    "    print('  {', file=f)\n",
    "    for module in my_input.values():\n",
    "        if type(module) == FlipFlopModule:\n",
    "            print('    {} [shape=invtriangle color=blue]'.format(module.name), file=f)\n",
    "        elif type(module) == ConjunctionModule:\n",
    "            print('    {} [shape=invhouse color=red]'.format(module.name), file=f)\n",
    "        else:\n",
    "            print('    {} [shape=oval]'.format(module.name), file=f)\n",
    "    print('  }', file=f)\n",
    "    for module in my_input.values():\n",
    "        if type(module) in (FlipFlopModule, ConjunctionModule):\n",
    "            print('  {}'.format(repr(module)[1:]), file=f)\n",
    "        else:\n",
    "            print('  {}'.format(repr(module)), file=f)\n",
    "    print('}', file=f)"
   ]
  },
  {
   "cell_type": "code",
   "execution_count": 17,
   "id": "3f3133b0-eb1f-4343-a516-20c3b9b85e34",
   "metadata": {},
   "outputs": [],
   "source": [
    "def cycle_length(modules):\n",
    "    states = set(tuple(repr(m) for m in modules.values()))\n",
    "    loops = 0\n",
    "    while True:\n",
    "        loops += 1\n",
    "        q = deque([('broadcaster', 'button', Signal.LOW)])\n",
    "        ccounts = [0, 0]\n",
    "        while q:\n",
    "            name, source, signal = q.popleft()\n",
    "            if name not in modules:\n",
    "                continue\n",
    "            nexts = modules[name].receive(source, signal)\n",
    "            q.extend(nexts)\n",
    "        state = tuple(repr(m) for m in modules.values())\n",
    "        if state in states:\n",
    "            break\n",
    "        states.add(state)\n",
    "    return loops - 1"
   ]
  },
  {
   "cell_type": "code",
   "execution_count": 18,
   "id": "7de5488e-7ef0-4f53-acdd-83dca5f8eb95",
   "metadata": {},
   "outputs": [
    {
     "data": {
      "text/plain": [
       "4"
      ]
     },
     "execution_count": 18,
     "metadata": {},
     "output_type": "execute_result"
    }
   ],
   "source": [
    "test_input = get_input('test.txt')\n",
    "set_inputs(test_input)\n",
    "cycle_length(test_input)"
   ]
  },
  {
   "cell_type": "code",
   "execution_count": 19,
   "id": "65fbe4db-0ed8-4c03-a0af-129c1d2e1b8e",
   "metadata": {},
   "outputs": [],
   "source": [
    "my_input = get_input('input.txt')\n",
    "set_inputs(my_input)\n",
    "\n",
    "broadcast_destinations = my_input['broadcaster'].destination_modules\n",
    "\n",
    "cycle_lengths = []\n",
    "\n",
    "for dest in broadcast_destinations:\n",
    "    my_input['broadcaster'].destination_modules = [dest]\n",
    "    cycle_lengths.append(cycle_length(my_input))"
   ]
  },
  {
   "cell_type": "code",
   "execution_count": 20,
   "id": "1f5d079a-7acc-464b-8849-5c0cbbe97df1",
   "metadata": {},
   "outputs": [
    {
     "data": {
      "text/plain": [
       "[4001, 3739, 3821, 3943]"
      ]
     },
     "execution_count": 20,
     "metadata": {},
     "output_type": "execute_result"
    }
   ],
   "source": [
    "cycle_lengths"
   ]
  },
  {
   "cell_type": "code",
   "execution_count": 21,
   "id": "3e503bd1-a2f3-4f1b-8bf6-2a78ff0d0e59",
   "metadata": {},
   "outputs": [
    {
     "name": "stdout",
     "output_type": "stream",
     "text": [
      "225386464601017\n"
     ]
    }
   ],
   "source": [
    "from math import lcm\n",
    "print(lcm(*cycle_lengths))"
   ]
  },
  {
   "cell_type": "code",
   "execution_count": null,
   "id": "40822d75-678d-48ca-b9a4-28f1535af1f8",
   "metadata": {},
   "outputs": [],
   "source": []
  }
 ],
 "metadata": {
  "kernelspec": {
   "display_name": "Python 3 (ipykernel)",
   "language": "python",
   "name": "python3"
  },
  "language_info": {
   "codemirror_mode": {
    "name": "ipython",
    "version": 3
   },
   "file_extension": ".py",
   "mimetype": "text/x-python",
   "name": "python",
   "nbconvert_exporter": "python",
   "pygments_lexer": "ipython3",
   "version": "3.11.6"
  }
 },
 "nbformat": 4,
 "nbformat_minor": 5
}
