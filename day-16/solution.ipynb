{
 "cells": [
  {
   "cell_type": "code",
   "execution_count": 1,
   "id": "6da6318b-8fcc-45bc-b61d-cdbe053ba24f",
   "metadata": {},
   "outputs": [],
   "source": [
    "def get_input(fname='test.txt'):\n",
    "    input = []\n",
    "    with open(fname) as f:\n",
    "        for l in f.readlines():\n",
    "            line = l.rstrip()\n",
    "            input.append(list(line))\n",
    "    return input"
   ]
  },
  {
   "cell_type": "code",
   "execution_count": 2,
   "id": "5f423515-a072-4ced-bde7-152448231c41",
   "metadata": {},
   "outputs": [],
   "source": [
    "test_input = get_input('test.txt')\n",
    "my_input = get_input('input.txt')"
   ]
  },
  {
   "cell_type": "code",
   "execution_count": 3,
   "id": "83c6027d-0c39-450a-a48f-a59be0f6c9bd",
   "metadata": {},
   "outputs": [
    {
     "data": {
      "text/plain": [
       "[['.', '|', '.', '.', '.', '\\\\', '.', '.', '.', '.'],\n",
       " ['|', '.', '-', '.', '\\\\', '.', '.', '.', '.', '.'],\n",
       " ['.', '.', '.', '.', '.', '|', '-', '.', '.', '.'],\n",
       " ['.', '.', '.', '.', '.', '.', '.', '.', '|', '.'],\n",
       " ['.', '.', '.', '.', '.', '.', '.', '.', '.', '.'],\n",
       " ['.', '.', '.', '.', '.', '.', '.', '.', '.', '\\\\'],\n",
       " ['.', '.', '.', '.', '/', '.', '\\\\', '\\\\', '.', '.'],\n",
       " ['.', '-', '.', '-', '/', '.', '.', '|', '.', '.'],\n",
       " ['.', '|', '.', '.', '.', '.', '-', '|', '.', '\\\\'],\n",
       " ['.', '.', '/', '/', '.', '|', '.', '.', '.', '.']]"
      ]
     },
     "execution_count": 3,
     "metadata": {},
     "output_type": "execute_result"
    }
   ],
   "source": [
    "test_input"
   ]
  },
  {
   "cell_type": "code",
   "execution_count": 4,
   "id": "8bdf9784-b7f7-402f-8132-534004750ccd",
   "metadata": {},
   "outputs": [],
   "source": [
    "UP = (-1, 0)\n",
    "DOWN = (1, 0)\n",
    "RIGHT = (0, 1)\n",
    "LEFT = (0, -1)"
   ]
  },
  {
   "cell_type": "code",
   "execution_count": 5,
   "id": "add466a4-1821-4a7a-9a51-f2c4198f70b4",
   "metadata": {},
   "outputs": [],
   "source": [
    "NEXT_DIRECTIONS = {\n",
    "    '.': {\n",
    "        UP: [UP],\n",
    "        DOWN: [DOWN],\n",
    "        RIGHT: [RIGHT],\n",
    "        LEFT: [LEFT],\n",
    "    },\n",
    "    '-': {\n",
    "        UP: [RIGHT, LEFT],\n",
    "        DOWN: [RIGHT, LEFT],\n",
    "        RIGHT: [RIGHT],\n",
    "        LEFT: [LEFT],\n",
    "    },\n",
    "    '|': {\n",
    "        UP: [UP],\n",
    "        DOWN: [DOWN],\n",
    "        RIGHT: [UP, DOWN],\n",
    "        LEFT: [UP, DOWN],\n",
    "    },\n",
    "    '/': {\n",
    "        UP: [RIGHT],\n",
    "        DOWN: [LEFT],\n",
    "        RIGHT: [UP],\n",
    "        LEFT: [DOWN],\n",
    "    },\n",
    "    '\\\\': {\n",
    "        UP: [LEFT],\n",
    "        DOWN: [RIGHT],\n",
    "        RIGHT: [DOWN],\n",
    "        LEFT: [UP],\n",
    "    }\n",
    "}"
   ]
  },
  {
   "cell_type": "code",
   "execution_count": 6,
   "id": "b17809e9-fde6-4759-a649-c048776f2df1",
   "metadata": {},
   "outputs": [],
   "source": [
    "def solve1(grid, start_pos=None):\n",
    "    beam_grid = { i: { j: set() for j in range(len(l)) } for i, l in enumerate(grid) }\n",
    "    beams = start_pos or [((0, -1), RIGHT)]\n",
    "    while beams:\n",
    "        new_beams = []\n",
    "        for pos, dir in beams:\n",
    "            new_pos = (pos[0] + dir[0], pos[1] + dir[1])\n",
    "            if new_pos[0] not in beam_grid or new_pos[1] not in beam_grid[0]:\n",
    "                continue\n",
    "            for new_dir in NEXT_DIRECTIONS[grid[new_pos[0]][new_pos[1]]][dir]:\n",
    "                if new_dir not in beam_grid[new_pos[0]][new_pos[1]]:\n",
    "                    # print(new_pos, new_dir)\n",
    "                    # continue\n",
    "                    beam_grid[new_pos[0]][new_pos[1]].add(new_dir)\n",
    "                    new_beams.append((new_pos, new_dir))\n",
    "        beams = new_beams\n",
    "    return beam_grid"
   ]
  },
  {
   "cell_type": "code",
   "execution_count": 7,
   "id": "619f2e6b-f2b1-46c0-9121-60994fd090bd",
   "metadata": {},
   "outputs": [],
   "source": [
    "DIRECTIONS_TO_STR = {\n",
    "    UP: '^',\n",
    "    DOWN: 'v',\n",
    "    RIGHT: '>',\n",
    "    LEFT: '<',\n",
    "}"
   ]
  },
  {
   "cell_type": "code",
   "execution_count": 8,
   "id": "dc9eb79c-dc40-4a09-b002-10a2eb5f44bb",
   "metadata": {},
   "outputs": [],
   "source": [
    "def print_beams(grid, simple=False):\n",
    "    lines = []\n",
    "    for i in range(len(grid)):\n",
    "        line = []\n",
    "        l = grid[i]\n",
    "        for j in range(len(l)):\n",
    "            s = grid[i][j]\n",
    "            if simple:\n",
    "                line.append('.' if not s else '#')\n",
    "                continue\n",
    "            if not s:\n",
    "                line.append('.')\n",
    "            elif len(s) > 1:\n",
    "                line.append(str(len(s)))\n",
    "            else:\n",
    "                line.append(DIRECTIONS_TO_STR[next(iter(s))])\n",
    "        lines.append(line)\n",
    "    return '\\n'.join(''.join(l) for l in lines)"
   ]
  },
  {
   "cell_type": "code",
   "execution_count": 9,
   "id": "4eb59974-2919-46eb-bed1-555eb3b019ac",
   "metadata": {},
   "outputs": [
    {
     "name": "stdout",
     "output_type": "stream",
     "text": [
      "######....\n",
      ".#...#....\n",
      ".#...#####\n",
      ".#...##...\n",
      ".#...##...\n",
      ".#...##...\n",
      ".#..####..\n",
      "########..\n",
      ".#######..\n",
      ".#...#.#..\n"
     ]
    }
   ],
   "source": [
    "print(print_beams(solve1(test_input), True))"
   ]
  },
  {
   "cell_type": "code",
   "execution_count": 10,
   "id": "01fc6255-9c95-41a2-8e13-0aee2fc7020f",
   "metadata": {},
   "outputs": [
    {
     "data": {
      "text/plain": [
       "46"
      ]
     },
     "execution_count": 10,
     "metadata": {},
     "output_type": "execute_result"
    }
   ],
   "source": [
    "sum(1 for l in solve1(test_input).values() for s in l.values() if s)"
   ]
  },
  {
   "cell_type": "code",
   "execution_count": 11,
   "id": "e2a4869c-c612-471c-884b-18076d76c58b",
   "metadata": {},
   "outputs": [
    {
     "data": {
      "text/plain": [
       "8249"
      ]
     },
     "execution_count": 11,
     "metadata": {},
     "output_type": "execute_result"
    }
   ],
   "source": [
    "sum(1 for l in solve1(my_input).values() for s in l.values() if s)"
   ]
  },
  {
   "cell_type": "code",
   "execution_count": 12,
   "id": "7c7a0ef9-cdd2-4117-8d1a-1e003c41b3e6",
   "metadata": {},
   "outputs": [],
   "source": [
    "def solve2(grid):\n",
    "    max_energized = 0\n",
    "    for i in range(len(grid)):\n",
    "        v1 = sum(1 for l in solve1(grid, [((i, -1), RIGHT)]).values() for s in l.values() if s)\n",
    "        v2 = sum(1 for l in solve1(grid, [((i, len(grid[i])), LEFT)]).values() for s in l.values() if s)\n",
    "        max_energized = max(max_energized, v1, v2)\n",
    "    for j in range(len(grid[0])):\n",
    "        v1 = sum(1 for l in solve1(grid, [((-1, j), DOWN)]).values() for s in l.values() if s)\n",
    "        v2 = sum(1 for l in solve1(grid, [((-1, len(grid)), UP)]).values() for s in l.values() if s)\n",
    "        max_energized = max(max_energized, v1, v2)\n",
    "    return max_energized"
   ]
  },
  {
   "cell_type": "code",
   "execution_count": 13,
   "id": "ef3461df-0466-4182-b02c-39a8633b5765",
   "metadata": {},
   "outputs": [
    {
     "data": {
      "text/plain": [
       "51"
      ]
     },
     "execution_count": 13,
     "metadata": {},
     "output_type": "execute_result"
    }
   ],
   "source": [
    "solve2(test_input)"
   ]
  },
  {
   "cell_type": "code",
   "execution_count": 14,
   "id": "fc7e5b1b-bff2-475a-b38a-be5cd4254fec",
   "metadata": {},
   "outputs": [
    {
     "data": {
      "text/plain": [
       "8444"
      ]
     },
     "execution_count": 14,
     "metadata": {},
     "output_type": "execute_result"
    }
   ],
   "source": [
    "solve2(my_input)"
   ]
  },
  {
   "cell_type": "code",
   "execution_count": null,
   "id": "c4370d94-a0e9-4554-9751-1c7c0b6fc3a9",
   "metadata": {},
   "outputs": [],
   "source": []
  }
 ],
 "metadata": {
  "kernelspec": {
   "display_name": "Python 3 (ipykernel)",
   "language": "python",
   "name": "python3"
  },
  "language_info": {
   "codemirror_mode": {
    "name": "ipython",
    "version": 3
   },
   "file_extension": ".py",
   "mimetype": "text/x-python",
   "name": "python",
   "nbconvert_exporter": "python",
   "pygments_lexer": "ipython3",
   "version": "3.11.6"
  }
 },
 "nbformat": 4,
 "nbformat_minor": 5
}
