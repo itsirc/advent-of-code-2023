{
 "cells": [
  {
   "cell_type": "code",
   "execution_count": 1,
   "id": "6da6318b-8fcc-45bc-b61d-cdbe053ba24f",
   "metadata": {},
   "outputs": [],
   "source": [
    "def get_input(fname='test.txt'):\n",
    "    input = []\n",
    "    with open(fname) as f:\n",
    "        for l in f.readlines():\n",
    "            line = l.strip()\n",
    "            input.append(list(line))\n",
    "    return input"
   ]
  },
  {
   "cell_type": "code",
   "execution_count": 2,
   "id": "5f423515-a072-4ced-bde7-152448231c41",
   "metadata": {},
   "outputs": [],
   "source": [
    "test_input = get_input('test.txt')\n",
    "my_input = get_input('input.txt')"
   ]
  },
  {
   "cell_type": "code",
   "execution_count": 3,
   "id": "83c6027d-0c39-450a-a48f-a59be0f6c9bd",
   "metadata": {},
   "outputs": [],
   "source": [
    "def print_grid(g):\n",
    "    print('\\n'.join([''.join(l) for l in g]))"
   ]
  },
  {
   "cell_type": "code",
   "execution_count": 4,
   "id": "a904d1ba-f921-4114-a12b-ee9b6736d385",
   "metadata": {},
   "outputs": [
    {
     "name": "stdout",
     "output_type": "stream",
     "text": [
      "...#......\n",
      ".......#..\n",
      "#.........\n",
      "..........\n",
      "......#...\n",
      ".#........\n",
      ".........#\n",
      "..........\n",
      ".......#..\n",
      "#...#.....\n"
     ]
    }
   ],
   "source": [
    "print_grid(test_input)"
   ]
  },
  {
   "cell_type": "code",
   "execution_count": 5,
   "id": "1a85c1c2-034d-4bf2-9c42-d2830b390f94",
   "metadata": {},
   "outputs": [],
   "source": [
    "from collections import deque\n",
    "\n",
    "def get_distances(g):\n",
    "    galaxies = []\n",
    "    lines_costs = []\n",
    "    for i, l in enumerate(g):\n",
    "        lines_costs.append(1)\n",
    "        v = set()\n",
    "        for j, c in enumerate(l):\n",
    "            if c == '#':\n",
    "                galaxies.append((i, j))\n",
    "            v.add(c)\n",
    "        if v == {'.'}:\n",
    "            lines_costs[-1] = 2\n",
    "    columns_costs = []\n",
    "    for j in range(len(g[0])):\n",
    "        columns_costs.append(1)\n",
    "        v = set(g[i][j] for i in range(len(g)))\n",
    "        if v == {'.'}:\n",
    "            columns_costs[-1] = 2\n",
    "    distances = {}\n",
    "    q = deque(galaxies)\n",
    "    while len(q) > 1:\n",
    "        g1 = q.popleft()\n",
    "        distances[g1] = {}\n",
    "        for g2 in q:\n",
    "            i1, i2 = g1[0], g2[0]\n",
    "            j1, j2 = g1[1], g2[1]\n",
    "            if i1 > i2:\n",
    "                i1, i2 = i2, i1\n",
    "            if j1 > j2:\n",
    "                j1, j2 = j2, j1\n",
    "            d = sum(lines_costs[i] for i in range(i1 + 1, 1 + i2)) + sum(columns_costs[j] for j in range(j1 + 1, 1 + j2))\n",
    "            distances[g1][g2] = d\n",
    "    return distances"
   ]
  },
  {
   "cell_type": "code",
   "execution_count": 6,
   "id": "87506156-ba1b-4353-ac35-a4ff79b4f1a8",
   "metadata": {},
   "outputs": [
    {
     "data": {
      "text/plain": [
       "{(0, 3): {(1, 7): 6,\n",
       "  (2, 0): 6,\n",
       "  (4, 6): 9,\n",
       "  (5, 1): 9,\n",
       "  (6, 9): 15,\n",
       "  (8, 7): 15,\n",
       "  (9, 0): 15,\n",
       "  (9, 4): 12},\n",
       " (1, 7): {(2, 0): 10,\n",
       "  (4, 6): 5,\n",
       "  (5, 1): 13,\n",
       "  (6, 9): 9,\n",
       "  (8, 7): 9,\n",
       "  (9, 0): 19,\n",
       "  (9, 4): 14},\n",
       " (2, 0): {(4, 6): 11,\n",
       "  (5, 1): 5,\n",
       "  (6, 9): 17,\n",
       "  (8, 7): 17,\n",
       "  (9, 0): 9,\n",
       "  (9, 4): 14},\n",
       " (4, 6): {(5, 1): 8, (6, 9): 6, (8, 7): 6, (9, 0): 14, (9, 4): 9},\n",
       " (5, 1): {(6, 9): 12, (8, 7): 12, (9, 0): 6, (9, 4): 9},\n",
       " (6, 9): {(8, 7): 6, (9, 0): 16, (9, 4): 11},\n",
       " (8, 7): {(9, 0): 10, (9, 4): 5},\n",
       " (9, 0): {(9, 4): 5}}"
      ]
     },
     "execution_count": 6,
     "metadata": {},
     "output_type": "execute_result"
    }
   ],
   "source": [
    "get_distances(test_input)"
   ]
  },
  {
   "cell_type": "code",
   "execution_count": 7,
   "id": "f0e7adb9-6ae0-4776-80a9-09b41da25b05",
   "metadata": {},
   "outputs": [
    {
     "data": {
      "text/plain": [
       "374"
      ]
     },
     "execution_count": 7,
     "metadata": {},
     "output_type": "execute_result"
    }
   ],
   "source": [
    "sum(v for g in get_distances(test_input).values() for v in g.values())"
   ]
  },
  {
   "cell_type": "code",
   "execution_count": 8,
   "id": "e9d163e7-2d3a-45ae-b21d-1d930490dd25",
   "metadata": {},
   "outputs": [
    {
     "data": {
      "text/plain": [
       "9609130"
      ]
     },
     "execution_count": 8,
     "metadata": {},
     "output_type": "execute_result"
    }
   ],
   "source": [
    "sum(v for g in get_distances(my_input).values() for v in g.values())"
   ]
  },
  {
   "cell_type": "code",
   "execution_count": 9,
   "id": "71cb13f9-1a82-4437-913a-2dea69d744e0",
   "metadata": {},
   "outputs": [],
   "source": [
    "def get_distances2(g, expand=1_000_000):\n",
    "    galaxies = []\n",
    "    lines_costs = []\n",
    "    for i, l in enumerate(g):\n",
    "        lines_costs.append(1)\n",
    "        v = set()\n",
    "        for j, c in enumerate(l):\n",
    "            if c == '#':\n",
    "                galaxies.append((i, j))\n",
    "            v.add(c)\n",
    "        if v == {'.'}:\n",
    "            lines_costs[-1] = expand\n",
    "    columns_costs = []\n",
    "    for j in range(len(g[0])):\n",
    "        columns_costs.append(1)\n",
    "        v = set(g[i][j] for i in range(len(g)))\n",
    "        if v == {'.'}:\n",
    "            columns_costs[-1] = expand\n",
    "    distances = {}\n",
    "    q = deque(galaxies)\n",
    "    while len(q) > 1:\n",
    "        g1 = q.popleft()\n",
    "        distances[g1] = {}\n",
    "        for g2 in q:\n",
    "            i1, i2 = g1[0], g2[0]\n",
    "            j1, j2 = g1[1], g2[1]\n",
    "            if i1 > i2:\n",
    "                i1, i2 = i2, i1\n",
    "            if j1 > j2:\n",
    "                j1, j2 = j2, j1\n",
    "            d = sum(lines_costs[i] for i in range(i1 + 1, 1 + i2)) + sum(columns_costs[j] for j in range(j1 + 1, 1 + j2))\n",
    "            distances[g1][g2] = d\n",
    "    return distances"
   ]
  },
  {
   "cell_type": "code",
   "execution_count": 10,
   "id": "bee895fe-3500-41ee-9022-0675f7cb3a80",
   "metadata": {},
   "outputs": [
    {
     "data": {
      "text/plain": [
       "1030"
      ]
     },
     "execution_count": 10,
     "metadata": {},
     "output_type": "execute_result"
    }
   ],
   "source": [
    "sum(v for g in get_distances2(test_input, 10).values() for v in g.values())"
   ]
  },
  {
   "cell_type": "code",
   "execution_count": 11,
   "id": "3fc534fa-39f3-45ff-8040-a2d030744ac9",
   "metadata": {},
   "outputs": [
    {
     "data": {
      "text/plain": [
       "702152204842"
      ]
     },
     "execution_count": 11,
     "metadata": {},
     "output_type": "execute_result"
    }
   ],
   "source": [
    "sum(v for g in get_distances2(my_input, 1_000_000).values() for v in g.values())"
   ]
  },
  {
   "cell_type": "code",
   "execution_count": null,
   "id": "0413fca1-307a-4819-ab7e-8847d106ef19",
   "metadata": {},
   "outputs": [],
   "source": []
  }
 ],
 "metadata": {
  "kernelspec": {
   "display_name": "Python 3 (ipykernel)",
   "language": "python",
   "name": "python3"
  },
  "language_info": {
   "codemirror_mode": {
    "name": "ipython",
    "version": 3
   },
   "file_extension": ".py",
   "mimetype": "text/x-python",
   "name": "python",
   "nbconvert_exporter": "python",
   "pygments_lexer": "ipython3",
   "version": "3.11.6"
  }
 },
 "nbformat": 4,
 "nbformat_minor": 5
}
