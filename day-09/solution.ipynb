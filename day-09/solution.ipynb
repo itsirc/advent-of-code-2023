{
 "cells": [
  {
   "cell_type": "code",
   "execution_count": 1,
   "id": "6da6318b-8fcc-45bc-b61d-cdbe053ba24f",
   "metadata": {},
   "outputs": [],
   "source": [
    "def get_input(fname='test.txt'):\n",
    "    input = []\n",
    "    with open(fname) as f:\n",
    "        for l in f.readlines():\n",
    "            line = l.rstrip()\n",
    "            input.append([int(i) for i in line.split(' ')])\n",
    "    return input"
   ]
  },
  {
   "cell_type": "code",
   "execution_count": 2,
   "id": "5f423515-a072-4ced-bde7-152448231c41",
   "metadata": {},
   "outputs": [],
   "source": [
    "test_input = get_input('test.txt')\n",
    "my_input = get_input('input.txt')"
   ]
  },
  {
   "cell_type": "code",
   "execution_count": 3,
   "id": "83c6027d-0c39-450a-a48f-a59be0f6c9bd",
   "metadata": {},
   "outputs": [
    {
     "data": {
      "text/plain": [
       "[[0, 3, 6, 9, 12, 15], [1, 3, 6, 10, 15, 21], [10, 13, 16, 21, 30, 45]]"
      ]
     },
     "execution_count": 3,
     "metadata": {},
     "output_type": "execute_result"
    }
   ],
   "source": [
    "test_input"
   ]
  },
  {
   "cell_type": "code",
   "execution_count": 4,
   "id": "c4231ccd-bb90-4967-b67f-54371dbc2d25",
   "metadata": {},
   "outputs": [],
   "source": [
    "def predict(values):\n",
    "    distinct = set(values)\n",
    "    differences = [list(values)]\n",
    "    while distinct != { 0 }:\n",
    "        distinct = set()\n",
    "        current = []\n",
    "        for i in range(len(differences[-1]) - 1):\n",
    "            v = differences[-1][i+1] - differences[-1][i]\n",
    "            current.append(v)\n",
    "            distinct.add(v)\n",
    "        differences.append(current)\n",
    "    for i in range(len(differences)-1, 0, -1):\n",
    "        differences[i-1].append(differences[i-1][-1]+differences[i][-1])\n",
    "    return differences[0][-1]"
   ]
  },
  {
   "cell_type": "code",
   "execution_count": 5,
   "id": "4582b41b-9ea2-4074-96d6-c0cf1deb1ca9",
   "metadata": {},
   "outputs": [
    {
     "data": {
      "text/plain": [
       "18"
      ]
     },
     "execution_count": 5,
     "metadata": {},
     "output_type": "execute_result"
    }
   ],
   "source": [
    "predict(test_input[0])"
   ]
  },
  {
   "cell_type": "code",
   "execution_count": 6,
   "id": "6ea67189-0fbb-42d2-9ab5-f3580c1c5774",
   "metadata": {},
   "outputs": [
    {
     "data": {
      "text/plain": [
       "[18, 28, 68]"
      ]
     },
     "execution_count": 6,
     "metadata": {},
     "output_type": "execute_result"
    }
   ],
   "source": [
    "[predict(l) for l in test_input]"
   ]
  },
  {
   "cell_type": "code",
   "execution_count": 7,
   "id": "0a43c4fc-483a-450d-9f06-72b6d87c7a62",
   "metadata": {},
   "outputs": [
    {
     "data": {
      "text/plain": [
       "114"
      ]
     },
     "execution_count": 7,
     "metadata": {},
     "output_type": "execute_result"
    }
   ],
   "source": [
    "sum(predict(l) for l in test_input)"
   ]
  },
  {
   "cell_type": "code",
   "execution_count": 8,
   "id": "c07df317-3ee0-4df3-a4be-c3d509440858",
   "metadata": {},
   "outputs": [
    {
     "data": {
      "text/plain": [
       "1877825184"
      ]
     },
     "execution_count": 8,
     "metadata": {},
     "output_type": "execute_result"
    }
   ],
   "source": [
    "sum(predict(l) for l in my_input)"
   ]
  },
  {
   "cell_type": "code",
   "execution_count": 9,
   "id": "50efe723-78bf-4c39-b8cb-ebfd121f4bbb",
   "metadata": {},
   "outputs": [],
   "source": [
    "from collections import deque\n",
    "\n",
    "def predict_backwards(values):\n",
    "    distinct = set(values)\n",
    "    differences = [deque(values)]\n",
    "    while distinct != { 0 }:\n",
    "        distinct = set()\n",
    "        current = deque()\n",
    "        for i in range(len(differences[-1]) - 1):\n",
    "            v = differences[-1][i+1] - differences[-1][i]\n",
    "            current.append(v)\n",
    "            distinct.add(v)\n",
    "        differences.append(current)\n",
    "    for i in range(len(differences)-1, 0, -1):\n",
    "        differences[i-1].appendleft(differences[i-1][0] - differences[i][0])\n",
    "    return differences[0][0]"
   ]
  },
  {
   "cell_type": "code",
   "execution_count": 10,
   "id": "c3d681a9-f89a-45b6-be6b-c3d8f2b02935",
   "metadata": {},
   "outputs": [
    {
     "data": {
      "text/plain": [
       "[-3, 0, 5]"
      ]
     },
     "execution_count": 10,
     "metadata": {},
     "output_type": "execute_result"
    }
   ],
   "source": [
    "[predict_backwards(l) for l in test_input]"
   ]
  },
  {
   "cell_type": "code",
   "execution_count": 11,
   "id": "92629d70-4ed0-494e-8fb2-51e4e4c0cc81",
   "metadata": {},
   "outputs": [
    {
     "data": {
      "text/plain": [
       "1108"
      ]
     },
     "execution_count": 11,
     "metadata": {},
     "output_type": "execute_result"
    }
   ],
   "source": [
    "sum(predict_backwards(l) for l in my_input)"
   ]
  },
  {
   "cell_type": "code",
   "execution_count": null,
   "id": "fe6eca59-9146-4df2-99df-e119d0c6246e",
   "metadata": {},
   "outputs": [],
   "source": []
  }
 ],
 "metadata": {
  "kernelspec": {
   "display_name": "Python 3 (ipykernel)",
   "language": "python",
   "name": "python3"
  },
  "language_info": {
   "codemirror_mode": {
    "name": "ipython",
    "version": 3
   },
   "file_extension": ".py",
   "mimetype": "text/x-python",
   "name": "python",
   "nbconvert_exporter": "python",
   "pygments_lexer": "ipython3",
   "version": "3.11.6"
  }
 },
 "nbformat": 4,
 "nbformat_minor": 5
}
