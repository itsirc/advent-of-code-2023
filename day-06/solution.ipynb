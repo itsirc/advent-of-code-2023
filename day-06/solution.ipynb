{
 "cells": [
  {
   "cell_type": "code",
   "execution_count": 1,
   "id": "5f423515-a072-4ced-bde7-152448231c41",
   "metadata": {},
   "outputs": [],
   "source": [
    "test_times, test_distances = [7, 15, 30], [9, 40, 200]\n",
    "my_times, my_distances = [53, 89, 76, 98], [313, 1090, 1214, 1201]"
   ]
  },
  {
   "cell_type": "code",
   "execution_count": 2,
   "id": "83c6027d-0c39-450a-a48f-a59be0f6c9bd",
   "metadata": {},
   "outputs": [],
   "source": [
    "def possibilities(time, dist):\n",
    "    s = 1\n",
    "    p = []\n",
    "    while s < time and s * (time - s) <= dist:\n",
    "        s += 1\n",
    "    while s < time and s * (time - s) > dist:\n",
    "        p.append(s)\n",
    "        s += 1\n",
    "    return p"
   ]
  },
  {
   "cell_type": "code",
   "execution_count": 3,
   "id": "0f34aba1-2bb3-4747-86ab-1f3649eac96f",
   "metadata": {},
   "outputs": [],
   "source": [
    "test_possibilities = [possibilities(t, d) for t, d in zip(test_times, test_distances)]"
   ]
  },
  {
   "cell_type": "code",
   "execution_count": 4,
   "id": "7bdcca9d-161b-4047-a423-6e32e23f00c4",
   "metadata": {},
   "outputs": [
    {
     "data": {
      "text/plain": [
       "[[2, 3, 4, 5],\n",
       " [4, 5, 6, 7, 8, 9, 10, 11],\n",
       " [11, 12, 13, 14, 15, 16, 17, 18, 19]]"
      ]
     },
     "execution_count": 4,
     "metadata": {},
     "output_type": "execute_result"
    }
   ],
   "source": [
    "test_possibilities"
   ]
  },
  {
   "cell_type": "code",
   "execution_count": 5,
   "id": "ea064b70-9aae-4ffa-a926-c305b990bc94",
   "metadata": {},
   "outputs": [
    {
     "name": "stdout",
     "output_type": "stream",
     "text": [
      "288\n"
     ]
    }
   ],
   "source": [
    "p = 1\n",
    "for pos in test_possibilities: p *= len(pos)\n",
    "print(p)"
   ]
  },
  {
   "cell_type": "code",
   "execution_count": 6,
   "id": "e927582b-0a69-4875-bd90-342a565ebe5c",
   "metadata": {},
   "outputs": [],
   "source": [
    "my_possibilities = [possibilities(t, d) for t, d in zip(my_times, my_distances)]"
   ]
  },
  {
   "cell_type": "code",
   "execution_count": 7,
   "id": "9a3dac67-3bed-4a80-8edb-d7803d1a5b71",
   "metadata": {},
   "outputs": [
    {
     "name": "stdout",
     "output_type": "stream",
     "text": [
      "5133600\n"
     ]
    }
   ],
   "source": [
    "p = 1\n",
    "for pos in my_possibilities: p *= len(pos)\n",
    "print(p)"
   ]
  },
  {
   "cell_type": "code",
   "execution_count": 8,
   "id": "9e80b89b-589f-4af0-bb7e-a2f64a6def40",
   "metadata": {},
   "outputs": [],
   "source": [
    "import math\n",
    "\n",
    "def possibilities2(time, dist):\n",
    "    # Solve: speed ** 2 - time * speed + dist < 0\n",
    "    delta = time ** 2 - 4 * dist\n",
    "    sqrt_delta = math.sqrt(delta)\n",
    "    f_s1, f_s2 = (time - sqrt_delta) / 2, (time + sqrt_delta) / 2\n",
    "    s1, s2 = math.ceil(f_s1), math.floor(f_s2)\n",
    "    if s1 == f_s1: s1 += 1\n",
    "    if s2 == f_s2: s2 += 1\n",
    "    return (s1, s2), s2 - s1 + 1"
   ]
  },
  {
   "cell_type": "code",
   "execution_count": 9,
   "id": "43ef77bc-1796-4d2a-bd45-4e006d555db6",
   "metadata": {},
   "outputs": [],
   "source": [
    "test_possibilities = [possibilities2(t, d) for t, d in zip(test_times, test_distances)]"
   ]
  },
  {
   "cell_type": "code",
   "execution_count": 10,
   "id": "98288354-f371-4449-b058-88517ac2cc3b",
   "metadata": {},
   "outputs": [
    {
     "data": {
      "text/plain": [
       "[((2, 5), 4), ((4, 11), 8), ((11, 21), 11)]"
      ]
     },
     "execution_count": 10,
     "metadata": {},
     "output_type": "execute_result"
    }
   ],
   "source": [
    "test_possibilities"
   ]
  },
  {
   "cell_type": "code",
   "execution_count": 11,
   "id": "bb453778-6dd5-4f81-8877-b1a540200216",
   "metadata": {},
   "outputs": [
    {
     "data": {
      "text/plain": [
       "((14, 71516), 71503)"
      ]
     },
     "execution_count": 11,
     "metadata": {},
     "output_type": "execute_result"
    }
   ],
   "source": [
    "possibilities2(71530, 940200)"
   ]
  },
  {
   "cell_type": "code",
   "execution_count": 12,
   "id": "c62555fa-41d0-4b1a-a33a-218ee2d7f079",
   "metadata": {},
   "outputs": [
    {
     "data": {
      "text/plain": [
       "((6623214, 47274484), 40651271)"
      ]
     },
     "execution_count": 12,
     "metadata": {},
     "output_type": "execute_result"
    }
   ],
   "source": [
    "possibilities2(53897698, 313109012141201)"
   ]
  },
  {
   "cell_type": "code",
   "execution_count": null,
   "id": "42dd0ccc-6a80-4ff3-9962-a059c71e5603",
   "metadata": {},
   "outputs": [],
   "source": []
  }
 ],
 "metadata": {
  "kernelspec": {
   "display_name": "Python 3 (ipykernel)",
   "language": "python",
   "name": "python3"
  },
  "language_info": {
   "codemirror_mode": {
    "name": "ipython",
    "version": 3
   },
   "file_extension": ".py",
   "mimetype": "text/x-python",
   "name": "python",
   "nbconvert_exporter": "python",
   "pygments_lexer": "ipython3",
   "version": "3.11.6"
  }
 },
 "nbformat": 4,
 "nbformat_minor": 5
}
